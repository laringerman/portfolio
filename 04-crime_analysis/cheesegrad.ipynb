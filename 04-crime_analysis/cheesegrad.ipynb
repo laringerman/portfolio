{
 "cells": [
  {
   "cell_type": "markdown",
   "id": "b7226369-8a0d-458b-aa15-64170a0f9a14",
   "metadata": {},
   "source": [
    "# Помощь начальнику полиции Сырограда"
   ]
  },
  {
   "cell_type": "markdown",
   "id": "f34e2df4-33a5-439f-b7c4-cc62bd60ca11",
   "metadata": {},
   "source": [
    "  Город Сыроград известен своей фабрикой сыра — лучший сыр в мире производится именно здесь. Этот сыр обладает  выдающимися характеристиками: он имеет большой срок хранения и уникальный вкус. Из-за этого он недоступен большинству граждан города.  \n",
    "  \n",
    " После производства, сыр развозится по складам, которые находятся в разных районах города. Каждый склад надежно охраняем. Однако, в последние 2 года участились случаи кражи сыра со склада. Полицейские не смогли понять ни по какой логике происходят кражи (например, почему в одном районе краж больше, чем в другом), ни можно ли предсказать, где будет следующая кража.  \n",
    "  \n",
    " Однако, в ходе очередного сыскного мероприятия выяснилось, что в некоторых районах, где происходили кражи, также были разбиты  фонари. Полицейские предположили, что между фактами кражи и хулиганства есть какая-то взаимосвязь.  \n",
    " Начальник полицейского участка города Сыроград предоставил нам датасет.  \n",
    "  \n",
    "**Цель исследования**  \n",
    " Статистически значимо снизить количество краж в районах города."
   ]
  },
  {
   "cell_type": "markdown",
   "id": "074f4900-d5a0-42cc-bb88-46659b543095",
   "metadata": {},
   "source": [
    "## Загрузка данных и подготовка к анализу\n"
   ]
  },
  {
   "cell_type": "markdown",
   "id": "bb6394f0-bf21-46fc-98af-e6b4992552a0",
   "metadata": {},
   "source": [
    "Импортируем необходимые для работы библиотеки."
   ]
  },
  {
   "cell_type": "code",
   "execution_count": 1,
   "id": "82c8362b-d1fb-4792-8551-b267c4d58865",
   "metadata": {},
   "outputs": [],
   "source": [
    "import pandas as pd\n",
    "import matplotlib.pyplot as plt\n",
    "import datetime as dt\n",
    "import seaborn as sns\n",
    "import numpy as np\n",
    "import warnings\n",
    "import scipy.stats as stats\n",
    "\n",
    "from scipy.stats import pearsonr, spearmanr"
   ]
  },
  {
   "cell_type": "markdown",
   "id": "00b11e91-1ce2-4447-baf3-5d3092c9b15c",
   "metadata": {},
   "source": [
    "Уберем ограничение по выводу строк, колонок и символов в записи и включаем игнорирование ошибок Jupiter."
   ]
  },
  {
   "cell_type": "code",
   "execution_count": 2,
   "id": "61bc19c3-fe9e-4563-8a28-0988987dd793",
   "metadata": {},
   "outputs": [],
   "source": [
    "# Сброс ограничений на количество выводимых рядов\n",
    "pd.set_option('display.max_rows', None)\n",
    " \n",
    "# Сброс ограничений на число столбцов\n",
    "pd.set_option('display.max_columns', None)\n",
    " \n",
    "# Сброс ограничений на количество символов в записи\n",
    "pd.set_option('display.max_colwidth', None)\n",
    "\n",
    "\n",
    "#Игнорируем предупреждения Jupiter\n",
    "warnings.filterwarnings('ignore')"
   ]
  },
  {
   "cell_type": "markdown",
   "id": "6136eb7c-5b24-4eeb-8009-e5abb550a8e6",
   "metadata": {},
   "source": [
    "Запишем датафреймм first_part.csv и second_part.csv в датасеты fp и sp соответственно."
   ]
  },
  {
   "cell_type": "code",
   "execution_count": 3,
   "id": "05aea45a-fd38-4549-8f91-9ee756da7bf9",
   "metadata": {},
   "outputs": [],
   "source": [
    "fp = pd.read_csv('Downloads/first_part.csv')\n",
    "sp = pd.read_csv('Downloads/second_part.csv')"
   ]
  },
  {
   "cell_type": "code",
   "execution_count": 4,
   "id": "5431d1f3-3ed1-470a-a63c-342c65ef0ea5",
   "metadata": {},
   "outputs": [
    {
     "data": {
      "text/html": [
       "<div>\n",
       "<style scoped>\n",
       "    .dataframe tbody tr th:only-of-type {\n",
       "        vertical-align: middle;\n",
       "    }\n",
       "\n",
       "    .dataframe tbody tr th {\n",
       "        vertical-align: top;\n",
       "    }\n",
       "\n",
       "    .dataframe thead th {\n",
       "        text-align: right;\n",
       "    }\n",
       "</style>\n",
       "<table border=\"1\" class=\"dataframe\">\n",
       "  <thead>\n",
       "    <tr style=\"text-align: right;\">\n",
       "      <th></th>\n",
       "      <th>Date</th>\n",
       "      <th>District</th>\n",
       "      <th>Warehouse_Name</th>\n",
       "      <th>Number_of_Guards</th>\n",
       "      <th>Police_Units</th>\n",
       "    </tr>\n",
       "  </thead>\n",
       "  <tbody>\n",
       "    <tr>\n",
       "      <th>0</th>\n",
       "      <td>2024-01-26</td>\n",
       "      <td>Мышеостровский</td>\n",
       "      <td>Колбасовы</td>\n",
       "      <td>7</td>\n",
       "      <td>6</td>\n",
       "    </tr>\n",
       "    <tr>\n",
       "      <th>1</th>\n",
       "      <td>2024-01-26</td>\n",
       "      <td>Мышеостровский</td>\n",
       "      <td>Молочковы</td>\n",
       "      <td>10</td>\n",
       "      <td>9</td>\n",
       "    </tr>\n",
       "    <tr>\n",
       "      <th>2</th>\n",
       "      <td>2024-01-26</td>\n",
       "      <td>Мышеостровский</td>\n",
       "      <td>Мятновы</td>\n",
       "      <td>8</td>\n",
       "      <td>8</td>\n",
       "    </tr>\n",
       "    <tr>\n",
       "      <th>3</th>\n",
       "      <td>2024-01-26</td>\n",
       "      <td>Мышеостровский</td>\n",
       "      <td>Сметанинковы</td>\n",
       "      <td>8</td>\n",
       "      <td>7</td>\n",
       "    </tr>\n",
       "    <tr>\n",
       "      <th>4</th>\n",
       "      <td>2024-01-26</td>\n",
       "      <td>Краснокотейский</td>\n",
       "      <td>Колбасовы</td>\n",
       "      <td>7</td>\n",
       "      <td>6</td>\n",
       "    </tr>\n",
       "  </tbody>\n",
       "</table>\n",
       "</div>"
      ],
      "text/plain": [
       "         Date         District Warehouse_Name  Number_of_Guards  Police_Units\n",
       "0  2024-01-26   Мышеостровский      Колбасовы                 7             6\n",
       "1  2024-01-26   Мышеостровский      Молочковы                10             9\n",
       "2  2024-01-26   Мышеостровский        Мятновы                 8             8\n",
       "3  2024-01-26   Мышеостровский   Сметанинковы                 8             7\n",
       "4  2024-01-26  Краснокотейский      Колбасовы                 7             6"
      ]
     },
     "metadata": {},
     "output_type": "display_data"
    },
    {
     "name": "stdout",
     "output_type": "stream",
     "text": [
      "<class 'pandas.core.frame.DataFrame'>\n",
      "RangeIndex: 17280 entries, 0 to 17279\n",
      "Data columns (total 5 columns):\n",
      " #   Column            Non-Null Count  Dtype \n",
      "---  ------            --------------  ----- \n",
      " 0   Date              17280 non-null  object\n",
      " 1   District          17280 non-null  object\n",
      " 2   Warehouse_Name    17280 non-null  object\n",
      " 3   Number_of_Guards  17280 non-null  int64 \n",
      " 4   Police_Units      17280 non-null  int64 \n",
      "dtypes: int64(2), object(3)\n",
      "memory usage: 675.1+ KB\n"
     ]
    },
    {
     "data": {
      "text/plain": [
       "None"
      ]
     },
     "metadata": {},
     "output_type": "display_data"
    },
    {
     "data": {
      "text/html": [
       "<div>\n",
       "<style scoped>\n",
       "    .dataframe tbody tr th:only-of-type {\n",
       "        vertical-align: middle;\n",
       "    }\n",
       "\n",
       "    .dataframe tbody tr th {\n",
       "        vertical-align: top;\n",
       "    }\n",
       "\n",
       "    .dataframe thead th {\n",
       "        text-align: right;\n",
       "    }\n",
       "</style>\n",
       "<table border=\"1\" class=\"dataframe\">\n",
       "  <thead>\n",
       "    <tr style=\"text-align: right;\">\n",
       "      <th></th>\n",
       "      <th>Date</th>\n",
       "      <th>District</th>\n",
       "      <th>Warehouse_Name</th>\n",
       "      <th>Percent_of_Crime_Solved</th>\n",
       "      <th>Number_of_Lights</th>\n",
       "    </tr>\n",
       "  </thead>\n",
       "  <tbody>\n",
       "    <tr>\n",
       "      <th>0</th>\n",
       "      <td>2024-01-26</td>\n",
       "      <td>Мышеостровский</td>\n",
       "      <td>Колбасовы</td>\n",
       "      <td>83.160960</td>\n",
       "      <td>725</td>\n",
       "    </tr>\n",
       "    <tr>\n",
       "      <th>1</th>\n",
       "      <td>2024-01-26</td>\n",
       "      <td>Мышеостровский</td>\n",
       "      <td>Молочковы</td>\n",
       "      <td>87.756487</td>\n",
       "      <td>984</td>\n",
       "    </tr>\n",
       "    <tr>\n",
       "      <th>2</th>\n",
       "      <td>2024-01-26</td>\n",
       "      <td>Мышеостровский</td>\n",
       "      <td>Мятновы</td>\n",
       "      <td>87.010121</td>\n",
       "      <td>1030</td>\n",
       "    </tr>\n",
       "    <tr>\n",
       "      <th>3</th>\n",
       "      <td>2024-01-26</td>\n",
       "      <td>Мышеостровский</td>\n",
       "      <td>Сметанинковы</td>\n",
       "      <td>82.207203</td>\n",
       "      <td>814</td>\n",
       "    </tr>\n",
       "    <tr>\n",
       "      <th>4</th>\n",
       "      <td>2024-01-26</td>\n",
       "      <td>Краснокотейский</td>\n",
       "      <td>Колбасовы</td>\n",
       "      <td>86.684716</td>\n",
       "      <td>1035</td>\n",
       "    </tr>\n",
       "  </tbody>\n",
       "</table>\n",
       "</div>"
      ],
      "text/plain": [
       "         Date         District Warehouse_Name  Percent_of_Crime_Solved  \\\n",
       "0  2024-01-26   Мышеостровский      Колбасовы                83.160960   \n",
       "1  2024-01-26   Мышеостровский      Молочковы                87.756487   \n",
       "2  2024-01-26   Мышеостровский        Мятновы                87.010121   \n",
       "3  2024-01-26   Мышеостровский   Сметанинковы                82.207203   \n",
       "4  2024-01-26  Краснокотейский      Колбасовы                86.684716   \n",
       "\n",
       "   Number_of_Lights  \n",
       "0               725  \n",
       "1               984  \n",
       "2              1030  \n",
       "3               814  \n",
       "4              1035  "
      ]
     },
     "metadata": {},
     "output_type": "display_data"
    },
    {
     "name": "stdout",
     "output_type": "stream",
     "text": [
      "<class 'pandas.core.frame.DataFrame'>\n",
      "RangeIndex: 17280 entries, 0 to 17279\n",
      "Data columns (total 5 columns):\n",
      " #   Column                   Non-Null Count  Dtype  \n",
      "---  ------                   --------------  -----  \n",
      " 0   Date                     17280 non-null  object \n",
      " 1   District                 17280 non-null  object \n",
      " 2   Warehouse_Name           17280 non-null  object \n",
      " 3   Percent_of_Crime_Solved  17280 non-null  float64\n",
      " 4   Number_of_Lights         17280 non-null  int64  \n",
      "dtypes: float64(1), int64(1), object(3)\n",
      "memory usage: 675.1+ KB\n"
     ]
    },
    {
     "data": {
      "text/plain": [
       "None"
      ]
     },
     "metadata": {},
     "output_type": "display_data"
    }
   ],
   "source": [
    "for i in (fp, sp):\n",
    "    display(i.head())\n",
    "\n",
    "    display(i.info())"
   ]
  },
  {
   "cell_type": "markdown",
   "id": "277c1c7f-6ab1-4306-8717-c0e3378d938a",
   "metadata": {},
   "source": [
    "В нашем распоряжении:  \n",
    "Датафрейм **fp** состоит из 5 колонок и 17280 строк, значение колонок:\n",
    "`Date` - дата,\n",
    "`District` - район города,\n",
    "`Warehouse_Name` - название склада,\n",
    "`Number_of_Guards` - количество охраны на складе\n",
    "`Police_Units` - количество полицейских на район\n",
    "\n",
    "Датафрейм **sp** состоит из 5 колонок и 17280 строк, значение колонок:\n",
    "`Date` - дата,\n",
    "`District` - район города,\n",
    "`Warehouse_Name` - название склада,\n",
    "`Percent_of_Crime_Solved` - процент раскрытых преступлений по уничтожению фонарей в районе\n",
    "`Number_of_Lights` - количество фонарей в районе."
   ]
  },
  {
   "cell_type": "markdown",
   "id": "cff16013-d56d-4539-a126-c1c8bdc9108a",
   "metadata": {},
   "source": [
    "### Переименование столбцов"
   ]
  },
  {
   "cell_type": "markdown",
   "id": "24e7199c-a717-4a2b-93db-c7466a0fb530",
   "metadata": {},
   "source": [
    "Приведем название столбцов к нижнему регистру."
   ]
  },
  {
   "cell_type": "code",
   "execution_count": 5,
   "id": "f364cabd-844f-403e-a0b0-6209e7119c8f",
   "metadata": {},
   "outputs": [
    {
     "name": "stdout",
     "output_type": "stream",
     "text": [
      "Название столбцов в датафрейме fp -  ['date', 'district', 'warehouse_name', 'number_of_guards', 'police_units']\n",
      "Название столбцов в датафрейме sp -  ['date', 'district', 'warehouse_name', 'percent_of_crime_solved', 'number_of_lights']\n"
     ]
    }
   ],
   "source": [
    "fp.columns = fp.columns.str.lower()\n",
    "sp.columns = sp.columns.str.lower()\n",
    "\n",
    "print('Название столбцов в датафрейме fp - ', fp.columns.tolist())\n",
    "print('Название столбцов в датафрейме sp - ', sp.columns.tolist())"
   ]
  },
  {
   "cell_type": "markdown",
   "id": "7ae8e635-83a2-4ea0-a3db-0833d80dae5a",
   "metadata": {
    "tags": []
   },
   "source": [
    "### Проверка на пропуски"
   ]
  },
  {
   "cell_type": "code",
   "execution_count": 6,
   "id": "0f21616f-1e60-4ab2-a9bc-f9b340077058",
   "metadata": {},
   "outputs": [
    {
     "data": {
      "text/html": [
       "<style type=\"text/css\">\n",
       "#T_6d33f_row0_col0, #T_6d33f_row1_col0, #T_6d33f_row2_col0, #T_6d33f_row3_col0, #T_6d33f_row4_col0 {\n",
       "  background-color: #3b4cc0;\n",
       "  color: #f1f1f1;\n",
       "}\n",
       "</style>\n",
       "<table id=\"T_6d33f\">\n",
       "  <thead>\n",
       "    <tr>\n",
       "      <th class=\"blank level0\" >&nbsp;</th>\n",
       "      <th id=\"T_6d33f_level0_col0\" class=\"col_heading level0 col0\" >0</th>\n",
       "    </tr>\n",
       "  </thead>\n",
       "  <tbody>\n",
       "    <tr>\n",
       "      <th id=\"T_6d33f_level0_row0\" class=\"row_heading level0 row0\" >date</th>\n",
       "      <td id=\"T_6d33f_row0_col0\" class=\"data row0 col0\" >0.000000</td>\n",
       "    </tr>\n",
       "    <tr>\n",
       "      <th id=\"T_6d33f_level0_row1\" class=\"row_heading level0 row1\" >district</th>\n",
       "      <td id=\"T_6d33f_row1_col0\" class=\"data row1 col0\" >0.000000</td>\n",
       "    </tr>\n",
       "    <tr>\n",
       "      <th id=\"T_6d33f_level0_row2\" class=\"row_heading level0 row2\" >warehouse_name</th>\n",
       "      <td id=\"T_6d33f_row2_col0\" class=\"data row2 col0\" >0.000000</td>\n",
       "    </tr>\n",
       "    <tr>\n",
       "      <th id=\"T_6d33f_level0_row3\" class=\"row_heading level0 row3\" >number_of_guards</th>\n",
       "      <td id=\"T_6d33f_row3_col0\" class=\"data row3 col0\" >0.000000</td>\n",
       "    </tr>\n",
       "    <tr>\n",
       "      <th id=\"T_6d33f_level0_row4\" class=\"row_heading level0 row4\" >police_units</th>\n",
       "      <td id=\"T_6d33f_row4_col0\" class=\"data row4 col0\" >0.000000</td>\n",
       "    </tr>\n",
       "  </tbody>\n",
       "</table>\n"
      ],
      "text/plain": [
       "<pandas.io.formats.style.Styler at 0x7fc8b2049780>"
      ]
     },
     "metadata": {},
     "output_type": "display_data"
    },
    {
     "data": {
      "text/html": [
       "<style type=\"text/css\">\n",
       "#T_c5c5b_row0_col0, #T_c5c5b_row1_col0, #T_c5c5b_row2_col0, #T_c5c5b_row3_col0, #T_c5c5b_row4_col0 {\n",
       "  background-color: #3b4cc0;\n",
       "  color: #f1f1f1;\n",
       "}\n",
       "</style>\n",
       "<table id=\"T_c5c5b\">\n",
       "  <thead>\n",
       "    <tr>\n",
       "      <th class=\"blank level0\" >&nbsp;</th>\n",
       "      <th id=\"T_c5c5b_level0_col0\" class=\"col_heading level0 col0\" >0</th>\n",
       "    </tr>\n",
       "  </thead>\n",
       "  <tbody>\n",
       "    <tr>\n",
       "      <th id=\"T_c5c5b_level0_row0\" class=\"row_heading level0 row0\" >date</th>\n",
       "      <td id=\"T_c5c5b_row0_col0\" class=\"data row0 col0\" >0.000000</td>\n",
       "    </tr>\n",
       "    <tr>\n",
       "      <th id=\"T_c5c5b_level0_row1\" class=\"row_heading level0 row1\" >district</th>\n",
       "      <td id=\"T_c5c5b_row1_col0\" class=\"data row1 col0\" >0.000000</td>\n",
       "    </tr>\n",
       "    <tr>\n",
       "      <th id=\"T_c5c5b_level0_row2\" class=\"row_heading level0 row2\" >warehouse_name</th>\n",
       "      <td id=\"T_c5c5b_row2_col0\" class=\"data row2 col0\" >0.000000</td>\n",
       "    </tr>\n",
       "    <tr>\n",
       "      <th id=\"T_c5c5b_level0_row3\" class=\"row_heading level0 row3\" >percent_of_crime_solved</th>\n",
       "      <td id=\"T_c5c5b_row3_col0\" class=\"data row3 col0\" >0.000000</td>\n",
       "    </tr>\n",
       "    <tr>\n",
       "      <th id=\"T_c5c5b_level0_row4\" class=\"row_heading level0 row4\" >number_of_lights</th>\n",
       "      <td id=\"T_c5c5b_row4_col0\" class=\"data row4 col0\" >0.000000</td>\n",
       "    </tr>\n",
       "  </tbody>\n",
       "</table>\n"
      ],
      "text/plain": [
       "<pandas.io.formats.style.Styler at 0x7fc8b28e9150>"
      ]
     },
     "metadata": {},
     "output_type": "display_data"
    }
   ],
   "source": [
    "for i in(fp, sp):\n",
    "    display(pd.DataFrame(round(i.isna().mean()*100,1)).style.background_gradient('coolwarm'))"
   ]
  },
  {
   "cell_type": "markdown",
   "id": "1ab93265-0d78-4d2d-ad8c-e979d04c4f75",
   "metadata": {},
   "source": [
    "Пропусков нет."
   ]
  },
  {
   "cell_type": "markdown",
   "id": "5f337793-62a8-4533-afa1-a03244c75412",
   "metadata": {},
   "source": [
    "### Проверка на явные дубли"
   ]
  },
  {
   "cell_type": "markdown",
   "id": "da8dfadc-4ded-49a1-81e4-9bf911f7f4b1",
   "metadata": {},
   "source": [
    "Проверим датафреймы на явные дубли."
   ]
  },
  {
   "cell_type": "code",
   "execution_count": 7,
   "id": "2434a809-bde2-4436-8690-5fa5ded98336",
   "metadata": {},
   "outputs": [
    {
     "name": "stdout",
     "output_type": "stream",
     "text": [
      "Явных дублей в датафреме fp 0\n",
      "Явных дублей в датафреме sp 0\n"
     ]
    }
   ],
   "source": [
    "print(f'Явных дублей в датафреме fp {fp.duplicated().sum()}')\n",
    "print(f'Явных дублей в датафреме sp {sp.duplicated().sum()}')"
   ]
  },
  {
   "cell_type": "markdown",
   "id": "78e209b6-c59d-42b1-83c7-c3961ceeee74",
   "metadata": {},
   "source": [
    "Явных дублей нет."
   ]
  },
  {
   "cell_type": "markdown",
   "id": "529962df-db45-48bd-87f3-af9ae82eda46",
   "metadata": {},
   "source": [
    "### Проверка на неявные дубли"
   ]
  },
  {
   "cell_type": "markdown",
   "id": "7aa0af1a-acfa-4d5e-9f9f-35efe518630a",
   "metadata": {},
   "source": [
    "Проверим датафреймы на неявные дубли."
   ]
  },
  {
   "cell_type": "code",
   "execution_count": 8,
   "id": "2a87f823-266c-4b39-9489-5c65dbc5f477",
   "metadata": {},
   "outputs": [
    {
     "name": "stdout",
     "output_type": "stream",
     "text": [
      "['Мышеостровский' 'Краснокотейский' 'Мышесельский' 'Петрокотский'\n",
      " 'Приморский' 'Невский']\n",
      "['Колбасовы' 'Молочковы' 'Мятновы' 'Сметанинковы']\n",
      "['Мышеостровский' 'Краснокотейский' 'Мышесельский' 'Петрокотский'\n",
      " 'Приморский' 'Невский']\n",
      "['Колбасовы' 'Молочковы' 'Мятновы' 'Сметанинковы']\n"
     ]
    }
   ],
   "source": [
    "print(fp['district'].unique())\n",
    "print(fp['warehouse_name'].unique())\n",
    "print(sp['district'].unique())\n",
    "print(sp['warehouse_name'].unique())"
   ]
  },
  {
   "cell_type": "markdown",
   "id": "50366705-f93e-4b96-90e3-efecbc62910f",
   "metadata": {},
   "source": [
    "Неявных дублей в названии районов и складов нет."
   ]
  },
  {
   "cell_type": "markdown",
   "id": "46974945-3e3c-4902-adfa-5a8300f468f1",
   "metadata": {},
   "source": [
    "Посмотрим, сколько складов указано в каждом районе."
   ]
  },
  {
   "cell_type": "code",
   "execution_count": 9,
   "id": "85039d8f-3fe2-418a-9cd4-38b6128757a7",
   "metadata": {},
   "outputs": [
    {
     "data": {
      "text/html": [
       "<div>\n",
       "<style scoped>\n",
       "    .dataframe tbody tr th:only-of-type {\n",
       "        vertical-align: middle;\n",
       "    }\n",
       "\n",
       "    .dataframe tbody tr th {\n",
       "        vertical-align: top;\n",
       "    }\n",
       "\n",
       "    .dataframe thead th {\n",
       "        text-align: right;\n",
       "    }\n",
       "</style>\n",
       "<table border=\"1\" class=\"dataframe\">\n",
       "  <thead>\n",
       "    <tr style=\"text-align: right;\">\n",
       "      <th></th>\n",
       "      <th>warehouse_name</th>\n",
       "    </tr>\n",
       "    <tr>\n",
       "      <th>district</th>\n",
       "      <th></th>\n",
       "    </tr>\n",
       "  </thead>\n",
       "  <tbody>\n",
       "    <tr>\n",
       "      <th>Краснокотейский</th>\n",
       "      <td>4</td>\n",
       "    </tr>\n",
       "    <tr>\n",
       "      <th>Мышеостровский</th>\n",
       "      <td>4</td>\n",
       "    </tr>\n",
       "    <tr>\n",
       "      <th>Мышесельский</th>\n",
       "      <td>4</td>\n",
       "    </tr>\n",
       "    <tr>\n",
       "      <th>Невский</th>\n",
       "      <td>4</td>\n",
       "    </tr>\n",
       "    <tr>\n",
       "      <th>Петрокотский</th>\n",
       "      <td>4</td>\n",
       "    </tr>\n",
       "    <tr>\n",
       "      <th>Приморский</th>\n",
       "      <td>4</td>\n",
       "    </tr>\n",
       "  </tbody>\n",
       "</table>\n",
       "</div>"
      ],
      "text/plain": [
       "                 warehouse_name\n",
       "district                       \n",
       "Краснокотейский               4\n",
       "Мышеостровский                4\n",
       "Мышесельский                  4\n",
       "Невский                       4\n",
       "Петрокотский                  4\n",
       "Приморский                    4"
      ]
     },
     "metadata": {},
     "output_type": "display_data"
    },
    {
     "data": {
      "text/html": [
       "<div>\n",
       "<style scoped>\n",
       "    .dataframe tbody tr th:only-of-type {\n",
       "        vertical-align: middle;\n",
       "    }\n",
       "\n",
       "    .dataframe tbody tr th {\n",
       "        vertical-align: top;\n",
       "    }\n",
       "\n",
       "    .dataframe thead th {\n",
       "        text-align: right;\n",
       "    }\n",
       "</style>\n",
       "<table border=\"1\" class=\"dataframe\">\n",
       "  <thead>\n",
       "    <tr style=\"text-align: right;\">\n",
       "      <th></th>\n",
       "      <th>warehouse_name</th>\n",
       "    </tr>\n",
       "    <tr>\n",
       "      <th>district</th>\n",
       "      <th></th>\n",
       "    </tr>\n",
       "  </thead>\n",
       "  <tbody>\n",
       "    <tr>\n",
       "      <th>Краснокотейский</th>\n",
       "      <td>4</td>\n",
       "    </tr>\n",
       "    <tr>\n",
       "      <th>Мышеостровский</th>\n",
       "      <td>4</td>\n",
       "    </tr>\n",
       "    <tr>\n",
       "      <th>Мышесельский</th>\n",
       "      <td>4</td>\n",
       "    </tr>\n",
       "    <tr>\n",
       "      <th>Невский</th>\n",
       "      <td>4</td>\n",
       "    </tr>\n",
       "    <tr>\n",
       "      <th>Петрокотский</th>\n",
       "      <td>4</td>\n",
       "    </tr>\n",
       "    <tr>\n",
       "      <th>Приморский</th>\n",
       "      <td>4</td>\n",
       "    </tr>\n",
       "  </tbody>\n",
       "</table>\n",
       "</div>"
      ],
      "text/plain": [
       "                 warehouse_name\n",
       "district                       \n",
       "Краснокотейский               4\n",
       "Мышеостровский                4\n",
       "Мышесельский                  4\n",
       "Невский                       4\n",
       "Петрокотский                  4\n",
       "Приморский                    4"
      ]
     },
     "metadata": {},
     "output_type": "display_data"
    }
   ],
   "source": [
    "for i in(fp, sp):\n",
    "    display(i.groupby('district').agg({'warehouse_name':'nunique'}))"
   ]
  },
  {
   "cell_type": "markdown",
   "id": "da484360-dcda-48ee-975b-5b248a9df624",
   "metadata": {},
   "source": [
    "Мы видим, что в каждом районе есть по 4 склада, которые одинаково называются. "
   ]
  },
  {
   "cell_type": "markdown",
   "id": "bd8c7e74-153c-48c1-ae16-165408d29230",
   "metadata": {},
   "source": [
    "### Объединение датафреймов"
   ]
  },
  {
   "cell_type": "markdown",
   "id": "6425fd2b-52f6-4a85-bc30-5481a3239044",
   "metadata": {},
   "source": [
    "Для удобства дальнейшей работы объединим датафреймы fp и sp в один датафрейм df, на основании даты, названия района и названия склада."
   ]
  },
  {
   "cell_type": "markdown",
   "id": "d288222b-f24d-448c-b468-602364f947f2",
   "metadata": {},
   "source": [
    "Предварительно сохраним размер датафреймов."
   ]
  },
  {
   "cell_type": "code",
   "execution_count": 10,
   "id": "fceabebb-8f47-4e36-ab99-e0259d091664",
   "metadata": {},
   "outputs": [
    {
     "name": "stdout",
     "output_type": "stream",
     "text": [
      "Строк в fp 17280\n",
      "Строк в sp 17280\n"
     ]
    }
   ],
   "source": [
    "fp_shape = fp.shape\n",
    "sp_shape = sp.shape\n",
    "print('Строк в fp', fp_shape[0])\n",
    "print('Строк в sp', sp_shape[0])"
   ]
  },
  {
   "cell_type": "markdown",
   "id": "32807c1e-3e2d-4768-94d0-57007308c897",
   "metadata": {},
   "source": [
    "Объединим датафреймы."
   ]
  },
  {
   "cell_type": "code",
   "execution_count": 11,
   "id": "564deb1b-17f4-4580-9f67-0cb27c0c0571",
   "metadata": {},
   "outputs": [
    {
     "name": "stdout",
     "output_type": "stream",
     "text": [
      "Строк потеряно при объединении - 0\n"
     ]
    }
   ],
   "source": [
    "df = pd.merge(fp, sp, on=['date', 'district', 'warehouse_name'], how='inner')\n",
    "print('Строк потеряно при объединении -', len(df) - fp_shape[0])"
   ]
  },
  {
   "cell_type": "markdown",
   "id": "0075a97c-779a-4a59-9ca2-a426babc7102",
   "metadata": {},
   "source": [
    "Мы не потеряли ни одной строки."
   ]
  },
  {
   "cell_type": "code",
   "execution_count": 12,
   "id": "4f44d52f-6c3c-454b-93b3-e5f09dc3121e",
   "metadata": {},
   "outputs": [
    {
     "data": {
      "text/html": [
       "<div>\n",
       "<style scoped>\n",
       "    .dataframe tbody tr th:only-of-type {\n",
       "        vertical-align: middle;\n",
       "    }\n",
       "\n",
       "    .dataframe tbody tr th {\n",
       "        vertical-align: top;\n",
       "    }\n",
       "\n",
       "    .dataframe thead th {\n",
       "        text-align: right;\n",
       "    }\n",
       "</style>\n",
       "<table border=\"1\" class=\"dataframe\">\n",
       "  <thead>\n",
       "    <tr style=\"text-align: right;\">\n",
       "      <th></th>\n",
       "      <th>date</th>\n",
       "      <th>district</th>\n",
       "      <th>warehouse_name</th>\n",
       "      <th>number_of_guards</th>\n",
       "      <th>police_units</th>\n",
       "      <th>percent_of_crime_solved</th>\n",
       "      <th>number_of_lights</th>\n",
       "    </tr>\n",
       "  </thead>\n",
       "  <tbody>\n",
       "    <tr>\n",
       "      <th>0</th>\n",
       "      <td>2024-01-26</td>\n",
       "      <td>Мышеостровский</td>\n",
       "      <td>Колбасовы</td>\n",
       "      <td>7</td>\n",
       "      <td>6</td>\n",
       "      <td>83.160960</td>\n",
       "      <td>725</td>\n",
       "    </tr>\n",
       "    <tr>\n",
       "      <th>1</th>\n",
       "      <td>2024-01-26</td>\n",
       "      <td>Мышеостровский</td>\n",
       "      <td>Молочковы</td>\n",
       "      <td>10</td>\n",
       "      <td>9</td>\n",
       "      <td>87.756487</td>\n",
       "      <td>984</td>\n",
       "    </tr>\n",
       "    <tr>\n",
       "      <th>2</th>\n",
       "      <td>2024-01-26</td>\n",
       "      <td>Мышеостровский</td>\n",
       "      <td>Мятновы</td>\n",
       "      <td>8</td>\n",
       "      <td>8</td>\n",
       "      <td>87.010121</td>\n",
       "      <td>1030</td>\n",
       "    </tr>\n",
       "    <tr>\n",
       "      <th>3</th>\n",
       "      <td>2024-01-26</td>\n",
       "      <td>Мышеостровский</td>\n",
       "      <td>Сметанинковы</td>\n",
       "      <td>8</td>\n",
       "      <td>7</td>\n",
       "      <td>82.207203</td>\n",
       "      <td>814</td>\n",
       "    </tr>\n",
       "    <tr>\n",
       "      <th>4</th>\n",
       "      <td>2024-01-26</td>\n",
       "      <td>Краснокотейский</td>\n",
       "      <td>Колбасовы</td>\n",
       "      <td>7</td>\n",
       "      <td>6</td>\n",
       "      <td>86.684716</td>\n",
       "      <td>1035</td>\n",
       "    </tr>\n",
       "  </tbody>\n",
       "</table>\n",
       "</div>"
      ],
      "text/plain": [
       "         date         district warehouse_name  number_of_guards  police_units  \\\n",
       "0  2024-01-26   Мышеостровский      Колбасовы                 7             6   \n",
       "1  2024-01-26   Мышеостровский      Молочковы                10             9   \n",
       "2  2024-01-26   Мышеостровский        Мятновы                 8             8   \n",
       "3  2024-01-26   Мышеостровский   Сметанинковы                 8             7   \n",
       "4  2024-01-26  Краснокотейский      Колбасовы                 7             6   \n",
       "\n",
       "   percent_of_crime_solved  number_of_lights  \n",
       "0                83.160960               725  \n",
       "1                87.756487               984  \n",
       "2                87.010121              1030  \n",
       "3                82.207203               814  \n",
       "4                86.684716              1035  "
      ]
     },
     "metadata": {},
     "output_type": "display_data"
    },
    {
     "name": "stdout",
     "output_type": "stream",
     "text": [
      "<class 'pandas.core.frame.DataFrame'>\n",
      "Int64Index: 17280 entries, 0 to 17279\n",
      "Data columns (total 7 columns):\n",
      " #   Column                   Non-Null Count  Dtype  \n",
      "---  ------                   --------------  -----  \n",
      " 0   date                     17280 non-null  object \n",
      " 1   district                 17280 non-null  object \n",
      " 2   warehouse_name           17280 non-null  object \n",
      " 3   number_of_guards         17280 non-null  int64  \n",
      " 4   police_units             17280 non-null  int64  \n",
      " 5   percent_of_crime_solved  17280 non-null  float64\n",
      " 6   number_of_lights         17280 non-null  int64  \n",
      "dtypes: float64(1), int64(3), object(3)\n",
      "memory usage: 1.1+ MB\n",
      "None\n"
     ]
    }
   ],
   "source": [
    "display(df.head())\n",
    "print(df.info())"
   ]
  },
  {
   "cell_type": "markdown",
   "id": "7880743a-2836-42f3-bb1f-79bd66423f1d",
   "metadata": {},
   "source": [
    "### Изменение типа данных"
   ]
  },
  {
   "cell_type": "markdown",
   "id": "a9c541d8-d5fa-44a3-81a7-17ad3faa2eee",
   "metadata": {},
   "source": [
    "Для удобства работы приведем колонку с датами к типу данных дат."
   ]
  },
  {
   "cell_type": "code",
   "execution_count": 13,
   "id": "4fb23693-2734-49f8-b993-f05db305e19a",
   "metadata": {},
   "outputs": [
    {
     "name": "stdout",
     "output_type": "stream",
     "text": [
      "Тип данных в колонке date - datetime64[ns]\n"
     ]
    }
   ],
   "source": [
    "df['date'] = df['date'].map(\n",
    "    lambda x: dt.datetime.strptime(x, '%Y-%m-%d')\n",
    ")\n",
    "\n",
    "print('Тип данных в колонке date -', df['date'].dtype)\n"
   ]
  },
  {
   "cell_type": "markdown",
   "id": "57b5adba-18e0-42ae-93bf-9781d94b2717",
   "metadata": {},
   "source": [
    "**Вывод**  \n",
    "Мы подготовили данные к анализу:\n",
    "\n",
    "- привели название колонок к нижнему регистру;\n",
    "- проверили датасеты на пропуски;\n",
    "- проверили на явные и неявные дубли;\n",
    "- объединили датафреймы в один;\n",
    "- привели формат колонки дат к формату даты."
   ]
  },
  {
   "cell_type": "markdown",
   "id": "f83a1b45-00c8-4fbe-b261-ae65cf41829b",
   "metadata": {
    "tags": []
   },
   "source": [
    "## Исследовательский анализ данных"
   ]
  },
  {
   "cell_type": "markdown",
   "id": "b78cd567-f9dc-4319-afce-30dfe2672848",
   "metadata": {},
   "source": [
    "### Даты в данных"
   ]
  },
  {
   "cell_type": "markdown",
   "id": "a93e73c4-6d4e-4590-a553-55da9661e469",
   "metadata": {},
   "source": [
    "Посмотрим, за какой период у нас представлены данные."
   ]
  },
  {
   "cell_type": "code",
   "execution_count": 14,
   "id": "e4b6c147-b3f4-4f80-b7f8-368f9eca67d5",
   "metadata": {},
   "outputs": [
    {
     "name": "stdout",
     "output_type": "stream",
     "text": [
      "В датафрейме представлены данные с 2022-02-06 00:00:00 по 2024-01-26 00:00:00\n",
      "Дней в датафрейме пропущено - 0.0\n"
     ]
    }
   ],
   "source": [
    "print(f'В датафрейме представлены данные с {df.date.min()} по {df.date.max()}')\n",
    "\n",
    "#Посчитаем количество дней между минимальной и максимальной датой\n",
    "df_days = (df.date.max() - df.date.min()) / np.timedelta64 ( 1 , 'D')\n",
    "\n",
    "print('Дней в датафрейме пропущено -', df_days - df.date.nunique() + 1)"
   ]
  },
  {
   "cell_type": "markdown",
   "id": "c35bf7ed-ac30-47fc-a751-65728c930abb",
   "metadata": {},
   "source": [
    "Мы видим, что в датафрейме есть ежедневные данные с 6 февраля 2022 года по 26 января 2024 года."
   ]
  },
  {
   "cell_type": "markdown",
   "id": "30e1b415-fb8e-4de3-aa62-25fc21bd667c",
   "metadata": {},
   "source": [
    "### Охраны на складах"
   ]
  },
  {
   "cell_type": "markdown",
   "id": "417b3434-2a06-4b71-8971-c7c8cb40081a",
   "metadata": {},
   "source": [
    "Посмотрим, сколько охнанников может быть на складах."
   ]
  },
  {
   "cell_type": "code",
   "execution_count": 15,
   "id": "fa891431-d4cf-4c25-9d2c-42a5289ced0f",
   "metadata": {},
   "outputs": [
    {
     "data": {
      "text/plain": [
       "count    17280.000000\n",
       "mean         5.984317\n",
       "std          2.700888\n",
       "min          1.000000\n",
       "25%          4.000000\n",
       "50%          6.000000\n",
       "75%          8.000000\n",
       "max         11.000000\n",
       "Name: number_of_guards, dtype: float64"
      ]
     },
     "execution_count": 15,
     "metadata": {},
     "output_type": "execute_result"
    }
   ],
   "source": [
    "df['number_of_guards'].describe()"
   ]
  },
  {
   "cell_type": "code",
   "execution_count": 16,
   "id": "7b640650-c302-45e0-99e6-adc2c3ffe61a",
   "metadata": {},
   "outputs": [
    {
     "data": {
      "image/png": "[encoded data removed]",
      "text/plain": [
       "<Figure size 800x400 with 1 Axes>"
      ]
     },
     "metadata": {},
     "output_type": "display_data"
    }
   ],
   "source": [
    "df.hist(column='number_of_guards', bins = 11, color='skyblue', edgecolor='black', figsize=(8, 4))\n",
    "\n",
    "plt.title('Распределение количества охраны на складе')\n",
    "plt.xlabel('Количсетво охраны')\n",
    "plt.ylabel('Количество записей')\n",
    "plt.show()"
   ]
  },
  {
   "cell_type": "markdown",
   "id": "8a409c67-35fa-4967-8594-a5d8b4dfa196",
   "metadata": {},
   "source": [
    "На складах бывает от 1 до 11 охранников, в среднем около 6 охранников."
   ]
  },
  {
   "cell_type": "markdown",
   "id": "06d2fe41-2a5b-4443-b8b8-55f331c12b9e",
   "metadata": {},
   "source": [
    "### Полицейских в районе"
   ]
  },
  {
   "cell_type": "markdown",
   "id": "98d5acdf-41cc-419b-9b69-0b3fa911f658",
   "metadata": {},
   "source": [
    "Посмотрим, сколько полицейских может быть в районе."
   ]
  },
  {
   "cell_type": "code",
   "execution_count": 17,
   "id": "63c08142-31ad-4540-9eec-f72bce69f308",
   "metadata": {},
   "outputs": [
    {
     "data": {
      "text/plain": [
       "count    17280.000000\n",
       "mean         4.982292\n",
       "std          2.582339\n",
       "min          1.000000\n",
       "25%          3.000000\n",
       "50%          5.000000\n",
       "75%          7.000000\n",
       "max          9.000000\n",
       "Name: police_units, dtype: float64"
      ]
     },
     "execution_count": 17,
     "metadata": {},
     "output_type": "execute_result"
    }
   ],
   "source": [
    "df['police_units'].describe()"
   ]
  },
  {
   "cell_type": "code",
   "execution_count": 18,
   "id": "2a3413a8-393d-4d83-b10e-de7e76a41aa4",
   "metadata": {},
   "outputs": [
    {
     "data": {
      "image/png": "[encoded data removed]",
      "text/plain": [
       "<Figure size 800x400 with 1 Axes>"
      ]
     },
     "metadata": {},
     "output_type": "display_data"
    }
   ],
   "source": [
    "df.hist(column='police_units', bins = 9, color='skyblue', edgecolor='black', figsize=(8, 4))\n",
    "\n",
    "plt.title('Распределение количества полицейских в районе')\n",
    "plt.xlabel('Количсетво полицейских')\n",
    "plt.ylabel('Количество записей')\n",
    "plt.show()"
   ]
  },
  {
   "cell_type": "markdown",
   "id": "98d78959-90d4-4dea-b8fd-8a1e92dac51d",
   "metadata": {},
   "source": [
    "В районе может быть от 1 до 9 полицейских, в среднем около 5."
   ]
  },
  {
   "cell_type": "markdown",
   "id": "08ceade5-2341-4b5a-a277-e25ee8bb6ab2",
   "metadata": {},
   "source": [
    "### Процент раскрытых преступлений по уничтожению фонарей"
   ]
  },
  {
   "cell_type": "markdown",
   "id": "15f5edec-d7c9-46df-ba5d-ea7e92d290c7",
   "metadata": {},
   "source": [
    "Посмотрим, какой был процент раскрытия преступлений по уничтожению фонарей."
   ]
  },
  {
   "cell_type": "code",
   "execution_count": 19,
   "id": "8e5a75f5-cec6-4717-93d6-874651258817",
   "metadata": {},
   "outputs": [
    {
     "data": {
      "text/plain": [
       "count    17280.000000\n",
       "mean        69.111268\n",
       "std         12.674158\n",
       "min          1.686968\n",
       "25%         62.313482\n",
       "50%         69.586076\n",
       "75%         76.905214\n",
       "max        100.000000\n",
       "Name: percent_of_crime_solved, dtype: float64"
      ]
     },
     "execution_count": 19,
     "metadata": {},
     "output_type": "execute_result"
    }
   ],
   "source": [
    "df['percent_of_crime_solved'].describe()"
   ]
  },
  {
   "cell_type": "code",
   "execution_count": 20,
   "id": "bffa06be-77e5-42fc-9fea-17804826b0a8",
   "metadata": {},
   "outputs": [
    {
     "data": {
      "image/png": "[encoded data removed]",
      "text/plain": [
       "<Figure size 800x400 with 1 Axes>"
      ]
     },
     "metadata": {},
     "output_type": "display_data"
    }
   ],
   "source": [
    "df.hist(column='percent_of_crime_solved', bins = 20, color='skyblue', edgecolor='black', figsize=(8, 4))\n",
    "\n",
    "plt.title('Распределение процентов раскрытия преступлений')\n",
    "plt.xlabel('% раскрытия преступлений')\n",
    "plt.ylabel('Количество записей')\n",
    "plt.show()"
   ]
  },
  {
   "cell_type": "code",
   "execution_count": 21,
   "id": "308a1c2e-954e-4c46-8ed6-e9c09a3ddc12",
   "metadata": {},
   "outputs": [
    {
     "data": {
      "image/png": "[encoded data removed]",
      "text/plain": [
       "<Figure size 800x400 with 1 Axes>"
      ]
     },
     "metadata": {},
     "output_type": "display_data"
    }
   ],
   "source": [
    "df.boxplot(column='percent_of_crime_solved', figsize=(8, 4))\n",
    "\n",
    "plt.title('\"ящик с усами\" по % раскрытия преступлений')\n",
    "plt.xlabel('')\n",
    "plt.ylabel('% раскрытия преступлений')\n",
    "plt.show()"
   ]
  },
  {
   "cell_type": "markdown",
   "id": "ce0659a9-9e69-4824-b1ed-16e84ae421ab",
   "metadata": {},
   "source": [
    "За время наблюдения процент раскрытия преступлений был от 1,7% до 100%, в среднем около 69%. Можно сказать, что преступления раскерываются в основном от 40 до 98%. "
   ]
  },
  {
   "cell_type": "markdown",
   "id": "f37aadcf-0674-4687-a945-1adac68d4dbb",
   "metadata": {},
   "source": [
    "Посмотрим, есть ли отличия в среднем % раскрытия преступлений по районам и складу."
   ]
  },
  {
   "cell_type": "code",
   "execution_count": 22,
   "id": "1f3805e8-9c51-4b1d-af36-9afc273b9b00",
   "metadata": {},
   "outputs": [
    {
     "data": {
      "text/html": [
       "<div>\n",
       "<style scoped>\n",
       "    .dataframe tbody tr th:only-of-type {\n",
       "        vertical-align: middle;\n",
       "    }\n",
       "\n",
       "    .dataframe tbody tr th {\n",
       "        vertical-align: top;\n",
       "    }\n",
       "\n",
       "    .dataframe thead th {\n",
       "        text-align: right;\n",
       "    }\n",
       "</style>\n",
       "<table border=\"1\" class=\"dataframe\">\n",
       "  <thead>\n",
       "    <tr style=\"text-align: right;\">\n",
       "      <th>warehouse_name</th>\n",
       "      <th>Колбасовы</th>\n",
       "      <th>Молочковы</th>\n",
       "      <th>Мятновы</th>\n",
       "      <th>Сметанинковы</th>\n",
       "    </tr>\n",
       "    <tr>\n",
       "      <th>district</th>\n",
       "      <th></th>\n",
       "      <th></th>\n",
       "      <th></th>\n",
       "      <th></th>\n",
       "    </tr>\n",
       "  </thead>\n",
       "  <tbody>\n",
       "    <tr>\n",
       "      <th>Краснокотейский</th>\n",
       "      <td>68.996260</td>\n",
       "      <td>69.054328</td>\n",
       "      <td>69.257332</td>\n",
       "      <td>68.939339</td>\n",
       "    </tr>\n",
       "    <tr>\n",
       "      <th>Мышеостровский</th>\n",
       "      <td>69.168210</td>\n",
       "      <td>69.040801</td>\n",
       "      <td>69.152006</td>\n",
       "      <td>69.200337</td>\n",
       "    </tr>\n",
       "    <tr>\n",
       "      <th>Мышесельский</th>\n",
       "      <td>69.195719</td>\n",
       "      <td>69.052525</td>\n",
       "      <td>69.314685</td>\n",
       "      <td>69.202944</td>\n",
       "    </tr>\n",
       "    <tr>\n",
       "      <th>Невский</th>\n",
       "      <td>69.169266</td>\n",
       "      <td>68.942565</td>\n",
       "      <td>69.113544</td>\n",
       "      <td>69.133955</td>\n",
       "    </tr>\n",
       "    <tr>\n",
       "      <th>Петрокотский</th>\n",
       "      <td>69.116445</td>\n",
       "      <td>68.930228</td>\n",
       "      <td>69.111505</td>\n",
       "      <td>69.002666</td>\n",
       "    </tr>\n",
       "    <tr>\n",
       "      <th>Приморский</th>\n",
       "      <td>69.151564</td>\n",
       "      <td>69.238778</td>\n",
       "      <td>69.026232</td>\n",
       "      <td>69.159209</td>\n",
       "    </tr>\n",
       "  </tbody>\n",
       "</table>\n",
       "</div>"
      ],
      "text/plain": [
       "warehouse_name   Колбасовы  Молочковы    Мятновы  Сметанинковы\n",
       "district                                                      \n",
       "Краснокотейский  68.996260  69.054328  69.257332     68.939339\n",
       "Мышеостровский   69.168210  69.040801  69.152006     69.200337\n",
       "Мышесельский     69.195719  69.052525  69.314685     69.202944\n",
       "Невский          69.169266  68.942565  69.113544     69.133955\n",
       "Петрокотский     69.116445  68.930228  69.111505     69.002666\n",
       "Приморский       69.151564  69.238778  69.026232     69.159209"
      ]
     },
     "execution_count": 22,
     "metadata": {},
     "output_type": "execute_result"
    }
   ],
   "source": [
    "pd.pivot_table(df,\n",
    "                              values='percent_of_crime_solved',\n",
    "                              index='district',\n",
    "                              columns='warehouse_name',\n",
    "                              aggfunc=\"mean\",\n",
    "                              fill_value=0)"
   ]
  },
  {
   "cell_type": "markdown",
   "id": "73c2b81b-ff6c-4e35-aea3-a59c954c9ca9",
   "metadata": {},
   "source": [
    "Больших отличий нет."
   ]
  },
  {
   "cell_type": "markdown",
   "id": "ad48148c-a76a-454e-a122-3d2d3362708e",
   "metadata": {
    "tags": []
   },
   "source": [
    "### Количество фонарей в районе"
   ]
  },
  {
   "cell_type": "markdown",
   "id": "5085ffc6-841d-4034-914c-a89ca73ec6cf",
   "metadata": {},
   "source": [
    "Посмторим, сколько было фонарей в районе."
   ]
  },
  {
   "cell_type": "code",
   "execution_count": 23,
   "id": "5081f081-abb8-4cb4-a39f-99a26e35510f",
   "metadata": {},
   "outputs": [
    {
     "data": {
      "text/plain": [
       "count    17280.000000\n",
       "mean       697.967477\n",
       "std        177.433022\n",
       "min        151.000000\n",
       "25%        572.000000\n",
       "50%        688.000000\n",
       "75%        812.000000\n",
       "max       1619.000000\n",
       "Name: number_of_lights, dtype: float64"
      ]
     },
     "execution_count": 23,
     "metadata": {},
     "output_type": "execute_result"
    }
   ],
   "source": [
    "df['number_of_lights'].describe()"
   ]
  },
  {
   "cell_type": "code",
   "execution_count": 24,
   "id": "eee8750f-979b-4f54-9ad1-1c641a6d8f7e",
   "metadata": {},
   "outputs": [
    {
     "data": {
      "image/png": "[encoded data removed]",
      "text/plain": [
       "<Figure size 800x400 with 1 Axes>"
      ]
     },
     "metadata": {},
     "output_type": "display_data"
    }
   ],
   "source": [
    "df.hist(column='number_of_lights', bins = 20, color='skyblue', edgecolor='black', figsize=(8, 4))\n",
    "\n",
    "plt.title('Распределение количества фонарей в районе')\n",
    "plt.xlabel('Количество фонарей в районе')\n",
    "plt.ylabel('Количество записей')\n",
    "plt.show()"
   ]
  },
  {
   "cell_type": "code",
   "execution_count": 25,
   "id": "3aaa2789-ef98-4f70-bd67-1e755650fa4e",
   "metadata": {},
   "outputs": [
    {
     "data": {
      "image/png": "[encoded data removed]",
      "text/plain": [
       "<Figure size 800x400 with 1 Axes>"
      ]
     },
     "metadata": {},
     "output_type": "display_data"
    }
   ],
   "source": [
    "df.boxplot(column='number_of_lights', figsize=(8, 4))\n",
    "\n",
    "plt.title('\"ящик с усами\" по количеству фонарей в районе')\n",
    "plt.xlabel('')\n",
    "plt.ylabel('% раскрытия преступлений')\n",
    "plt.show()"
   ]
  },
  {
   "cell_type": "markdown",
   "id": "1531eb6b-4566-40bc-9732-5540cbac4999",
   "metadata": {},
   "source": [
    "Было от 151 до 1691 фонарей в районе, в среднем около 690. Можно сказать, что в основном в районах от 200 до 1200 фонарей."
   ]
  },
  {
   "cell_type": "markdown",
   "id": "013d6538-51cb-4bbb-983f-c824eecacf6a",
   "metadata": {},
   "source": [
    "**Вывод**  \n",
    "Мы провели исследовательский анализ данных:\n",
    "\n",
    "- в датафрейме есть ежедневные данные с 6 февраля 2022 года по 26 января 2024 года;\n",
    "- на складах бывает от 1 до 11 охранников, в среднем около 6 охранников;\n",
    "- в районе может быть от 1 до 9 полицейских, в среднем около 5;\n",
    "- за время наблюдения процент раскрытия преступлений был от 1,7% до 100%, в среднем около 69%, можно сказать, что преступления раскерываются в основном от 40 до 98%;\n",
    "- было от 151 до 1691 фонарей в районе, в среднем около 690, можно сказать, что в основном в районах от 200 до 1200 фонарей."
   ]
  },
  {
   "cell_type": "markdown",
   "id": "1a09bfd1-743c-49fe-9d22-7a4f07ce4db1",
   "metadata": {},
   "source": [
    "## Связь (корреляция)"
   ]
  },
  {
   "cell_type": "markdown",
   "id": "a0acc792-6d70-438f-8f38-e2be2d7056f9",
   "metadata": {},
   "source": [
    "Посмотрим на взаимосвязь данных в нашем датафрейме."
   ]
  },
  {
   "cell_type": "code",
   "execution_count": 26,
   "id": "c86bd077-bd65-426a-af80-a1b7f176726b",
   "metadata": {},
   "outputs": [
    {
     "data": {
      "image/png": "[encoded data removed]",
      "text/plain": [
       "<Figure size 900x900 with 16 Axes>"
      ]
     },
     "metadata": {},
     "output_type": "display_data"
    }
   ],
   "source": [
    "pd.plotting.scatter_matrix(df, figsize=(9, 9));"
   ]
  },
  {
   "cell_type": "code",
   "execution_count": 27,
   "id": "7d6faa29-01a0-4ecd-b1d1-c96aa43fb5ec",
   "metadata": {},
   "outputs": [
    {
     "data": {
      "text/html": [
       "<style type=\"text/css\">\n",
       "#T_8072e_row0_col0, #T_8072e_row1_col1, #T_8072e_row2_col2, #T_8072e_row3_col3 {\n",
       "  background-color: #b40426;\n",
       "  color: #f1f1f1;\n",
       "}\n",
       "#T_8072e_row0_col1, #T_8072e_row1_col0 {\n",
       "  background-color: #c43032;\n",
       "  color: #f1f1f1;\n",
       "}\n",
       "#T_8072e_row0_col2, #T_8072e_row0_col3, #T_8072e_row1_col2, #T_8072e_row1_col3, #T_8072e_row2_col0, #T_8072e_row2_col1 {\n",
       "  background-color: #3b4cc0;\n",
       "  color: #f1f1f1;\n",
       "}\n",
       "#T_8072e_row2_col3 {\n",
       "  background-color: #d4dbe6;\n",
       "  color: #000000;\n",
       "}\n",
       "#T_8072e_row3_col0, #T_8072e_row3_col1 {\n",
       "  background-color: #3f53c6;\n",
       "  color: #f1f1f1;\n",
       "}\n",
       "#T_8072e_row3_col2 {\n",
       "  background-color: #d6dce4;\n",
       "  color: #000000;\n",
       "}\n",
       "</style>\n",
       "<table id=\"T_8072e\">\n",
       "  <thead>\n",
       "    <tr>\n",
       "      <th class=\"blank level0\" >&nbsp;</th>\n",
       "      <th id=\"T_8072e_level0_col0\" class=\"col_heading level0 col0\" >number_of_guards</th>\n",
       "      <th id=\"T_8072e_level0_col1\" class=\"col_heading level0 col1\" >police_units</th>\n",
       "      <th id=\"T_8072e_level0_col2\" class=\"col_heading level0 col2\" >percent_of_crime_solved</th>\n",
       "      <th id=\"T_8072e_level0_col3\" class=\"col_heading level0 col3\" >number_of_lights</th>\n",
       "    </tr>\n",
       "  </thead>\n",
       "  <tbody>\n",
       "    <tr>\n",
       "      <th id=\"T_8072e_level0_row0\" class=\"row_heading level0 row0\" >number_of_guards</th>\n",
       "      <td id=\"T_8072e_row0_col0\" class=\"data row0 col0\" >1.000000</td>\n",
       "      <td id=\"T_8072e_row0_col1\" class=\"data row0 col1\" >0.953067</td>\n",
       "      <td id=\"T_8072e_row0_col2\" class=\"data row0 col2\" >-0.017202</td>\n",
       "      <td id=\"T_8072e_row0_col3\" class=\"data row0 col3\" >-0.000369</td>\n",
       "    </tr>\n",
       "    <tr>\n",
       "      <th id=\"T_8072e_level0_row1\" class=\"row_heading level0 row1\" >police_units</th>\n",
       "      <td id=\"T_8072e_row1_col0\" class=\"data row1 col0\" >0.953067</td>\n",
       "      <td id=\"T_8072e_row1_col1\" class=\"data row1 col1\" >1.000000</td>\n",
       "      <td id=\"T_8072e_row1_col2\" class=\"data row1 col2\" >-0.014156</td>\n",
       "      <td id=\"T_8072e_row1_col3\" class=\"data row1 col3\" >0.002416</td>\n",
       "    </tr>\n",
       "    <tr>\n",
       "      <th id=\"T_8072e_level0_row2\" class=\"row_heading level0 row2\" >percent_of_crime_solved</th>\n",
       "      <td id=\"T_8072e_row2_col0\" class=\"data row2 col0\" >-0.017202</td>\n",
       "      <td id=\"T_8072e_row2_col1\" class=\"data row2 col1\" >-0.014156</td>\n",
       "      <td id=\"T_8072e_row2_col2\" class=\"data row2 col2\" >1.000000</td>\n",
       "      <td id=\"T_8072e_row2_col3\" class=\"data row2 col3\" >0.465525</td>\n",
       "    </tr>\n",
       "    <tr>\n",
       "      <th id=\"T_8072e_level0_row3\" class=\"row_heading level0 row3\" >number_of_lights</th>\n",
       "      <td id=\"T_8072e_row3_col0\" class=\"data row3 col0\" >-0.000369</td>\n",
       "      <td id=\"T_8072e_row3_col1\" class=\"data row3 col1\" >0.002416</td>\n",
       "      <td id=\"T_8072e_row3_col2\" class=\"data row3 col2\" >0.465525</td>\n",
       "      <td id=\"T_8072e_row3_col3\" class=\"data row3 col3\" >1.000000</td>\n",
       "    </tr>\n",
       "  </tbody>\n",
       "</table>\n"
      ],
      "text/plain": [
       "<pandas.io.formats.style.Styler at 0x7fc88133a6b0>"
      ]
     },
     "metadata": {},
     "output_type": "display_data"
    }
   ],
   "source": [
    "display(pd.DataFrame(df.corr()).style.background_gradient('coolwarm'))"
   ]
  },
  {
   "cell_type": "markdown",
   "id": "c0401649-ab33-4df2-8f61-440a08478269",
   "metadata": {},
   "source": [
    "Мы видим, что похоже, что есть связь между количеством охраны на складе и полицией в районе, а также между процентом раскрытых перступлений и количеством фонарей."
   ]
  },
  {
   "cell_type": "markdown",
   "id": "76408565-7723-4a71-a79b-afaeb48157ce",
   "metadata": {},
   "source": [
    "Проверим, так ли это для каждого склада."
   ]
  },
  {
   "cell_type": "markdown",
   "id": "d022f692-0080-4443-a013-bfeb4d1d1d69",
   "metadata": {},
   "source": [
    "Для начала подготовим функцию для подсчета коэффициентов Пирсона и Спирмана, а также их уровень значимости."
   ]
  },
  {
   "cell_type": "code",
   "execution_count": 28,
   "id": "56e1fbf7-68fa-4438-9949-c12f67ad4ef4",
   "metadata": {},
   "outputs": [],
   "source": [
    "def df_corr_chec(data = df, first_par = 'number_of_guards', second_par = 'percent_of_crime_solved'):\n",
    "        \n",
    "    \"\"\"\n",
    "    Функция для подсчета коэффициентов корреляции Пирсона и Спирмана, а также их уровня значимости\n",
    "    \n",
    "    Args:\n",
    "        data(pd.DataFrame): датафрейм,\n",
    "        first_par(str): название столбца, который примем за первый параметр для сравнения\n",
    "        second_par(str): название столбца, который примем за второй параметр сравнения\n",
    "        \n",
    "    Returns:\n",
    "       coeffs(pd.DataFrame):  датафрейм с подствечем коэффициентов Пирсона и Спирмана для каждого района и склада.\n",
    "    \"\"\"\n",
    "    \n",
    "    coeffs = pd.DataFrame(columns=['district', 'warehouse_name', 'pearson_cor', 'pearson_pv', 'spearman_cor', 'spearman_pv'])\n",
    "    counter = 0\n",
    "    for districts in data['district'].unique():\n",
    "        for warehouses in data['warehouse_name'].unique():\n",
    "            temp = data.query('district == @districts & warehouse_name == @warehouses')\n",
    "              \n",
    "            kp = pearsonr(temp[first_par], temp[second_par])\n",
    "            ks = spearmanr(temp[first_par], temp[second_par])\n",
    "            \n",
    "            \n",
    "            #все продажи автодиллеров после меркур авто суммируем и записываем в строку\n",
    "            check_row =  {'district':districts,\n",
    "                          'warehouse_name':warehouses,\n",
    "                          'pearson_cor':kp[0],\n",
    "                          'pearson_pv':kp[1],\n",
    "                          'spearman_cor':ks[0],\n",
    "                          'spearman_pv':ks[1],\n",
    "                         }\n",
    "\n",
    "            #создаем датафрейм\n",
    "            check_row = pd.DataFrame(data=check_row, index=[counter])\n",
    "\n",
    "            #прсиоединяем строку с оставшимися диллерами к датафрейму\n",
    "            coeffs = pd.concat([coeffs, check_row])  \n",
    "            counter += 1\n",
    "\n",
    "    coeffs = coeffs.style.apply(lambda x: ['color:red'  if v < 0.05  else '' for v in x], subset=['pearson_pv', 'spearman_pv'], axis=1)\n",
    "    return coeffs\n",
    "            "
   ]
  },
  {
   "cell_type": "markdown",
   "id": "4a976aa4-b4cb-4ca4-9a27-63b80bad18c5",
   "metadata": {},
   "source": [
    "### Связь между количеством полицейских в районе и охраной на складе"
   ]
  },
  {
   "cell_type": "markdown",
   "id": "a319ac52-d9e6-4fa3-a76b-0cd2bce49958",
   "metadata": {},
   "source": [
    "Выдвенем гипотезы.  \n",
    "  \n",
    "Нулевая гипотеза - есть основание полагать, что взаимосвязь (корреляция) между количеством полицейских и количеством охраны статистически значима.  \n",
    "Альтернативная гипотеза - нет оснований полагать, что взаимосвязь (корреляция) между количеством полицейских и количеством охраны статистически значима.  \n",
    "  \n",
    "Уровень статистической значимости (p-value) здесь и далее будем считать равным 0,05. "
   ]
  },
  {
   "cell_type": "code",
   "execution_count": 29,
   "id": "44cba188-17fd-42c2-aa22-3257942c4a68",
   "metadata": {},
   "outputs": [
    {
     "data": {
      "text/html": [
       "<style type=\"text/css\">\n",
       "#T_fd557_row0_col3, #T_fd557_row0_col5, #T_fd557_row1_col3, #T_fd557_row1_col5, #T_fd557_row2_col3, #T_fd557_row2_col5, #T_fd557_row3_col3, #T_fd557_row3_col5, #T_fd557_row4_col3, #T_fd557_row4_col5, #T_fd557_row5_col3, #T_fd557_row5_col5, #T_fd557_row6_col3, #T_fd557_row6_col5, #T_fd557_row7_col3, #T_fd557_row7_col5, #T_fd557_row8_col3, #T_fd557_row8_col5, #T_fd557_row9_col3, #T_fd557_row9_col5, #T_fd557_row10_col3, #T_fd557_row10_col5, #T_fd557_row11_col3, #T_fd557_row11_col5, #T_fd557_row12_col3, #T_fd557_row12_col5, #T_fd557_row13_col3, #T_fd557_row13_col5, #T_fd557_row14_col3, #T_fd557_row14_col5, #T_fd557_row15_col3, #T_fd557_row15_col5, #T_fd557_row16_col3, #T_fd557_row16_col5, #T_fd557_row17_col3, #T_fd557_row17_col5, #T_fd557_row18_col3, #T_fd557_row18_col5, #T_fd557_row19_col3, #T_fd557_row19_col5, #T_fd557_row20_col3, #T_fd557_row20_col5, #T_fd557_row21_col3, #T_fd557_row21_col5, #T_fd557_row22_col3, #T_fd557_row22_col5, #T_fd557_row23_col3, #T_fd557_row23_col5 {\n",
       "  color: red;\n",
       "}\n",
       "</style>\n",
       "<table id=\"T_fd557\">\n",
       "  <thead>\n",
       "    <tr>\n",
       "      <th class=\"blank level0\" >&nbsp;</th>\n",
       "      <th id=\"T_fd557_level0_col0\" class=\"col_heading level0 col0\" >district</th>\n",
       "      <th id=\"T_fd557_level0_col1\" class=\"col_heading level0 col1\" >warehouse_name</th>\n",
       "      <th id=\"T_fd557_level0_col2\" class=\"col_heading level0 col2\" >pearson_cor</th>\n",
       "      <th id=\"T_fd557_level0_col3\" class=\"col_heading level0 col3\" >pearson_pv</th>\n",
       "      <th id=\"T_fd557_level0_col4\" class=\"col_heading level0 col4\" >spearman_cor</th>\n",
       "      <th id=\"T_fd557_level0_col5\" class=\"col_heading level0 col5\" >spearman_pv</th>\n",
       "    </tr>\n",
       "  </thead>\n",
       "  <tbody>\n",
       "    <tr>\n",
       "      <th id=\"T_fd557_level0_row0\" class=\"row_heading level0 row0\" >0</th>\n",
       "      <td id=\"T_fd557_row0_col0\" class=\"data row0 col0\" >Мышеостровский</td>\n",
       "      <td id=\"T_fd557_row0_col1\" class=\"data row0 col1\" >Колбасовы</td>\n",
       "      <td id=\"T_fd557_row0_col2\" class=\"data row0 col2\" >0.950587</td>\n",
       "      <td id=\"T_fd557_row0_col3\" class=\"data row0 col3\" >0.000000</td>\n",
       "      <td id=\"T_fd557_row0_col4\" class=\"data row0 col4\" >0.953349</td>\n",
       "      <td id=\"T_fd557_row0_col5\" class=\"data row0 col5\" >0.000000</td>\n",
       "    </tr>\n",
       "    <tr>\n",
       "      <th id=\"T_fd557_level0_row1\" class=\"row_heading level0 row1\" >1</th>\n",
       "      <td id=\"T_fd557_row1_col0\" class=\"data row1 col0\" >Мышеостровский</td>\n",
       "      <td id=\"T_fd557_row1_col1\" class=\"data row1 col1\" >Молочковы</td>\n",
       "      <td id=\"T_fd557_row1_col2\" class=\"data row1 col2\" >0.951921</td>\n",
       "      <td id=\"T_fd557_row1_col3\" class=\"data row1 col3\" >0.000000</td>\n",
       "      <td id=\"T_fd557_row1_col4\" class=\"data row1 col4\" >0.955204</td>\n",
       "      <td id=\"T_fd557_row1_col5\" class=\"data row1 col5\" >0.000000</td>\n",
       "    </tr>\n",
       "    <tr>\n",
       "      <th id=\"T_fd557_level0_row2\" class=\"row_heading level0 row2\" >2</th>\n",
       "      <td id=\"T_fd557_row2_col0\" class=\"data row2 col0\" >Мышеостровский</td>\n",
       "      <td id=\"T_fd557_row2_col1\" class=\"data row2 col1\" >Мятновы</td>\n",
       "      <td id=\"T_fd557_row2_col2\" class=\"data row2 col2\" >0.955313</td>\n",
       "      <td id=\"T_fd557_row2_col3\" class=\"data row2 col3\" >0.000000</td>\n",
       "      <td id=\"T_fd557_row2_col4\" class=\"data row2 col4\" >0.958226</td>\n",
       "      <td id=\"T_fd557_row2_col5\" class=\"data row2 col5\" >0.000000</td>\n",
       "    </tr>\n",
       "    <tr>\n",
       "      <th id=\"T_fd557_level0_row3\" class=\"row_heading level0 row3\" >3</th>\n",
       "      <td id=\"T_fd557_row3_col0\" class=\"data row3 col0\" >Мышеостровский</td>\n",
       "      <td id=\"T_fd557_row3_col1\" class=\"data row3 col1\" >Сметанинковы</td>\n",
       "      <td id=\"T_fd557_row3_col2\" class=\"data row3 col2\" >0.950307</td>\n",
       "      <td id=\"T_fd557_row3_col3\" class=\"data row3 col3\" >0.000000</td>\n",
       "      <td id=\"T_fd557_row3_col4\" class=\"data row3 col4\" >0.954237</td>\n",
       "      <td id=\"T_fd557_row3_col5\" class=\"data row3 col5\" >0.000000</td>\n",
       "    </tr>\n",
       "    <tr>\n",
       "      <th id=\"T_fd557_level0_row4\" class=\"row_heading level0 row4\" >4</th>\n",
       "      <td id=\"T_fd557_row4_col0\" class=\"data row4 col0\" >Краснокотейский</td>\n",
       "      <td id=\"T_fd557_row4_col1\" class=\"data row4 col1\" >Колбасовы</td>\n",
       "      <td id=\"T_fd557_row4_col2\" class=\"data row4 col2\" >0.957736</td>\n",
       "      <td id=\"T_fd557_row4_col3\" class=\"data row4 col3\" >0.000000</td>\n",
       "      <td id=\"T_fd557_row4_col4\" class=\"data row4 col4\" >0.960163</td>\n",
       "      <td id=\"T_fd557_row4_col5\" class=\"data row4 col5\" >0.000000</td>\n",
       "    </tr>\n",
       "    <tr>\n",
       "      <th id=\"T_fd557_level0_row5\" class=\"row_heading level0 row5\" >5</th>\n",
       "      <td id=\"T_fd557_row5_col0\" class=\"data row5 col0\" >Краснокотейский</td>\n",
       "      <td id=\"T_fd557_row5_col1\" class=\"data row5 col1\" >Молочковы</td>\n",
       "      <td id=\"T_fd557_row5_col2\" class=\"data row5 col2\" >0.950845</td>\n",
       "      <td id=\"T_fd557_row5_col3\" class=\"data row5 col3\" >0.000000</td>\n",
       "      <td id=\"T_fd557_row5_col4\" class=\"data row5 col4\" >0.953815</td>\n",
       "      <td id=\"T_fd557_row5_col5\" class=\"data row5 col5\" >0.000000</td>\n",
       "    </tr>\n",
       "    <tr>\n",
       "      <th id=\"T_fd557_level0_row6\" class=\"row_heading level0 row6\" >6</th>\n",
       "      <td id=\"T_fd557_row6_col0\" class=\"data row6 col0\" >Краснокотейский</td>\n",
       "      <td id=\"T_fd557_row6_col1\" class=\"data row6 col1\" >Мятновы</td>\n",
       "      <td id=\"T_fd557_row6_col2\" class=\"data row6 col2\" >0.951313</td>\n",
       "      <td id=\"T_fd557_row6_col3\" class=\"data row6 col3\" >0.000000</td>\n",
       "      <td id=\"T_fd557_row6_col4\" class=\"data row6 col4\" >0.955211</td>\n",
       "      <td id=\"T_fd557_row6_col5\" class=\"data row6 col5\" >0.000000</td>\n",
       "    </tr>\n",
       "    <tr>\n",
       "      <th id=\"T_fd557_level0_row7\" class=\"row_heading level0 row7\" >7</th>\n",
       "      <td id=\"T_fd557_row7_col0\" class=\"data row7 col0\" >Краснокотейский</td>\n",
       "      <td id=\"T_fd557_row7_col1\" class=\"data row7 col1\" >Сметанинковы</td>\n",
       "      <td id=\"T_fd557_row7_col2\" class=\"data row7 col2\" >0.953396</td>\n",
       "      <td id=\"T_fd557_row7_col3\" class=\"data row7 col3\" >0.000000</td>\n",
       "      <td id=\"T_fd557_row7_col4\" class=\"data row7 col4\" >0.956748</td>\n",
       "      <td id=\"T_fd557_row7_col5\" class=\"data row7 col5\" >0.000000</td>\n",
       "    </tr>\n",
       "    <tr>\n",
       "      <th id=\"T_fd557_level0_row8\" class=\"row_heading level0 row8\" >8</th>\n",
       "      <td id=\"T_fd557_row8_col0\" class=\"data row8 col0\" >Мышесельский</td>\n",
       "      <td id=\"T_fd557_row8_col1\" class=\"data row8 col1\" >Колбасовы</td>\n",
       "      <td id=\"T_fd557_row8_col2\" class=\"data row8 col2\" >0.953029</td>\n",
       "      <td id=\"T_fd557_row8_col3\" class=\"data row8 col3\" >0.000000</td>\n",
       "      <td id=\"T_fd557_row8_col4\" class=\"data row8 col4\" >0.956664</td>\n",
       "      <td id=\"T_fd557_row8_col5\" class=\"data row8 col5\" >0.000000</td>\n",
       "    </tr>\n",
       "    <tr>\n",
       "      <th id=\"T_fd557_level0_row9\" class=\"row_heading level0 row9\" >9</th>\n",
       "      <td id=\"T_fd557_row9_col0\" class=\"data row9 col0\" >Мышесельский</td>\n",
       "      <td id=\"T_fd557_row9_col1\" class=\"data row9 col1\" >Молочковы</td>\n",
       "      <td id=\"T_fd557_row9_col2\" class=\"data row9 col2\" >0.955615</td>\n",
       "      <td id=\"T_fd557_row9_col3\" class=\"data row9 col3\" >0.000000</td>\n",
       "      <td id=\"T_fd557_row9_col4\" class=\"data row9 col4\" >0.956219</td>\n",
       "      <td id=\"T_fd557_row9_col5\" class=\"data row9 col5\" >0.000000</td>\n",
       "    </tr>\n",
       "    <tr>\n",
       "      <th id=\"T_fd557_level0_row10\" class=\"row_heading level0 row10\" >10</th>\n",
       "      <td id=\"T_fd557_row10_col0\" class=\"data row10 col0\" >Мышесельский</td>\n",
       "      <td id=\"T_fd557_row10_col1\" class=\"data row10 col1\" >Мятновы</td>\n",
       "      <td id=\"T_fd557_row10_col2\" class=\"data row10 col2\" >0.952908</td>\n",
       "      <td id=\"T_fd557_row10_col3\" class=\"data row10 col3\" >0.000000</td>\n",
       "      <td id=\"T_fd557_row10_col4\" class=\"data row10 col4\" >0.954914</td>\n",
       "      <td id=\"T_fd557_row10_col5\" class=\"data row10 col5\" >0.000000</td>\n",
       "    </tr>\n",
       "    <tr>\n",
       "      <th id=\"T_fd557_level0_row11\" class=\"row_heading level0 row11\" >11</th>\n",
       "      <td id=\"T_fd557_row11_col0\" class=\"data row11 col0\" >Мышесельский</td>\n",
       "      <td id=\"T_fd557_row11_col1\" class=\"data row11 col1\" >Сметанинковы</td>\n",
       "      <td id=\"T_fd557_row11_col2\" class=\"data row11 col2\" >0.952089</td>\n",
       "      <td id=\"T_fd557_row11_col3\" class=\"data row11 col3\" >0.000000</td>\n",
       "      <td id=\"T_fd557_row11_col4\" class=\"data row11 col4\" >0.951784</td>\n",
       "      <td id=\"T_fd557_row11_col5\" class=\"data row11 col5\" >0.000000</td>\n",
       "    </tr>\n",
       "    <tr>\n",
       "      <th id=\"T_fd557_level0_row12\" class=\"row_heading level0 row12\" >12</th>\n",
       "      <td id=\"T_fd557_row12_col0\" class=\"data row12 col0\" >Петрокотский</td>\n",
       "      <td id=\"T_fd557_row12_col1\" class=\"data row12 col1\" >Колбасовы</td>\n",
       "      <td id=\"T_fd557_row12_col2\" class=\"data row12 col2\" >0.952556</td>\n",
       "      <td id=\"T_fd557_row12_col3\" class=\"data row12 col3\" >0.000000</td>\n",
       "      <td id=\"T_fd557_row12_col4\" class=\"data row12 col4\" >0.956451</td>\n",
       "      <td id=\"T_fd557_row12_col5\" class=\"data row12 col5\" >0.000000</td>\n",
       "    </tr>\n",
       "    <tr>\n",
       "      <th id=\"T_fd557_level0_row13\" class=\"row_heading level0 row13\" >13</th>\n",
       "      <td id=\"T_fd557_row13_col0\" class=\"data row13 col0\" >Петрокотский</td>\n",
       "      <td id=\"T_fd557_row13_col1\" class=\"data row13 col1\" >Молочковы</td>\n",
       "      <td id=\"T_fd557_row13_col2\" class=\"data row13 col2\" >0.955115</td>\n",
       "      <td id=\"T_fd557_row13_col3\" class=\"data row13 col3\" >0.000000</td>\n",
       "      <td id=\"T_fd557_row13_col4\" class=\"data row13 col4\" >0.959149</td>\n",
       "      <td id=\"T_fd557_row13_col5\" class=\"data row13 col5\" >0.000000</td>\n",
       "    </tr>\n",
       "    <tr>\n",
       "      <th id=\"T_fd557_level0_row14\" class=\"row_heading level0 row14\" >14</th>\n",
       "      <td id=\"T_fd557_row14_col0\" class=\"data row14 col0\" >Петрокотский</td>\n",
       "      <td id=\"T_fd557_row14_col1\" class=\"data row14 col1\" >Мятновы</td>\n",
       "      <td id=\"T_fd557_row14_col2\" class=\"data row14 col2\" >0.951966</td>\n",
       "      <td id=\"T_fd557_row14_col3\" class=\"data row14 col3\" >0.000000</td>\n",
       "      <td id=\"T_fd557_row14_col4\" class=\"data row14 col4\" >0.954052</td>\n",
       "      <td id=\"T_fd557_row14_col5\" class=\"data row14 col5\" >0.000000</td>\n",
       "    </tr>\n",
       "    <tr>\n",
       "      <th id=\"T_fd557_level0_row15\" class=\"row_heading level0 row15\" >15</th>\n",
       "      <td id=\"T_fd557_row15_col0\" class=\"data row15 col0\" >Петрокотский</td>\n",
       "      <td id=\"T_fd557_row15_col1\" class=\"data row15 col1\" >Сметанинковы</td>\n",
       "      <td id=\"T_fd557_row15_col2\" class=\"data row15 col2\" >0.954105</td>\n",
       "      <td id=\"T_fd557_row15_col3\" class=\"data row15 col3\" >0.000000</td>\n",
       "      <td id=\"T_fd557_row15_col4\" class=\"data row15 col4\" >0.956134</td>\n",
       "      <td id=\"T_fd557_row15_col5\" class=\"data row15 col5\" >0.000000</td>\n",
       "    </tr>\n",
       "    <tr>\n",
       "      <th id=\"T_fd557_level0_row16\" class=\"row_heading level0 row16\" >16</th>\n",
       "      <td id=\"T_fd557_row16_col0\" class=\"data row16 col0\" >Приморский</td>\n",
       "      <td id=\"T_fd557_row16_col1\" class=\"data row16 col1\" >Колбасовы</td>\n",
       "      <td id=\"T_fd557_row16_col2\" class=\"data row16 col2\" >0.951445</td>\n",
       "      <td id=\"T_fd557_row16_col3\" class=\"data row16 col3\" >0.000000</td>\n",
       "      <td id=\"T_fd557_row16_col4\" class=\"data row16 col4\" >0.955419</td>\n",
       "      <td id=\"T_fd557_row16_col5\" class=\"data row16 col5\" >0.000000</td>\n",
       "    </tr>\n",
       "    <tr>\n",
       "      <th id=\"T_fd557_level0_row17\" class=\"row_heading level0 row17\" >17</th>\n",
       "      <td id=\"T_fd557_row17_col0\" class=\"data row17 col0\" >Приморский</td>\n",
       "      <td id=\"T_fd557_row17_col1\" class=\"data row17 col1\" >Молочковы</td>\n",
       "      <td id=\"T_fd557_row17_col2\" class=\"data row17 col2\" >0.951885</td>\n",
       "      <td id=\"T_fd557_row17_col3\" class=\"data row17 col3\" >0.000000</td>\n",
       "      <td id=\"T_fd557_row17_col4\" class=\"data row17 col4\" >0.956047</td>\n",
       "      <td id=\"T_fd557_row17_col5\" class=\"data row17 col5\" >0.000000</td>\n",
       "    </tr>\n",
       "    <tr>\n",
       "      <th id=\"T_fd557_level0_row18\" class=\"row_heading level0 row18\" >18</th>\n",
       "      <td id=\"T_fd557_row18_col0\" class=\"data row18 col0\" >Приморский</td>\n",
       "      <td id=\"T_fd557_row18_col1\" class=\"data row18 col1\" >Мятновы</td>\n",
       "      <td id=\"T_fd557_row18_col2\" class=\"data row18 col2\" >0.952349</td>\n",
       "      <td id=\"T_fd557_row18_col3\" class=\"data row18 col3\" >0.000000</td>\n",
       "      <td id=\"T_fd557_row18_col4\" class=\"data row18 col4\" >0.954795</td>\n",
       "      <td id=\"T_fd557_row18_col5\" class=\"data row18 col5\" >0.000000</td>\n",
       "    </tr>\n",
       "    <tr>\n",
       "      <th id=\"T_fd557_level0_row19\" class=\"row_heading level0 row19\" >19</th>\n",
       "      <td id=\"T_fd557_row19_col0\" class=\"data row19 col0\" >Приморский</td>\n",
       "      <td id=\"T_fd557_row19_col1\" class=\"data row19 col1\" >Сметанинковы</td>\n",
       "      <td id=\"T_fd557_row19_col2\" class=\"data row19 col2\" >0.955066</td>\n",
       "      <td id=\"T_fd557_row19_col3\" class=\"data row19 col3\" >0.000000</td>\n",
       "      <td id=\"T_fd557_row19_col4\" class=\"data row19 col4\" >0.957437</td>\n",
       "      <td id=\"T_fd557_row19_col5\" class=\"data row19 col5\" >0.000000</td>\n",
       "    </tr>\n",
       "    <tr>\n",
       "      <th id=\"T_fd557_level0_row20\" class=\"row_heading level0 row20\" >20</th>\n",
       "      <td id=\"T_fd557_row20_col0\" class=\"data row20 col0\" >Невский</td>\n",
       "      <td id=\"T_fd557_row20_col1\" class=\"data row20 col1\" >Колбасовы</td>\n",
       "      <td id=\"T_fd557_row20_col2\" class=\"data row20 col2\" >0.948905</td>\n",
       "      <td id=\"T_fd557_row20_col3\" class=\"data row20 col3\" >0.000000</td>\n",
       "      <td id=\"T_fd557_row20_col4\" class=\"data row20 col4\" >0.952035</td>\n",
       "      <td id=\"T_fd557_row20_col5\" class=\"data row20 col5\" >0.000000</td>\n",
       "    </tr>\n",
       "    <tr>\n",
       "      <th id=\"T_fd557_level0_row21\" class=\"row_heading level0 row21\" >21</th>\n",
       "      <td id=\"T_fd557_row21_col0\" class=\"data row21 col0\" >Невский</td>\n",
       "      <td id=\"T_fd557_row21_col1\" class=\"data row21 col1\" >Молочковы</td>\n",
       "      <td id=\"T_fd557_row21_col2\" class=\"data row21 col2\" >0.953647</td>\n",
       "      <td id=\"T_fd557_row21_col3\" class=\"data row21 col3\" >0.000000</td>\n",
       "      <td id=\"T_fd557_row21_col4\" class=\"data row21 col4\" >0.956031</td>\n",
       "      <td id=\"T_fd557_row21_col5\" class=\"data row21 col5\" >0.000000</td>\n",
       "    </tr>\n",
       "    <tr>\n",
       "      <th id=\"T_fd557_level0_row22\" class=\"row_heading level0 row22\" >22</th>\n",
       "      <td id=\"T_fd557_row22_col0\" class=\"data row22 col0\" >Невский</td>\n",
       "      <td id=\"T_fd557_row22_col1\" class=\"data row22 col1\" >Мятновы</td>\n",
       "      <td id=\"T_fd557_row22_col2\" class=\"data row22 col2\" >0.955832</td>\n",
       "      <td id=\"T_fd557_row22_col3\" class=\"data row22 col3\" >0.000000</td>\n",
       "      <td id=\"T_fd557_row22_col4\" class=\"data row22 col4\" >0.957097</td>\n",
       "      <td id=\"T_fd557_row22_col5\" class=\"data row22 col5\" >0.000000</td>\n",
       "    </tr>\n",
       "    <tr>\n",
       "      <th id=\"T_fd557_level0_row23\" class=\"row_heading level0 row23\" >23</th>\n",
       "      <td id=\"T_fd557_row23_col0\" class=\"data row23 col0\" >Невский</td>\n",
       "      <td id=\"T_fd557_row23_col1\" class=\"data row23 col1\" >Сметанинковы</td>\n",
       "      <td id=\"T_fd557_row23_col2\" class=\"data row23 col2\" >0.956218</td>\n",
       "      <td id=\"T_fd557_row23_col3\" class=\"data row23 col3\" >0.000000</td>\n",
       "      <td id=\"T_fd557_row23_col4\" class=\"data row23 col4\" >0.959804</td>\n",
       "      <td id=\"T_fd557_row23_col5\" class=\"data row23 col5\" >0.000000</td>\n",
       "    </tr>\n",
       "  </tbody>\n",
       "</table>\n"
      ],
      "text/plain": [
       "<pandas.io.formats.style.Styler at 0x7fc8a0a7e320>"
      ]
     },
     "metadata": {},
     "output_type": "display_data"
    }
   ],
   "source": [
    "police_guards = df_corr_chec(df, 'police_units', 'number_of_guards')\n",
    "display(police_guards)"
   ]
  },
  {
   "cell_type": "markdown",
   "id": "a6ae9e91-a7c8-444e-83ed-a5ee4f257d22",
   "metadata": {},
   "source": [
    "Как мы видим, для всех складов есть основание полагать, что взаимосвязь (корреляция) между количеством полицейских и количеством охраны статистически значима.   \n",
    "Можем предположить, что охраны, как и полицейских, больше в неблагоприятных районах."
   ]
  },
  {
   "cell_type": "markdown",
   "id": "f8e20673-c657-400b-ab5c-e3f9e41dba4d",
   "metadata": {},
   "source": [
    "### Связь между количеством фонарей и процентом раскрытия преступлений"
   ]
  },
  {
   "cell_type": "markdown",
   "id": "f2dd0daf-9e13-4707-baff-b7d6634e4126",
   "metadata": {},
   "source": [
    "Выдвенем гипотезы.  \n",
    "  \n",
    "Нулевая гипотеза - есть основание полагать, что взаимосвязь (корреляция) между количеством фонарей в районе и процентом раскрытых преступлений по уничтожению фонарей в районе статистически значима.  \n",
    "Альтернативная гипотеза - нет оснований полагать, что взаимосвязь (корреляция) между количеством фонарей в районе и процентом раскрытых преступлений по уничтожению фонарей в районе статистически значима.  "
   ]
  },
  {
   "cell_type": "code",
   "execution_count": 30,
   "id": "95f33d3c-8d7c-461a-b694-61d67127a6c4",
   "metadata": {},
   "outputs": [
    {
     "data": {
      "text/html": [
       "<style type=\"text/css\">\n",
       "#T_4e6eb_row0_col3, #T_4e6eb_row0_col5, #T_4e6eb_row1_col3, #T_4e6eb_row1_col5, #T_4e6eb_row2_col3, #T_4e6eb_row2_col5, #T_4e6eb_row3_col3, #T_4e6eb_row3_col5, #T_4e6eb_row4_col3, #T_4e6eb_row4_col5, #T_4e6eb_row5_col3, #T_4e6eb_row5_col5, #T_4e6eb_row6_col3, #T_4e6eb_row6_col5, #T_4e6eb_row7_col3, #T_4e6eb_row7_col5, #T_4e6eb_row8_col3, #T_4e6eb_row8_col5, #T_4e6eb_row9_col3, #T_4e6eb_row9_col5, #T_4e6eb_row10_col3, #T_4e6eb_row10_col5, #T_4e6eb_row11_col3, #T_4e6eb_row11_col5, #T_4e6eb_row12_col3, #T_4e6eb_row12_col5, #T_4e6eb_row13_col3, #T_4e6eb_row13_col5, #T_4e6eb_row14_col3, #T_4e6eb_row14_col5, #T_4e6eb_row15_col3, #T_4e6eb_row15_col5, #T_4e6eb_row16_col3, #T_4e6eb_row16_col5, #T_4e6eb_row17_col3, #T_4e6eb_row17_col5, #T_4e6eb_row18_col3, #T_4e6eb_row18_col5, #T_4e6eb_row19_col3, #T_4e6eb_row19_col5, #T_4e6eb_row20_col3, #T_4e6eb_row20_col5, #T_4e6eb_row21_col3, #T_4e6eb_row21_col5, #T_4e6eb_row22_col3, #T_4e6eb_row22_col5, #T_4e6eb_row23_col3, #T_4e6eb_row23_col5 {\n",
       "  color: red;\n",
       "}\n",
       "</style>\n",
       "<table id=\"T_4e6eb\">\n",
       "  <thead>\n",
       "    <tr>\n",
       "      <th class=\"blank level0\" >&nbsp;</th>\n",
       "      <th id=\"T_4e6eb_level0_col0\" class=\"col_heading level0 col0\" >district</th>\n",
       "      <th id=\"T_4e6eb_level0_col1\" class=\"col_heading level0 col1\" >warehouse_name</th>\n",
       "      <th id=\"T_4e6eb_level0_col2\" class=\"col_heading level0 col2\" >pearson_cor</th>\n",
       "      <th id=\"T_4e6eb_level0_col3\" class=\"col_heading level0 col3\" >pearson_pv</th>\n",
       "      <th id=\"T_4e6eb_level0_col4\" class=\"col_heading level0 col4\" >spearman_cor</th>\n",
       "      <th id=\"T_4e6eb_level0_col5\" class=\"col_heading level0 col5\" >spearman_pv</th>\n",
       "    </tr>\n",
       "  </thead>\n",
       "  <tbody>\n",
       "    <tr>\n",
       "      <th id=\"T_4e6eb_level0_row0\" class=\"row_heading level0 row0\" >0</th>\n",
       "      <td id=\"T_4e6eb_row0_col0\" class=\"data row0 col0\" >Мышеостровский</td>\n",
       "      <td id=\"T_4e6eb_row0_col1\" class=\"data row0 col1\" >Колбасовы</td>\n",
       "      <td id=\"T_4e6eb_row0_col2\" class=\"data row0 col2\" >0.472167</td>\n",
       "      <td id=\"T_4e6eb_row0_col3\" class=\"data row0 col3\" >0.000000</td>\n",
       "      <td id=\"T_4e6eb_row0_col4\" class=\"data row0 col4\" >0.536808</td>\n",
       "      <td id=\"T_4e6eb_row0_col5\" class=\"data row0 col5\" >0.000000</td>\n",
       "    </tr>\n",
       "    <tr>\n",
       "      <th id=\"T_4e6eb_level0_row1\" class=\"row_heading level0 row1\" >1</th>\n",
       "      <td id=\"T_4e6eb_row1_col0\" class=\"data row1 col0\" >Мышеостровский</td>\n",
       "      <td id=\"T_4e6eb_row1_col1\" class=\"data row1 col1\" >Молочковы</td>\n",
       "      <td id=\"T_4e6eb_row1_col2\" class=\"data row1 col2\" >0.477417</td>\n",
       "      <td id=\"T_4e6eb_row1_col3\" class=\"data row1 col3\" >0.000000</td>\n",
       "      <td id=\"T_4e6eb_row1_col4\" class=\"data row1 col4\" >0.553369</td>\n",
       "      <td id=\"T_4e6eb_row1_col5\" class=\"data row1 col5\" >0.000000</td>\n",
       "    </tr>\n",
       "    <tr>\n",
       "      <th id=\"T_4e6eb_level0_row2\" class=\"row_heading level0 row2\" >2</th>\n",
       "      <td id=\"T_4e6eb_row2_col0\" class=\"data row2 col0\" >Мышеостровский</td>\n",
       "      <td id=\"T_4e6eb_row2_col1\" class=\"data row2 col1\" >Мятновы</td>\n",
       "      <td id=\"T_4e6eb_row2_col2\" class=\"data row2 col2\" >0.445170</td>\n",
       "      <td id=\"T_4e6eb_row2_col3\" class=\"data row2 col3\" >0.000000</td>\n",
       "      <td id=\"T_4e6eb_row2_col4\" class=\"data row2 col4\" >0.517659</td>\n",
       "      <td id=\"T_4e6eb_row2_col5\" class=\"data row2 col5\" >0.000000</td>\n",
       "    </tr>\n",
       "    <tr>\n",
       "      <th id=\"T_4e6eb_level0_row3\" class=\"row_heading level0 row3\" >3</th>\n",
       "      <td id=\"T_4e6eb_row3_col0\" class=\"data row3 col0\" >Мышеостровский</td>\n",
       "      <td id=\"T_4e6eb_row3_col1\" class=\"data row3 col1\" >Сметанинковы</td>\n",
       "      <td id=\"T_4e6eb_row3_col2\" class=\"data row3 col2\" >0.494715</td>\n",
       "      <td id=\"T_4e6eb_row3_col3\" class=\"data row3 col3\" >0.000000</td>\n",
       "      <td id=\"T_4e6eb_row3_col4\" class=\"data row3 col4\" >0.576430</td>\n",
       "      <td id=\"T_4e6eb_row3_col5\" class=\"data row3 col5\" >0.000000</td>\n",
       "    </tr>\n",
       "    <tr>\n",
       "      <th id=\"T_4e6eb_level0_row4\" class=\"row_heading level0 row4\" >4</th>\n",
       "      <td id=\"T_4e6eb_row4_col0\" class=\"data row4 col0\" >Краснокотейский</td>\n",
       "      <td id=\"T_4e6eb_row4_col1\" class=\"data row4 col1\" >Колбасовы</td>\n",
       "      <td id=\"T_4e6eb_row4_col2\" class=\"data row4 col2\" >0.474587</td>\n",
       "      <td id=\"T_4e6eb_row4_col3\" class=\"data row4 col3\" >0.000000</td>\n",
       "      <td id=\"T_4e6eb_row4_col4\" class=\"data row4 col4\" >0.536322</td>\n",
       "      <td id=\"T_4e6eb_row4_col5\" class=\"data row4 col5\" >0.000000</td>\n",
       "    </tr>\n",
       "    <tr>\n",
       "      <th id=\"T_4e6eb_level0_row5\" class=\"row_heading level0 row5\" >5</th>\n",
       "      <td id=\"T_4e6eb_row5_col0\" class=\"data row5 col0\" >Краснокотейский</td>\n",
       "      <td id=\"T_4e6eb_row5_col1\" class=\"data row5 col1\" >Молочковы</td>\n",
       "      <td id=\"T_4e6eb_row5_col2\" class=\"data row5 col2\" >0.445154</td>\n",
       "      <td id=\"T_4e6eb_row5_col3\" class=\"data row5 col3\" >0.000000</td>\n",
       "      <td id=\"T_4e6eb_row5_col4\" class=\"data row5 col4\" >0.551253</td>\n",
       "      <td id=\"T_4e6eb_row5_col5\" class=\"data row5 col5\" >0.000000</td>\n",
       "    </tr>\n",
       "    <tr>\n",
       "      <th id=\"T_4e6eb_level0_row6\" class=\"row_heading level0 row6\" >6</th>\n",
       "      <td id=\"T_4e6eb_row6_col0\" class=\"data row6 col0\" >Краснокотейский</td>\n",
       "      <td id=\"T_4e6eb_row6_col1\" class=\"data row6 col1\" >Мятновы</td>\n",
       "      <td id=\"T_4e6eb_row6_col2\" class=\"data row6 col2\" >0.443068</td>\n",
       "      <td id=\"T_4e6eb_row6_col3\" class=\"data row6 col3\" >0.000000</td>\n",
       "      <td id=\"T_4e6eb_row6_col4\" class=\"data row6 col4\" >0.557673</td>\n",
       "      <td id=\"T_4e6eb_row6_col5\" class=\"data row6 col5\" >0.000000</td>\n",
       "    </tr>\n",
       "    <tr>\n",
       "      <th id=\"T_4e6eb_level0_row7\" class=\"row_heading level0 row7\" >7</th>\n",
       "      <td id=\"T_4e6eb_row7_col0\" class=\"data row7 col0\" >Краснокотейский</td>\n",
       "      <td id=\"T_4e6eb_row7_col1\" class=\"data row7 col1\" >Сметанинковы</td>\n",
       "      <td id=\"T_4e6eb_row7_col2\" class=\"data row7 col2\" >0.460227</td>\n",
       "      <td id=\"T_4e6eb_row7_col3\" class=\"data row7 col3\" >0.000000</td>\n",
       "      <td id=\"T_4e6eb_row7_col4\" class=\"data row7 col4\" >0.542580</td>\n",
       "      <td id=\"T_4e6eb_row7_col5\" class=\"data row7 col5\" >0.000000</td>\n",
       "    </tr>\n",
       "    <tr>\n",
       "      <th id=\"T_4e6eb_level0_row8\" class=\"row_heading level0 row8\" >8</th>\n",
       "      <td id=\"T_4e6eb_row8_col0\" class=\"data row8 col0\" >Мышесельский</td>\n",
       "      <td id=\"T_4e6eb_row8_col1\" class=\"data row8 col1\" >Колбасовы</td>\n",
       "      <td id=\"T_4e6eb_row8_col2\" class=\"data row8 col2\" >0.419366</td>\n",
       "      <td id=\"T_4e6eb_row8_col3\" class=\"data row8 col3\" >0.000000</td>\n",
       "      <td id=\"T_4e6eb_row8_col4\" class=\"data row8 col4\" >0.517556</td>\n",
       "      <td id=\"T_4e6eb_row8_col5\" class=\"data row8 col5\" >0.000000</td>\n",
       "    </tr>\n",
       "    <tr>\n",
       "      <th id=\"T_4e6eb_level0_row9\" class=\"row_heading level0 row9\" >9</th>\n",
       "      <td id=\"T_4e6eb_row9_col0\" class=\"data row9 col0\" >Мышесельский</td>\n",
       "      <td id=\"T_4e6eb_row9_col1\" class=\"data row9 col1\" >Молочковы</td>\n",
       "      <td id=\"T_4e6eb_row9_col2\" class=\"data row9 col2\" >0.444319</td>\n",
       "      <td id=\"T_4e6eb_row9_col3\" class=\"data row9 col3\" >0.000000</td>\n",
       "      <td id=\"T_4e6eb_row9_col4\" class=\"data row9 col4\" >0.538961</td>\n",
       "      <td id=\"T_4e6eb_row9_col5\" class=\"data row9 col5\" >0.000000</td>\n",
       "    </tr>\n",
       "    <tr>\n",
       "      <th id=\"T_4e6eb_level0_row10\" class=\"row_heading level0 row10\" >10</th>\n",
       "      <td id=\"T_4e6eb_row10_col0\" class=\"data row10 col0\" >Мышесельский</td>\n",
       "      <td id=\"T_4e6eb_row10_col1\" class=\"data row10 col1\" >Мятновы</td>\n",
       "      <td id=\"T_4e6eb_row10_col2\" class=\"data row10 col2\" >0.474765</td>\n",
       "      <td id=\"T_4e6eb_row10_col3\" class=\"data row10 col3\" >0.000000</td>\n",
       "      <td id=\"T_4e6eb_row10_col4\" class=\"data row10 col4\" >0.558989</td>\n",
       "      <td id=\"T_4e6eb_row10_col5\" class=\"data row10 col5\" >0.000000</td>\n",
       "    </tr>\n",
       "    <tr>\n",
       "      <th id=\"T_4e6eb_level0_row11\" class=\"row_heading level0 row11\" >11</th>\n",
       "      <td id=\"T_4e6eb_row11_col0\" class=\"data row11 col0\" >Мышесельский</td>\n",
       "      <td id=\"T_4e6eb_row11_col1\" class=\"data row11 col1\" >Сметанинковы</td>\n",
       "      <td id=\"T_4e6eb_row11_col2\" class=\"data row11 col2\" >0.409009</td>\n",
       "      <td id=\"T_4e6eb_row11_col3\" class=\"data row11 col3\" >0.000000</td>\n",
       "      <td id=\"T_4e6eb_row11_col4\" class=\"data row11 col4\" >0.512164</td>\n",
       "      <td id=\"T_4e6eb_row11_col5\" class=\"data row11 col5\" >0.000000</td>\n",
       "    </tr>\n",
       "    <tr>\n",
       "      <th id=\"T_4e6eb_level0_row12\" class=\"row_heading level0 row12\" >12</th>\n",
       "      <td id=\"T_4e6eb_row12_col0\" class=\"data row12 col0\" >Петрокотский</td>\n",
       "      <td id=\"T_4e6eb_row12_col1\" class=\"data row12 col1\" >Колбасовы</td>\n",
       "      <td id=\"T_4e6eb_row12_col2\" class=\"data row12 col2\" >0.470597</td>\n",
       "      <td id=\"T_4e6eb_row12_col3\" class=\"data row12 col3\" >0.000000</td>\n",
       "      <td id=\"T_4e6eb_row12_col4\" class=\"data row12 col4\" >0.511572</td>\n",
       "      <td id=\"T_4e6eb_row12_col5\" class=\"data row12 col5\" >0.000000</td>\n",
       "    </tr>\n",
       "    <tr>\n",
       "      <th id=\"T_4e6eb_level0_row13\" class=\"row_heading level0 row13\" >13</th>\n",
       "      <td id=\"T_4e6eb_row13_col0\" class=\"data row13 col0\" >Петрокотский</td>\n",
       "      <td id=\"T_4e6eb_row13_col1\" class=\"data row13 col1\" >Молочковы</td>\n",
       "      <td id=\"T_4e6eb_row13_col2\" class=\"data row13 col2\" >0.486392</td>\n",
       "      <td id=\"T_4e6eb_row13_col3\" class=\"data row13 col3\" >0.000000</td>\n",
       "      <td id=\"T_4e6eb_row13_col4\" class=\"data row13 col4\" >0.555712</td>\n",
       "      <td id=\"T_4e6eb_row13_col5\" class=\"data row13 col5\" >0.000000</td>\n",
       "    </tr>\n",
       "    <tr>\n",
       "      <th id=\"T_4e6eb_level0_row14\" class=\"row_heading level0 row14\" >14</th>\n",
       "      <td id=\"T_4e6eb_row14_col0\" class=\"data row14 col0\" >Петрокотский</td>\n",
       "      <td id=\"T_4e6eb_row14_col1\" class=\"data row14 col1\" >Мятновы</td>\n",
       "      <td id=\"T_4e6eb_row14_col2\" class=\"data row14 col2\" >0.462589</td>\n",
       "      <td id=\"T_4e6eb_row14_col3\" class=\"data row14 col3\" >0.000000</td>\n",
       "      <td id=\"T_4e6eb_row14_col4\" class=\"data row14 col4\" >0.518656</td>\n",
       "      <td id=\"T_4e6eb_row14_col5\" class=\"data row14 col5\" >0.000000</td>\n",
       "    </tr>\n",
       "    <tr>\n",
       "      <th id=\"T_4e6eb_level0_row15\" class=\"row_heading level0 row15\" >15</th>\n",
       "      <td id=\"T_4e6eb_row15_col0\" class=\"data row15 col0\" >Петрокотский</td>\n",
       "      <td id=\"T_4e6eb_row15_col1\" class=\"data row15 col1\" >Сметанинковы</td>\n",
       "      <td id=\"T_4e6eb_row15_col2\" class=\"data row15 col2\" >0.504381</td>\n",
       "      <td id=\"T_4e6eb_row15_col3\" class=\"data row15 col3\" >0.000000</td>\n",
       "      <td id=\"T_4e6eb_row15_col4\" class=\"data row15 col4\" >0.576592</td>\n",
       "      <td id=\"T_4e6eb_row15_col5\" class=\"data row15 col5\" >0.000000</td>\n",
       "    </tr>\n",
       "    <tr>\n",
       "      <th id=\"T_4e6eb_level0_row16\" class=\"row_heading level0 row16\" >16</th>\n",
       "      <td id=\"T_4e6eb_row16_col0\" class=\"data row16 col0\" >Приморский</td>\n",
       "      <td id=\"T_4e6eb_row16_col1\" class=\"data row16 col1\" >Колбасовы</td>\n",
       "      <td id=\"T_4e6eb_row16_col2\" class=\"data row16 col2\" >0.496535</td>\n",
       "      <td id=\"T_4e6eb_row16_col3\" class=\"data row16 col3\" >0.000000</td>\n",
       "      <td id=\"T_4e6eb_row16_col4\" class=\"data row16 col4\" >0.560430</td>\n",
       "      <td id=\"T_4e6eb_row16_col5\" class=\"data row16 col5\" >0.000000</td>\n",
       "    </tr>\n",
       "    <tr>\n",
       "      <th id=\"T_4e6eb_level0_row17\" class=\"row_heading level0 row17\" >17</th>\n",
       "      <td id=\"T_4e6eb_row17_col0\" class=\"data row17 col0\" >Приморский</td>\n",
       "      <td id=\"T_4e6eb_row17_col1\" class=\"data row17 col1\" >Молочковы</td>\n",
       "      <td id=\"T_4e6eb_row17_col2\" class=\"data row17 col2\" >0.486233</td>\n",
       "      <td id=\"T_4e6eb_row17_col3\" class=\"data row17 col3\" >0.000000</td>\n",
       "      <td id=\"T_4e6eb_row17_col4\" class=\"data row17 col4\" >0.555053</td>\n",
       "      <td id=\"T_4e6eb_row17_col5\" class=\"data row17 col5\" >0.000000</td>\n",
       "    </tr>\n",
       "    <tr>\n",
       "      <th id=\"T_4e6eb_level0_row18\" class=\"row_heading level0 row18\" >18</th>\n",
       "      <td id=\"T_4e6eb_row18_col0\" class=\"data row18 col0\" >Приморский</td>\n",
       "      <td id=\"T_4e6eb_row18_col1\" class=\"data row18 col1\" >Мятновы</td>\n",
       "      <td id=\"T_4e6eb_row18_col2\" class=\"data row18 col2\" >0.495180</td>\n",
       "      <td id=\"T_4e6eb_row18_col3\" class=\"data row18 col3\" >0.000000</td>\n",
       "      <td id=\"T_4e6eb_row18_col4\" class=\"data row18 col4\" >0.558512</td>\n",
       "      <td id=\"T_4e6eb_row18_col5\" class=\"data row18 col5\" >0.000000</td>\n",
       "    </tr>\n",
       "    <tr>\n",
       "      <th id=\"T_4e6eb_level0_row19\" class=\"row_heading level0 row19\" >19</th>\n",
       "      <td id=\"T_4e6eb_row19_col0\" class=\"data row19 col0\" >Приморский</td>\n",
       "      <td id=\"T_4e6eb_row19_col1\" class=\"data row19 col1\" >Сметанинковы</td>\n",
       "      <td id=\"T_4e6eb_row19_col2\" class=\"data row19 col2\" >0.444859</td>\n",
       "      <td id=\"T_4e6eb_row19_col3\" class=\"data row19 col3\" >0.000000</td>\n",
       "      <td id=\"T_4e6eb_row19_col4\" class=\"data row19 col4\" >0.501394</td>\n",
       "      <td id=\"T_4e6eb_row19_col5\" class=\"data row19 col5\" >0.000000</td>\n",
       "    </tr>\n",
       "    <tr>\n",
       "      <th id=\"T_4e6eb_level0_row20\" class=\"row_heading level0 row20\" >20</th>\n",
       "      <td id=\"T_4e6eb_row20_col0\" class=\"data row20 col0\" >Невский</td>\n",
       "      <td id=\"T_4e6eb_row20_col1\" class=\"data row20 col1\" >Колбасовы</td>\n",
       "      <td id=\"T_4e6eb_row20_col2\" class=\"data row20 col2\" >0.434817</td>\n",
       "      <td id=\"T_4e6eb_row20_col3\" class=\"data row20 col3\" >0.000000</td>\n",
       "      <td id=\"T_4e6eb_row20_col4\" class=\"data row20 col4\" >0.548215</td>\n",
       "      <td id=\"T_4e6eb_row20_col5\" class=\"data row20 col5\" >0.000000</td>\n",
       "    </tr>\n",
       "    <tr>\n",
       "      <th id=\"T_4e6eb_level0_row21\" class=\"row_heading level0 row21\" >21</th>\n",
       "      <td id=\"T_4e6eb_row21_col0\" class=\"data row21 col0\" >Невский</td>\n",
       "      <td id=\"T_4e6eb_row21_col1\" class=\"data row21 col1\" >Молочковы</td>\n",
       "      <td id=\"T_4e6eb_row21_col2\" class=\"data row21 col2\" >0.545954</td>\n",
       "      <td id=\"T_4e6eb_row21_col3\" class=\"data row21 col3\" >0.000000</td>\n",
       "      <td id=\"T_4e6eb_row21_col4\" class=\"data row21 col4\" >0.609666</td>\n",
       "      <td id=\"T_4e6eb_row21_col5\" class=\"data row21 col5\" >0.000000</td>\n",
       "    </tr>\n",
       "    <tr>\n",
       "      <th id=\"T_4e6eb_level0_row22\" class=\"row_heading level0 row22\" >22</th>\n",
       "      <td id=\"T_4e6eb_row22_col0\" class=\"data row22 col0\" >Невский</td>\n",
       "      <td id=\"T_4e6eb_row22_col1\" class=\"data row22 col1\" >Мятновы</td>\n",
       "      <td id=\"T_4e6eb_row22_col2\" class=\"data row22 col2\" >0.464636</td>\n",
       "      <td id=\"T_4e6eb_row22_col3\" class=\"data row22 col3\" >0.000000</td>\n",
       "      <td id=\"T_4e6eb_row22_col4\" class=\"data row22 col4\" >0.553432</td>\n",
       "      <td id=\"T_4e6eb_row22_col5\" class=\"data row22 col5\" >0.000000</td>\n",
       "    </tr>\n",
       "    <tr>\n",
       "      <th id=\"T_4e6eb_level0_row23\" class=\"row_heading level0 row23\" >23</th>\n",
       "      <td id=\"T_4e6eb_row23_col0\" class=\"data row23 col0\" >Невский</td>\n",
       "      <td id=\"T_4e6eb_row23_col1\" class=\"data row23 col1\" >Сметанинковы</td>\n",
       "      <td id=\"T_4e6eb_row23_col2\" class=\"data row23 col2\" >0.433524</td>\n",
       "      <td id=\"T_4e6eb_row23_col3\" class=\"data row23 col3\" >0.000000</td>\n",
       "      <td id=\"T_4e6eb_row23_col4\" class=\"data row23 col4\" >0.523069</td>\n",
       "      <td id=\"T_4e6eb_row23_col5\" class=\"data row23 col5\" >0.000000</td>\n",
       "    </tr>\n",
       "  </tbody>\n",
       "</table>\n"
      ],
      "text/plain": [
       "<pandas.io.formats.style.Styler at 0x7fc8a0a7e740>"
      ]
     },
     "metadata": {},
     "output_type": "display_data"
    }
   ],
   "source": [
    "lights_crime = df_corr_chec(df, 'number_of_lights', 'percent_of_crime_solved')\n",
    "display(lights_crime)"
   ]
  },
  {
   "cell_type": "markdown",
   "id": "61ba0034-5f56-4d6b-88a3-5590c39730cd",
   "metadata": {},
   "source": [
    "Для всех складов есть основание полагать, что взаимосвязь (корреляция) между количеством фонарей в районе и процентом раскрытых преступлений по уничтожению фонарей в районе статистически значима.     \n",
    "Можем предположить, что чем больше в районе фонарей, тем заметнее преступники, и тем проще их поймать."
   ]
  },
  {
   "cell_type": "markdown",
   "id": "835b5d62-cfd4-4434-adbe-adc2b1440fbd",
   "metadata": {},
   "source": [
    "### Связь между количеством полицейских и процентом раскрытия преступлений"
   ]
  },
  {
   "cell_type": "markdown",
   "id": "6194a696-1423-49f4-81c8-af0304f8c946",
   "metadata": {},
   "source": [
    "Выдвенем гипотезы.  \n",
    "  \n",
    "Нулевая гипотеза - есть основание полагать, что взаимосвязь (корреляция) между количеством полицейских в районе и процентом раскрытых преступлений по уничтожению фонарей в районе статистически значима.  \n",
    "Альтернативная гипотеза - нет оснований полагать, что взаимосвязь (корреляция) между количеством полицейских в районе и процентом раскрытых преступлений по уничтожению фонарей в районе статистически значима.  "
   ]
  },
  {
   "cell_type": "code",
   "execution_count": 31,
   "id": "f1d5cd2e-ebe9-43cb-a0cd-85df528ead67",
   "metadata": {},
   "outputs": [
    {
     "data": {
      "text/html": [
       "<style type=\"text/css\">\n",
       "#T_366a8_row2_col5, #T_366a8_row7_col5, #T_366a8_row16_col3, #T_366a8_row16_col5 {\n",
       "  color: red;\n",
       "}\n",
       "</style>\n",
       "<table id=\"T_366a8\">\n",
       "  <thead>\n",
       "    <tr>\n",
       "      <th class=\"blank level0\" >&nbsp;</th>\n",
       "      <th id=\"T_366a8_level0_col0\" class=\"col_heading level0 col0\" >district</th>\n",
       "      <th id=\"T_366a8_level0_col1\" class=\"col_heading level0 col1\" >warehouse_name</th>\n",
       "      <th id=\"T_366a8_level0_col2\" class=\"col_heading level0 col2\" >pearson_cor</th>\n",
       "      <th id=\"T_366a8_level0_col3\" class=\"col_heading level0 col3\" >pearson_pv</th>\n",
       "      <th id=\"T_366a8_level0_col4\" class=\"col_heading level0 col4\" >spearman_cor</th>\n",
       "      <th id=\"T_366a8_level0_col5\" class=\"col_heading level0 col5\" >spearman_pv</th>\n",
       "    </tr>\n",
       "  </thead>\n",
       "  <tbody>\n",
       "    <tr>\n",
       "      <th id=\"T_366a8_level0_row0\" class=\"row_heading level0 row0\" >0</th>\n",
       "      <td id=\"T_366a8_row0_col0\" class=\"data row0 col0\" >Мышеостровский</td>\n",
       "      <td id=\"T_366a8_row0_col1\" class=\"data row0 col1\" >Колбасовы</td>\n",
       "      <td id=\"T_366a8_row0_col2\" class=\"data row0 col2\" >-0.030361</td>\n",
       "      <td id=\"T_366a8_row0_col3\" class=\"data row0 col3\" >0.415968</td>\n",
       "      <td id=\"T_366a8_row0_col4\" class=\"data row0 col4\" >-0.034803</td>\n",
       "      <td id=\"T_366a8_row0_col5\" class=\"data row0 col5\" >0.351072</td>\n",
       "    </tr>\n",
       "    <tr>\n",
       "      <th id=\"T_366a8_level0_row1\" class=\"row_heading level0 row1\" >1</th>\n",
       "      <td id=\"T_366a8_row1_col0\" class=\"data row1 col0\" >Мышеостровский</td>\n",
       "      <td id=\"T_366a8_row1_col1\" class=\"data row1 col1\" >Молочковы</td>\n",
       "      <td id=\"T_366a8_row1_col2\" class=\"data row1 col2\" >-0.004115</td>\n",
       "      <td id=\"T_366a8_row1_col3\" class=\"data row1 col3\" >0.912222</td>\n",
       "      <td id=\"T_366a8_row1_col4\" class=\"data row1 col4\" >0.010724</td>\n",
       "      <td id=\"T_366a8_row1_col5\" class=\"data row1 col5\" >0.773909</td>\n",
       "    </tr>\n",
       "    <tr>\n",
       "      <th id=\"T_366a8_level0_row2\" class=\"row_heading level0 row2\" >2</th>\n",
       "      <td id=\"T_366a8_row2_col0\" class=\"data row2 col0\" >Мышеостровский</td>\n",
       "      <td id=\"T_366a8_row2_col1\" class=\"data row2 col1\" >Мятновы</td>\n",
       "      <td id=\"T_366a8_row2_col2\" class=\"data row2 col2\" >0.072170</td>\n",
       "      <td id=\"T_366a8_row2_col3\" class=\"data row2 col3\" >0.052908</td>\n",
       "      <td id=\"T_366a8_row2_col4\" class=\"data row2 col4\" >0.089581</td>\n",
       "      <td id=\"T_366a8_row2_col5\" class=\"data row2 col5\" >0.016200</td>\n",
       "    </tr>\n",
       "    <tr>\n",
       "      <th id=\"T_366a8_level0_row3\" class=\"row_heading level0 row3\" >3</th>\n",
       "      <td id=\"T_366a8_row3_col0\" class=\"data row3 col0\" >Мышеостровский</td>\n",
       "      <td id=\"T_366a8_row3_col1\" class=\"data row3 col1\" >Сметанинковы</td>\n",
       "      <td id=\"T_366a8_row3_col2\" class=\"data row3 col2\" >-0.016435</td>\n",
       "      <td id=\"T_366a8_row3_col3\" class=\"data row3 col3\" >0.659748</td>\n",
       "      <td id=\"T_366a8_row3_col4\" class=\"data row3 col4\" >-0.025509</td>\n",
       "      <td id=\"T_366a8_row3_col5\" class=\"data row3 col5\" >0.494355</td>\n",
       "    </tr>\n",
       "    <tr>\n",
       "      <th id=\"T_366a8_level0_row4\" class=\"row_heading level0 row4\" >4</th>\n",
       "      <td id=\"T_366a8_row4_col0\" class=\"data row4 col0\" >Краснокотейский</td>\n",
       "      <td id=\"T_366a8_row4_col1\" class=\"data row4 col1\" >Колбасовы</td>\n",
       "      <td id=\"T_366a8_row4_col2\" class=\"data row4 col2\" >-0.021454</td>\n",
       "      <td id=\"T_366a8_row4_col3\" class=\"data row4 col3\" >0.565476</td>\n",
       "      <td id=\"T_366a8_row4_col4\" class=\"data row4 col4\" >-0.049471</td>\n",
       "      <td id=\"T_366a8_row4_col5\" class=\"data row4 col5\" >0.184856</td>\n",
       "    </tr>\n",
       "    <tr>\n",
       "      <th id=\"T_366a8_level0_row5\" class=\"row_heading level0 row5\" >5</th>\n",
       "      <td id=\"T_366a8_row5_col0\" class=\"data row5 col0\" >Краснокотейский</td>\n",
       "      <td id=\"T_366a8_row5_col1\" class=\"data row5 col1\" >Молочковы</td>\n",
       "      <td id=\"T_366a8_row5_col2\" class=\"data row5 col2\" >-0.036947</td>\n",
       "      <td id=\"T_366a8_row5_col3\" class=\"data row5 col3\" >0.322167</td>\n",
       "      <td id=\"T_366a8_row5_col4\" class=\"data row5 col4\" >-0.004965</td>\n",
       "      <td id=\"T_366a8_row5_col5\" class=\"data row5 col5\" >0.894195</td>\n",
       "    </tr>\n",
       "    <tr>\n",
       "      <th id=\"T_366a8_level0_row6\" class=\"row_heading level0 row6\" >6</th>\n",
       "      <td id=\"T_366a8_row6_col0\" class=\"data row6 col0\" >Краснокотейский</td>\n",
       "      <td id=\"T_366a8_row6_col1\" class=\"data row6 col1\" >Мятновы</td>\n",
       "      <td id=\"T_366a8_row6_col2\" class=\"data row6 col2\" >0.030907</td>\n",
       "      <td id=\"T_366a8_row6_col3\" class=\"data row6 col3\" >0.407624</td>\n",
       "      <td id=\"T_366a8_row6_col4\" class=\"data row6 col4\" >0.014444</td>\n",
       "      <td id=\"T_366a8_row6_col5\" class=\"data row6 col5\" >0.698813</td>\n",
       "    </tr>\n",
       "    <tr>\n",
       "      <th id=\"T_366a8_level0_row7\" class=\"row_heading level0 row7\" >7</th>\n",
       "      <td id=\"T_366a8_row7_col0\" class=\"data row7 col0\" >Краснокотейский</td>\n",
       "      <td id=\"T_366a8_row7_col1\" class=\"data row7 col1\" >Сметанинковы</td>\n",
       "      <td id=\"T_366a8_row7_col2\" class=\"data row7 col2\" >-0.069649</td>\n",
       "      <td id=\"T_366a8_row7_col3\" class=\"data row7 col3\" >0.061776</td>\n",
       "      <td id=\"T_366a8_row7_col4\" class=\"data row7 col4\" >-0.088880</td>\n",
       "      <td id=\"T_366a8_row7_col5\" class=\"data row7 col5\" >0.017057</td>\n",
       "    </tr>\n",
       "    <tr>\n",
       "      <th id=\"T_366a8_level0_row8\" class=\"row_heading level0 row8\" >8</th>\n",
       "      <td id=\"T_366a8_row8_col0\" class=\"data row8 col0\" >Мышесельский</td>\n",
       "      <td id=\"T_366a8_row8_col1\" class=\"data row8 col1\" >Колбасовы</td>\n",
       "      <td id=\"T_366a8_row8_col2\" class=\"data row8 col2\" >-0.048534</td>\n",
       "      <td id=\"T_366a8_row8_col3\" class=\"data row8 col3\" >0.193322</td>\n",
       "      <td id=\"T_366a8_row8_col4\" class=\"data row8 col4\" >-0.061272</td>\n",
       "      <td id=\"T_366a8_row8_col5\" class=\"data row8 col5\" >0.100429</td>\n",
       "    </tr>\n",
       "    <tr>\n",
       "      <th id=\"T_366a8_level0_row9\" class=\"row_heading level0 row9\" >9</th>\n",
       "      <td id=\"T_366a8_row9_col0\" class=\"data row9 col0\" >Мышесельский</td>\n",
       "      <td id=\"T_366a8_row9_col1\" class=\"data row9 col1\" >Молочковы</td>\n",
       "      <td id=\"T_366a8_row9_col2\" class=\"data row9 col2\" >-0.007018</td>\n",
       "      <td id=\"T_366a8_row9_col3\" class=\"data row9 col3\" >0.850882</td>\n",
       "      <td id=\"T_366a8_row9_col4\" class=\"data row9 col4\" >-0.013033</td>\n",
       "      <td id=\"T_366a8_row9_col5\" class=\"data row9 col5\" >0.726992</td>\n",
       "    </tr>\n",
       "    <tr>\n",
       "      <th id=\"T_366a8_level0_row10\" class=\"row_heading level0 row10\" >10</th>\n",
       "      <td id=\"T_366a8_row10_col0\" class=\"data row10 col0\" >Мышесельский</td>\n",
       "      <td id=\"T_366a8_row10_col1\" class=\"data row10 col1\" >Мятновы</td>\n",
       "      <td id=\"T_366a8_row10_col2\" class=\"data row10 col2\" >0.023471</td>\n",
       "      <td id=\"T_366a8_row10_col3\" class=\"data row10 col3\" >0.529488</td>\n",
       "      <td id=\"T_366a8_row10_col4\" class=\"data row10 col4\" >0.022177</td>\n",
       "      <td id=\"T_366a8_row10_col5\" class=\"data row10 col5\" >0.552435</td>\n",
       "    </tr>\n",
       "    <tr>\n",
       "      <th id=\"T_366a8_level0_row11\" class=\"row_heading level0 row11\" >11</th>\n",
       "      <td id=\"T_366a8_row11_col0\" class=\"data row11 col0\" >Мышесельский</td>\n",
       "      <td id=\"T_366a8_row11_col1\" class=\"data row11 col1\" >Сметанинковы</td>\n",
       "      <td id=\"T_366a8_row11_col2\" class=\"data row11 col2\" >-0.007157</td>\n",
       "      <td id=\"T_366a8_row11_col3\" class=\"data row11 col3\" >0.847969</td>\n",
       "      <td id=\"T_366a8_row11_col4\" class=\"data row11 col4\" >0.011596</td>\n",
       "      <td id=\"T_366a8_row11_col5\" class=\"data row11 col5\" >0.756080</td>\n",
       "    </tr>\n",
       "    <tr>\n",
       "      <th id=\"T_366a8_level0_row12\" class=\"row_heading level0 row12\" >12</th>\n",
       "      <td id=\"T_366a8_row12_col0\" class=\"data row12 col0\" >Петрокотский</td>\n",
       "      <td id=\"T_366a8_row12_col1\" class=\"data row12 col1\" >Колбасовы</td>\n",
       "      <td id=\"T_366a8_row12_col2\" class=\"data row12 col2\" >0.005593</td>\n",
       "      <td id=\"T_366a8_row12_col3\" class=\"data row12 col3\" >0.880912</td>\n",
       "      <td id=\"T_366a8_row12_col4\" class=\"data row12 col4\" >-0.000744</td>\n",
       "      <td id=\"T_366a8_row12_col5\" class=\"data row12 col5\" >0.984096</td>\n",
       "    </tr>\n",
       "    <tr>\n",
       "      <th id=\"T_366a8_level0_row13\" class=\"row_heading level0 row13\" >13</th>\n",
       "      <td id=\"T_366a8_row13_col0\" class=\"data row13 col0\" >Петрокотский</td>\n",
       "      <td id=\"T_366a8_row13_col1\" class=\"data row13 col1\" >Молочковы</td>\n",
       "      <td id=\"T_366a8_row13_col2\" class=\"data row13 col2\" >0.008360</td>\n",
       "      <td id=\"T_366a8_row13_col3\" class=\"data row13 col3\" >0.822812</td>\n",
       "      <td id=\"T_366a8_row13_col4\" class=\"data row13 col4\" >0.029629</td>\n",
       "      <td id=\"T_366a8_row13_col5\" class=\"data row13 col5\" >0.427306</td>\n",
       "    </tr>\n",
       "    <tr>\n",
       "      <th id=\"T_366a8_level0_row14\" class=\"row_heading level0 row14\" >14</th>\n",
       "      <td id=\"T_366a8_row14_col0\" class=\"data row14 col0\" >Петрокотский</td>\n",
       "      <td id=\"T_366a8_row14_col1\" class=\"data row14 col1\" >Мятновы</td>\n",
       "      <td id=\"T_366a8_row14_col2\" class=\"data row14 col2\" >-0.036722</td>\n",
       "      <td id=\"T_366a8_row14_col3\" class=\"data row14 col3\" >0.325131</td>\n",
       "      <td id=\"T_366a8_row14_col4\" class=\"data row14 col4\" >-0.009463</td>\n",
       "      <td id=\"T_366a8_row14_col5\" class=\"data row14 col5\" >0.799891</td>\n",
       "    </tr>\n",
       "    <tr>\n",
       "      <th id=\"T_366a8_level0_row15\" class=\"row_heading level0 row15\" >15</th>\n",
       "      <td id=\"T_366a8_row15_col0\" class=\"data row15 col0\" >Петрокотский</td>\n",
       "      <td id=\"T_366a8_row15_col1\" class=\"data row15 col1\" >Сметанинковы</td>\n",
       "      <td id=\"T_366a8_row15_col2\" class=\"data row15 col2\" >0.018709</td>\n",
       "      <td id=\"T_366a8_row15_col3\" class=\"data row15 col3\" >0.616246</td>\n",
       "      <td id=\"T_366a8_row15_col4\" class=\"data row15 col4\" >0.027508</td>\n",
       "      <td id=\"T_366a8_row15_col5\" class=\"data row15 col5\" >0.461138</td>\n",
       "    </tr>\n",
       "    <tr>\n",
       "      <th id=\"T_366a8_level0_row16\" class=\"row_heading level0 row16\" >16</th>\n",
       "      <td id=\"T_366a8_row16_col0\" class=\"data row16 col0\" >Приморский</td>\n",
       "      <td id=\"T_366a8_row16_col1\" class=\"data row16 col1\" >Колбасовы</td>\n",
       "      <td id=\"T_366a8_row16_col2\" class=\"data row16 col2\" >-0.129213</td>\n",
       "      <td id=\"T_366a8_row16_col3\" class=\"data row16 col3\" >0.000509</td>\n",
       "      <td id=\"T_366a8_row16_col4\" class=\"data row16 col4\" >-0.119790</td>\n",
       "      <td id=\"T_366a8_row16_col5\" class=\"data row16 col5\" >0.001281</td>\n",
       "    </tr>\n",
       "    <tr>\n",
       "      <th id=\"T_366a8_level0_row17\" class=\"row_heading level0 row17\" >17</th>\n",
       "      <td id=\"T_366a8_row17_col0\" class=\"data row17 col0\" >Приморский</td>\n",
       "      <td id=\"T_366a8_row17_col1\" class=\"data row17 col1\" >Молочковы</td>\n",
       "      <td id=\"T_366a8_row17_col2\" class=\"data row17 col2\" >-0.062083</td>\n",
       "      <td id=\"T_366a8_row17_col3\" class=\"data row17 col3\" >0.095998</td>\n",
       "      <td id=\"T_366a8_row17_col4\" class=\"data row17 col4\" >-0.031240</td>\n",
       "      <td id=\"T_366a8_row17_col5\" class=\"data row17 col5\" >0.402587</td>\n",
       "    </tr>\n",
       "    <tr>\n",
       "      <th id=\"T_366a8_level0_row18\" class=\"row_heading level0 row18\" >18</th>\n",
       "      <td id=\"T_366a8_row18_col0\" class=\"data row18 col0\" >Приморский</td>\n",
       "      <td id=\"T_366a8_row18_col1\" class=\"data row18 col1\" >Мятновы</td>\n",
       "      <td id=\"T_366a8_row18_col2\" class=\"data row18 col2\" >-0.044276</td>\n",
       "      <td id=\"T_366a8_row18_col3\" class=\"data row18 col3\" >0.235401</td>\n",
       "      <td id=\"T_366a8_row18_col4\" class=\"data row18 col4\" >-0.043587</td>\n",
       "      <td id=\"T_366a8_row18_col5\" class=\"data row18 col5\" >0.242774</td>\n",
       "    </tr>\n",
       "    <tr>\n",
       "      <th id=\"T_366a8_level0_row19\" class=\"row_heading level0 row19\" >19</th>\n",
       "      <td id=\"T_366a8_row19_col0\" class=\"data row19 col0\" >Приморский</td>\n",
       "      <td id=\"T_366a8_row19_col1\" class=\"data row19 col1\" >Сметанинковы</td>\n",
       "      <td id=\"T_366a8_row19_col2\" class=\"data row19 col2\" >-0.042345</td>\n",
       "      <td id=\"T_366a8_row19_col3\" class=\"data row19 col3\" >0.256472</td>\n",
       "      <td id=\"T_366a8_row19_col4\" class=\"data row19 col4\" >-0.066142</td>\n",
       "      <td id=\"T_366a8_row19_col5\" class=\"data row19 col5\" >0.076126</td>\n",
       "    </tr>\n",
       "    <tr>\n",
       "      <th id=\"T_366a8_level0_row20\" class=\"row_heading level0 row20\" >20</th>\n",
       "      <td id=\"T_366a8_row20_col0\" class=\"data row20 col0\" >Невский</td>\n",
       "      <td id=\"T_366a8_row20_col1\" class=\"data row20 col1\" >Колбасовы</td>\n",
       "      <td id=\"T_366a8_row20_col2\" class=\"data row20 col2\" >0.052661</td>\n",
       "      <td id=\"T_366a8_row20_col3\" class=\"data row20 col3\" >0.158080</td>\n",
       "      <td id=\"T_366a8_row20_col4\" class=\"data row20 col4\" >0.065808</td>\n",
       "      <td id=\"T_366a8_row20_col5\" class=\"data row20 col5\" >0.077623</td>\n",
       "    </tr>\n",
       "    <tr>\n",
       "      <th id=\"T_366a8_level0_row21\" class=\"row_heading level0 row21\" >21</th>\n",
       "      <td id=\"T_366a8_row21_col0\" class=\"data row21 col0\" >Невский</td>\n",
       "      <td id=\"T_366a8_row21_col1\" class=\"data row21 col1\" >Молочковы</td>\n",
       "      <td id=\"T_366a8_row21_col2\" class=\"data row21 col2\" >-0.018636</td>\n",
       "      <td id=\"T_366a8_row21_col3\" class=\"data row21 col3\" >0.617612</td>\n",
       "      <td id=\"T_366a8_row21_col4\" class=\"data row21 col4\" >-0.024779</td>\n",
       "      <td id=\"T_366a8_row21_col5\" class=\"data row21 col5\" >0.506802</td>\n",
       "    </tr>\n",
       "    <tr>\n",
       "      <th id=\"T_366a8_level0_row22\" class=\"row_heading level0 row22\" >22</th>\n",
       "      <td id=\"T_366a8_row22_col0\" class=\"data row22 col0\" >Невский</td>\n",
       "      <td id=\"T_366a8_row22_col1\" class=\"data row22 col1\" >Мятновы</td>\n",
       "      <td id=\"T_366a8_row22_col2\" class=\"data row22 col2\" >-0.003891</td>\n",
       "      <td id=\"T_366a8_row22_col3\" class=\"data row22 col3\" >0.916983</td>\n",
       "      <td id=\"T_366a8_row22_col4\" class=\"data row22 col4\" >0.017601</td>\n",
       "      <td id=\"T_366a8_row22_col5\" class=\"data row22 col5\" >0.637290</td>\n",
       "    </tr>\n",
       "    <tr>\n",
       "      <th id=\"T_366a8_level0_row23\" class=\"row_heading level0 row23\" >23</th>\n",
       "      <td id=\"T_366a8_row23_col0\" class=\"data row23 col0\" >Невский</td>\n",
       "      <td id=\"T_366a8_row23_col1\" class=\"data row23 col1\" >Сметанинковы</td>\n",
       "      <td id=\"T_366a8_row23_col2\" class=\"data row23 col2\" >0.028117</td>\n",
       "      <td id=\"T_366a8_row23_col3\" class=\"data row23 col3\" >0.451273</td>\n",
       "      <td id=\"T_366a8_row23_col4\" class=\"data row23 col4\" >0.023516</td>\n",
       "      <td id=\"T_366a8_row23_col5\" class=\"data row23 col5\" >0.528705</td>\n",
       "    </tr>\n",
       "  </tbody>\n",
       "</table>\n"
      ],
      "text/plain": [
       "<pandas.io.formats.style.Styler at 0x7fc8a0bbe260>"
      ]
     },
     "metadata": {},
     "output_type": "display_data"
    }
   ],
   "source": [
    "police_crime = df_corr_chec(df, 'police_units', 'percent_of_crime_solved')\n",
    "display(police_crime)"
   ]
  },
  {
   "cell_type": "markdown",
   "id": "7f415024-bacd-4e1b-96e4-c439a3453c6b",
   "metadata": {},
   "source": [
    "Как мы видим, только для одного склада, а именно Колбасовы в районе Приморский есть основание полагать, что взаимосвязь (корреляция) между количеством полицейских в районе и процентом раскрытых преступлений по уничтожению фонарей в районе статистически значима.  Причем коэффициент корреляции отрицательный, что может говороить об обратной зависимости: чем меньше полицейских в районе, тем лучше раскрываются преступления.  \n",
    "Для остальных складов нет основания полагать, что взаимосвязь (корреляция) между количеством полицейских в районе и процентом раскрытых преступлений по уничтожению фонарей в районе статистически значима.  "
   ]
  },
  {
   "cell_type": "markdown",
   "id": "0e1028f8-664a-4db9-bebd-b6265e6f5247",
   "metadata": {},
   "source": [
    "**Вывод**  \n"
   ]
  },
  {
   "cell_type": "markdown",
   "id": "999f8de2-8017-410c-88d8-78802a8810d2",
   "metadata": {},
   "source": [
    "Мы проверили взаимосвязь между данными:\n",
    "\n",
    "- Для всех складов есть основание полагать, что взаимосвязь (корреляция) между количеством полицейских и количеством охраны статистически значима. Можем предположить, что охраны, как и полицейских, больше в неблагоприятных районах.\n",
    "- Есть основание полагать, что взаимосвязь (корреляция) между количеством фонарей в районе и процентом раскрытых преступлений по уничтожению фонарей в районе статистически значима. Можем предположить, что чем больше в районе фонарей, тем заметнее преступники, и тем проще их поймать.\n",
    "- Только для одного склада, а именно Колбасовы в районе Приморский есть основание полагать, что взаимосвязь (корреляция) между количеством полицейских в районе и процентом раскрытых преступлений по уничтожению фонарей в районе статистически значима. Причем коэффициент корреляции отрицательный, что может говороить об обратной зависимости: чем меньше полицейских в районе, тем лучше раскрываются преступления. Для остальных складов нет основания полагать, что взаимосвязь (корреляция) между количеством полицейских в районе и процентом раскрытых преступлений по уничтожению фонарей в районе статистически значима."
   ]
  },
  {
   "cell_type": "markdown",
   "id": "2163c070-ebb6-4eb2-ad2b-e700beed5852",
   "metadata": {},
   "source": [
    "## Вывод"
   ]
  },
  {
   "cell_type": "markdown",
   "id": "a044f389-d9ec-4b4c-9436-68a31b17d3ba",
   "metadata": {},
   "source": [
    "Мы подготовили данные к анализу:\n",
    "\n",
    "- привели название колонок к нижнему регистру;\n",
    "- проверили датасеты на пропуски;\n",
    "- проверили на явные и неявные дубли;\n",
    "- объединили датафреймы в один;\n",
    "- привели формат колонки дат к формату даты.\n",
    "\n",
    "Мы провели исследовательский анализ данных:\n",
    "\n",
    "- в датафрейме есть ежедневные данные с 6 февраля 2022 года по 26 января 2024 года;\n",
    "- на складах бывает от 1 до 11 охранников, в среднем около 6 охранников;\n",
    "- в районе может быть от 1 до 9 полицейских, в среднем около 5;\n",
    "- за время наблюдения процент раскрытия преступлений был от 1,7% до 100%, в среднем около 69%, можно сказать, что преступления раскерываются в основном от 40 до 98%;\n",
    "- было от 151 до 1691 фонарей в районе, в среднем около 690, можно сказать, что в основном в районах от 200 до 1200 фонарей.\n",
    "\n",
    "Мы проверили взаимосвязь между данными:\n",
    "\n",
    "- Для всех складов есть основание полагать, что взаимосвязь (корреляция) между количеством полицейских и количеством охраны статистически значима. Можем предположить, что охраны, как и полицейских, больше в неблагоприятных районах.\n",
    "- Есть основание полагать, что взаимосвязь (корреляция) между количеством фонарей в районе и процентом раскрытых преступлений по уничтожению фонарей в районе статистически значима. Можем предположить, что чем больше в районе фонарей, тем заметнее преступники, и тем проще их поймать.\n",
    "- Только для одного склада, а именно Колбасовы в районе Приморский есть основание полагать, что взаимосвязь (корреляция) между количеством полицейских в районе и процентом раскрытых преступлений по уничтожению фонарей в районе статистически значима. Причем коэффициент корреляции отрицательный, что может говороить об обратной зависимости: чем меньше полицейских в районе, тем лучше раскрываются преступления. Для остальных складов нет основания полагать, что взаимосвязь (корреляция) между количеством полицейских в районе и процентом раскрытых преступлений по уничтожению фонарей в районе статистически значима."
   ]
  },
  {
   "cell_type": "markdown",
   "id": "72e5faca-8b14-4d77-a2f2-b6d83255954f",
   "metadata": {},
   "source": [
    "## Рекомендации"
   ]
  },
  {
   "cell_type": "markdown",
   "id": "d742e937-033e-4845-90ce-fd3af3689b5d",
   "metadata": {},
   "source": [
    "Есть основания полагать, что для увеличения раскрываемости преступлений  необходимо увеличивать количество фонарей в районе.  \n",
    "Также есть основание полагать, что увеличение количества полицейских не приведет к увеличению процента раскрытия преступлений."
   ]
  },
  {
   "cell_type": "markdown",
   "id": "5e131d50-de25-4355-bd34-8749e470d0fc",
   "metadata": {},
   "source": [
    "[ТГ автора]( https://t.me/GermanLarin)"
   ]
  }
 ],
 "metadata": {
  "kernelspec": {
   "display_name": "Python 3 (ipykernel)",
   "language": "python",
   "name": "python3"
  },
  "language_info": {
   "codemirror_mode": {
    "name": "ipython",
    "version": 3
   },
   "file_extension": ".py",
   "mimetype": "text/x-python",
   "name": "python",
   "nbconvert_exporter": "python",
   "pygments_lexer": "ipython3",
   "version": "3.10.9"
  }
 },
 "nbformat": 4,
 "nbformat_minor": 5
}
