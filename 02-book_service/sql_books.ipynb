{
 "cells": [
  {
   "cell_type": "markdown",
   "metadata": {},
   "source": [
    "#  Анализ сервиса для чтения книг по подписке"
   ]
  },
  {
   "cell_type": "markdown",
   "metadata": {},
   "source": [
    "Цель данного исследования - проанализировать базу данных купленного нашей компанией сервиса для чтения книг по подписке.  \n",
    "Основыне задачи:\n",
    "- [посчитать сколько книг вышло после 1 января 2000 года;](#task_1)\n",
    "- [для каждой книги посчитать количество обзоров и среднюю оценку;](#task_2)\n",
    "- [определить издательство, которое выпустило наибольшее число книг толще 50 страниц, чтобы исключить из анализа брошюры;](#task_3)\n",
    "- [определить автора с самой высокой средней оценкой книг, учитывая только книги с 50 и более оценками;](#task_4)\n",
    "- [посчитать среднее количество обзоров от пользователей, которые поставили больше 48 оценок.](#task_5)"
   ]
  },
  {
   "cell_type": "markdown",
   "metadata": {},
   "source": [
    "## Загрузка данных и подготовка к анализу"
   ]
  },
  {
   "cell_type": "markdown",
   "metadata": {},
   "source": [
    "### Загрузка библиотек"
   ]
  },
  {
   "cell_type": "markdown",
   "metadata": {},
   "source": [
    "Импротируем библиотеки"
   ]
  },
  {
   "cell_type": "code",
   "execution_count": 1,
   "metadata": {},
   "outputs": [],
   "source": [
    "import pandas as pd\n",
    "from sqlalchemy import text, create_engine"
   ]
  },
  {
   "cell_type": "markdown",
   "metadata": {},
   "source": [
    "Устанавливаем параметры подключения."
   ]
  },
  {
   "cell_type": "code",
   "execution_count": 2,
   "metadata": {},
   "outputs": [],
   "source": [
    "# устанавливаем параметры\n",
    "db_config = {'user': 'username', # имя пользователя\n",
    "'pwd': 'pass', # пароль\n",
    "'host': 'host.net',\n",
    "'port': 6432, # порт подключения\n",
    "'db': 'db'} # название базы данных\n",
    "connection_string = 'postgresql://{user}:{pwd}@{host}:{port}/{db}'.format(**db_config)\n",
    "# сохраняем коннектор\n",
    "engine = create_engine(connection_string, connect_args={'sslmode':'require'})\n"
   ]
  },
  {
   "cell_type": "markdown",
   "metadata": {},
   "source": [
    "### Исследование данных"
   ]
  },
  {
   "cell_type": "markdown",
   "metadata": {},
   "source": [
    "Загрузим по 5 строк каждой таблицы и изучим их, а также посчитаем количество строк в таблицах."
   ]
  },
  {
   "cell_type": "markdown",
   "metadata": {},
   "source": [
    "**Таблица `books`**"
   ]
  },
  {
   "cell_type": "code",
   "execution_count": 3,
   "metadata": {},
   "outputs": [
    {
     "data": {
      "text/html": [
       "<div>\n",
       "<style scoped>\n",
       "    .dataframe tbody tr th:only-of-type {\n",
       "        vertical-align: middle;\n",
       "    }\n",
       "\n",
       "    .dataframe tbody tr th {\n",
       "        vertical-align: top;\n",
       "    }\n",
       "\n",
       "    .dataframe thead th {\n",
       "        text-align: right;\n",
       "    }\n",
       "</style>\n",
       "<table border=\"1\" class=\"dataframe\">\n",
       "  <thead>\n",
       "    <tr style=\"text-align: right;\">\n",
       "      <th></th>\n",
       "      <th>book_id</th>\n",
       "      <th>author_id</th>\n",
       "      <th>title</th>\n",
       "      <th>num_pages</th>\n",
       "      <th>publication_date</th>\n",
       "      <th>publisher_id</th>\n",
       "    </tr>\n",
       "  </thead>\n",
       "  <tbody>\n",
       "    <tr>\n",
       "      <th>0</th>\n",
       "      <td>1</td>\n",
       "      <td>546</td>\n",
       "      <td>'Salem's Lot</td>\n",
       "      <td>594</td>\n",
       "      <td>2005-11-01</td>\n",
       "      <td>93</td>\n",
       "    </tr>\n",
       "    <tr>\n",
       "      <th>1</th>\n",
       "      <td>2</td>\n",
       "      <td>465</td>\n",
       "      <td>1 000 Places to See Before You Die</td>\n",
       "      <td>992</td>\n",
       "      <td>2003-05-22</td>\n",
       "      <td>336</td>\n",
       "    </tr>\n",
       "    <tr>\n",
       "      <th>2</th>\n",
       "      <td>3</td>\n",
       "      <td>407</td>\n",
       "      <td>13 Little Blue Envelopes (Little Blue Envelope...</td>\n",
       "      <td>322</td>\n",
       "      <td>2010-12-21</td>\n",
       "      <td>135</td>\n",
       "    </tr>\n",
       "    <tr>\n",
       "      <th>3</th>\n",
       "      <td>4</td>\n",
       "      <td>82</td>\n",
       "      <td>1491: New Revelations of the Americas Before C...</td>\n",
       "      <td>541</td>\n",
       "      <td>2006-10-10</td>\n",
       "      <td>309</td>\n",
       "    </tr>\n",
       "    <tr>\n",
       "      <th>4</th>\n",
       "      <td>5</td>\n",
       "      <td>125</td>\n",
       "      <td>1776</td>\n",
       "      <td>386</td>\n",
       "      <td>2006-07-04</td>\n",
       "      <td>268</td>\n",
       "    </tr>\n",
       "  </tbody>\n",
       "</table>\n",
       "</div>"
      ],
      "text/plain": [
       "   book_id  author_id                                              title  \\\n",
       "0        1        546                                       'Salem's Lot   \n",
       "1        2        465                 1 000 Places to See Before You Die   \n",
       "2        3        407  13 Little Blue Envelopes (Little Blue Envelope...   \n",
       "3        4         82  1491: New Revelations of the Americas Before C...   \n",
       "4        5        125                                               1776   \n",
       "\n",
       "   num_pages publication_date  publisher_id  \n",
       "0        594       2005-11-01            93  \n",
       "1        992       2003-05-22           336  \n",
       "2        322       2010-12-21           135  \n",
       "3        541       2006-10-10           309  \n",
       "4        386       2006-07-04           268  "
      ]
     },
     "execution_count": 3,
     "metadata": {},
     "output_type": "execute_result"
    }
   ],
   "source": [
    "query = '''\n",
    "    SELECT * \n",
    "    FROM books \n",
    "    LIMIT 5\n",
    "    '''\n",
    "\n",
    "\n",
    "con=engine.connect()\n",
    "pd.io.sql.read_sql(sql=text(query), con = con)"
   ]
  },
  {
   "cell_type": "code",
   "execution_count": 4,
   "metadata": {},
   "outputs": [
    {
     "data": {
      "text/html": [
       "<div>\n",
       "<style scoped>\n",
       "    .dataframe tbody tr th:only-of-type {\n",
       "        vertical-align: middle;\n",
       "    }\n",
       "\n",
       "    .dataframe tbody tr th {\n",
       "        vertical-align: top;\n",
       "    }\n",
       "\n",
       "    .dataframe thead th {\n",
       "        text-align: right;\n",
       "    }\n",
       "</style>\n",
       "<table border=\"1\" class=\"dataframe\">\n",
       "  <thead>\n",
       "    <tr style=\"text-align: right;\">\n",
       "      <th></th>\n",
       "      <th>count</th>\n",
       "    </tr>\n",
       "  </thead>\n",
       "  <tbody>\n",
       "    <tr>\n",
       "      <th>0</th>\n",
       "      <td>1000</td>\n",
       "    </tr>\n",
       "  </tbody>\n",
       "</table>\n",
       "</div>"
      ],
      "text/plain": [
       "   count\n",
       "0   1000"
      ]
     },
     "execution_count": 4,
     "metadata": {},
     "output_type": "execute_result"
    }
   ],
   "source": [
    "query = '''\n",
    "    SELECT COUNT(*) \n",
    "    FROM books \n",
    "    '''\n",
    "\n",
    "\n",
    "con=engine.connect()\n",
    "pd.io.sql.read_sql(sql=text(query), con = con)"
   ]
  },
  {
   "cell_type": "markdown",
   "metadata": {},
   "source": [
    "Описание данных:  \n",
    "- `book_id` — идентификатор книги;\n",
    "- `author_id` — идентификатор автора;\n",
    "- `title` — название книги;\n",
    "- `num_pages` — количество страниц;\n",
    "- `publication_date` — дата публикации книги;\n",
    "- `publisher_id` — идентификатор издателя.  \n",
    "\n",
    "6 столбцов, 1000 строк."
   ]
  },
  {
   "cell_type": "markdown",
   "metadata": {},
   "source": [
    "**Таблица `authors`**"
   ]
  },
  {
   "cell_type": "code",
   "execution_count": 5,
   "metadata": {
    "scrolled": true
   },
   "outputs": [
    {
     "data": {
      "text/html": [
       "<div>\n",
       "<style scoped>\n",
       "    .dataframe tbody tr th:only-of-type {\n",
       "        vertical-align: middle;\n",
       "    }\n",
       "\n",
       "    .dataframe tbody tr th {\n",
       "        vertical-align: top;\n",
       "    }\n",
       "\n",
       "    .dataframe thead th {\n",
       "        text-align: right;\n",
       "    }\n",
       "</style>\n",
       "<table border=\"1\" class=\"dataframe\">\n",
       "  <thead>\n",
       "    <tr style=\"text-align: right;\">\n",
       "      <th></th>\n",
       "      <th>author_id</th>\n",
       "      <th>author</th>\n",
       "    </tr>\n",
       "  </thead>\n",
       "  <tbody>\n",
       "    <tr>\n",
       "      <th>0</th>\n",
       "      <td>1</td>\n",
       "      <td>A.S. Byatt</td>\n",
       "    </tr>\n",
       "    <tr>\n",
       "      <th>1</th>\n",
       "      <td>2</td>\n",
       "      <td>Aesop/Laura Harris/Laura Gibbs</td>\n",
       "    </tr>\n",
       "    <tr>\n",
       "      <th>2</th>\n",
       "      <td>3</td>\n",
       "      <td>Agatha Christie</td>\n",
       "    </tr>\n",
       "    <tr>\n",
       "      <th>3</th>\n",
       "      <td>4</td>\n",
       "      <td>Alan Brennert</td>\n",
       "    </tr>\n",
       "    <tr>\n",
       "      <th>4</th>\n",
       "      <td>5</td>\n",
       "      <td>Alan Moore/David   Lloyd</td>\n",
       "    </tr>\n",
       "  </tbody>\n",
       "</table>\n",
       "</div>"
      ],
      "text/plain": [
       "   author_id                          author\n",
       "0          1                      A.S. Byatt\n",
       "1          2  Aesop/Laura Harris/Laura Gibbs\n",
       "2          3                 Agatha Christie\n",
       "3          4                   Alan Brennert\n",
       "4          5        Alan Moore/David   Lloyd"
      ]
     },
     "execution_count": 5,
     "metadata": {},
     "output_type": "execute_result"
    }
   ],
   "source": [
    "query = '''\n",
    "    SELECT * \n",
    "    FROM authors \n",
    "    LIMIT 5\n",
    "    '''\n",
    "\n",
    "\n",
    "con=engine.connect()\n",
    "pd.io.sql.read_sql(sql=text(query), con = con)"
   ]
  },
  {
   "cell_type": "code",
   "execution_count": 6,
   "metadata": {},
   "outputs": [
    {
     "data": {
      "text/html": [
       "<div>\n",
       "<style scoped>\n",
       "    .dataframe tbody tr th:only-of-type {\n",
       "        vertical-align: middle;\n",
       "    }\n",
       "\n",
       "    .dataframe tbody tr th {\n",
       "        vertical-align: top;\n",
       "    }\n",
       "\n",
       "    .dataframe thead th {\n",
       "        text-align: right;\n",
       "    }\n",
       "</style>\n",
       "<table border=\"1\" class=\"dataframe\">\n",
       "  <thead>\n",
       "    <tr style=\"text-align: right;\">\n",
       "      <th></th>\n",
       "      <th>count</th>\n",
       "    </tr>\n",
       "  </thead>\n",
       "  <tbody>\n",
       "    <tr>\n",
       "      <th>0</th>\n",
       "      <td>636</td>\n",
       "    </tr>\n",
       "  </tbody>\n",
       "</table>\n",
       "</div>"
      ],
      "text/plain": [
       "   count\n",
       "0    636"
      ]
     },
     "execution_count": 6,
     "metadata": {},
     "output_type": "execute_result"
    }
   ],
   "source": [
    "query = '''\n",
    "    SELECT COUNT(*) \n",
    "    FROM authors \n",
    "    '''\n",
    "\n",
    "\n",
    "con=engine.connect()\n",
    "pd.io.sql.read_sql(sql=text(query), con = con)"
   ]
  },
  {
   "cell_type": "markdown",
   "metadata": {},
   "source": [
    "Описание данных:\n",
    "- `author_id` — идентификатор автора;\n",
    "- `author` — имя автора.  \n",
    "  \n",
    "2 столбца, 636 строк."
   ]
  },
  {
   "cell_type": "markdown",
   "metadata": {},
   "source": [
    "**Таблица `publishers`**"
   ]
  },
  {
   "cell_type": "code",
   "execution_count": 7,
   "metadata": {},
   "outputs": [
    {
     "data": {
      "text/html": [
       "<div>\n",
       "<style scoped>\n",
       "    .dataframe tbody tr th:only-of-type {\n",
       "        vertical-align: middle;\n",
       "    }\n",
       "\n",
       "    .dataframe tbody tr th {\n",
       "        vertical-align: top;\n",
       "    }\n",
       "\n",
       "    .dataframe thead th {\n",
       "        text-align: right;\n",
       "    }\n",
       "</style>\n",
       "<table border=\"1\" class=\"dataframe\">\n",
       "  <thead>\n",
       "    <tr style=\"text-align: right;\">\n",
       "      <th></th>\n",
       "      <th>publisher_id</th>\n",
       "      <th>publisher</th>\n",
       "    </tr>\n",
       "  </thead>\n",
       "  <tbody>\n",
       "    <tr>\n",
       "      <th>0</th>\n",
       "      <td>1</td>\n",
       "      <td>Ace</td>\n",
       "    </tr>\n",
       "    <tr>\n",
       "      <th>1</th>\n",
       "      <td>2</td>\n",
       "      <td>Ace Book</td>\n",
       "    </tr>\n",
       "    <tr>\n",
       "      <th>2</th>\n",
       "      <td>3</td>\n",
       "      <td>Ace Books</td>\n",
       "    </tr>\n",
       "    <tr>\n",
       "      <th>3</th>\n",
       "      <td>4</td>\n",
       "      <td>Ace Hardcover</td>\n",
       "    </tr>\n",
       "    <tr>\n",
       "      <th>4</th>\n",
       "      <td>5</td>\n",
       "      <td>Addison Wesley Publishing Company</td>\n",
       "    </tr>\n",
       "  </tbody>\n",
       "</table>\n",
       "</div>"
      ],
      "text/plain": [
       "   publisher_id                          publisher\n",
       "0             1                                Ace\n",
       "1             2                           Ace Book\n",
       "2             3                          Ace Books\n",
       "3             4                      Ace Hardcover\n",
       "4             5  Addison Wesley Publishing Company"
      ]
     },
     "execution_count": 7,
     "metadata": {},
     "output_type": "execute_result"
    }
   ],
   "source": [
    "query = '''\n",
    "    SELECT * \n",
    "    FROM publishers \n",
    "    LIMIT 5\n",
    "    '''\n",
    "\n",
    "\n",
    "con=engine.connect()\n",
    "pd.io.sql.read_sql(sql=text(query), con = con)"
   ]
  },
  {
   "cell_type": "code",
   "execution_count": 8,
   "metadata": {},
   "outputs": [
    {
     "data": {
      "text/html": [
       "<div>\n",
       "<style scoped>\n",
       "    .dataframe tbody tr th:only-of-type {\n",
       "        vertical-align: middle;\n",
       "    }\n",
       "\n",
       "    .dataframe tbody tr th {\n",
       "        vertical-align: top;\n",
       "    }\n",
       "\n",
       "    .dataframe thead th {\n",
       "        text-align: right;\n",
       "    }\n",
       "</style>\n",
       "<table border=\"1\" class=\"dataframe\">\n",
       "  <thead>\n",
       "    <tr style=\"text-align: right;\">\n",
       "      <th></th>\n",
       "      <th>count</th>\n",
       "    </tr>\n",
       "  </thead>\n",
       "  <tbody>\n",
       "    <tr>\n",
       "      <th>0</th>\n",
       "      <td>340</td>\n",
       "    </tr>\n",
       "  </tbody>\n",
       "</table>\n",
       "</div>"
      ],
      "text/plain": [
       "   count\n",
       "0    340"
      ]
     },
     "execution_count": 8,
     "metadata": {},
     "output_type": "execute_result"
    }
   ],
   "source": [
    "query = '''\n",
    "    SELECT COUNT(*) \n",
    "    FROM publishers \n",
    "    '''\n",
    "\n",
    "\n",
    "con=engine.connect()\n",
    "pd.io.sql.read_sql(sql=text(query), con = con)"
   ]
  },
  {
   "cell_type": "markdown",
   "metadata": {},
   "source": [
    "Описание данных:\n",
    "- `publisher_id` — идентификатор издательства;\n",
    "- `publisher` — название издательства.\n",
    "  \n",
    "2 столбца, 340 строк."
   ]
  },
  {
   "cell_type": "markdown",
   "metadata": {},
   "source": [
    "**Таблица `ratings`**"
   ]
  },
  {
   "cell_type": "code",
   "execution_count": 9,
   "metadata": {},
   "outputs": [
    {
     "data": {
      "text/html": [
       "<div>\n",
       "<style scoped>\n",
       "    .dataframe tbody tr th:only-of-type {\n",
       "        vertical-align: middle;\n",
       "    }\n",
       "\n",
       "    .dataframe tbody tr th {\n",
       "        vertical-align: top;\n",
       "    }\n",
       "\n",
       "    .dataframe thead th {\n",
       "        text-align: right;\n",
       "    }\n",
       "</style>\n",
       "<table border=\"1\" class=\"dataframe\">\n",
       "  <thead>\n",
       "    <tr style=\"text-align: right;\">\n",
       "      <th></th>\n",
       "      <th>rating_id</th>\n",
       "      <th>book_id</th>\n",
       "      <th>username</th>\n",
       "      <th>rating</th>\n",
       "    </tr>\n",
       "  </thead>\n",
       "  <tbody>\n",
       "    <tr>\n",
       "      <th>0</th>\n",
       "      <td>1</td>\n",
       "      <td>1</td>\n",
       "      <td>ryanfranco</td>\n",
       "      <td>4</td>\n",
       "    </tr>\n",
       "    <tr>\n",
       "      <th>1</th>\n",
       "      <td>2</td>\n",
       "      <td>1</td>\n",
       "      <td>grantpatricia</td>\n",
       "      <td>2</td>\n",
       "    </tr>\n",
       "    <tr>\n",
       "      <th>2</th>\n",
       "      <td>3</td>\n",
       "      <td>1</td>\n",
       "      <td>brandtandrea</td>\n",
       "      <td>5</td>\n",
       "    </tr>\n",
       "    <tr>\n",
       "      <th>3</th>\n",
       "      <td>4</td>\n",
       "      <td>2</td>\n",
       "      <td>lorichen</td>\n",
       "      <td>3</td>\n",
       "    </tr>\n",
       "    <tr>\n",
       "      <th>4</th>\n",
       "      <td>5</td>\n",
       "      <td>2</td>\n",
       "      <td>mariokeller</td>\n",
       "      <td>2</td>\n",
       "    </tr>\n",
       "  </tbody>\n",
       "</table>\n",
       "</div>"
      ],
      "text/plain": [
       "   rating_id  book_id       username  rating\n",
       "0          1        1     ryanfranco       4\n",
       "1          2        1  grantpatricia       2\n",
       "2          3        1   brandtandrea       5\n",
       "3          4        2       lorichen       3\n",
       "4          5        2    mariokeller       2"
      ]
     },
     "execution_count": 9,
     "metadata": {},
     "output_type": "execute_result"
    }
   ],
   "source": [
    "query = '''\n",
    "    SELECT * \n",
    "    FROM ratings \n",
    "    LIMIT 5\n",
    "    '''\n",
    "\n",
    "\n",
    "con=engine.connect()\n",
    "pd.io.sql.read_sql(sql=text(query), con = con)"
   ]
  },
  {
   "cell_type": "code",
   "execution_count": 10,
   "metadata": {},
   "outputs": [
    {
     "data": {
      "text/html": [
       "<div>\n",
       "<style scoped>\n",
       "    .dataframe tbody tr th:only-of-type {\n",
       "        vertical-align: middle;\n",
       "    }\n",
       "\n",
       "    .dataframe tbody tr th {\n",
       "        vertical-align: top;\n",
       "    }\n",
       "\n",
       "    .dataframe thead th {\n",
       "        text-align: right;\n",
       "    }\n",
       "</style>\n",
       "<table border=\"1\" class=\"dataframe\">\n",
       "  <thead>\n",
       "    <tr style=\"text-align: right;\">\n",
       "      <th></th>\n",
       "      <th>count</th>\n",
       "    </tr>\n",
       "  </thead>\n",
       "  <tbody>\n",
       "    <tr>\n",
       "      <th>0</th>\n",
       "      <td>6456</td>\n",
       "    </tr>\n",
       "  </tbody>\n",
       "</table>\n",
       "</div>"
      ],
      "text/plain": [
       "   count\n",
       "0   6456"
      ]
     },
     "execution_count": 10,
     "metadata": {},
     "output_type": "execute_result"
    }
   ],
   "source": [
    "query = '''\n",
    "    SELECT COUNT(*) \n",
    "    FROM ratings \n",
    "    '''\n",
    "\n",
    "\n",
    "con=engine.connect()\n",
    "pd.io.sql.read_sql(sql=text(query), con = con)"
   ]
  },
  {
   "cell_type": "markdown",
   "metadata": {},
   "source": [
    "Описание данных:\n",
    "- `rating_id` — идентификатор оценки;\n",
    "- `book_id` — идентификатор книги;\n",
    "- `username` — имя пользователя, оставившего оценку;\n",
    "- `rating` — оценка книги.  \n",
    "  \n",
    "4 столбца, 6456 строк."
   ]
  },
  {
   "cell_type": "markdown",
   "metadata": {},
   "source": [
    "**Таблица `reviews`**"
   ]
  },
  {
   "cell_type": "code",
   "execution_count": 11,
   "metadata": {},
   "outputs": [
    {
     "data": {
      "text/html": [
       "<div>\n",
       "<style scoped>\n",
       "    .dataframe tbody tr th:only-of-type {\n",
       "        vertical-align: middle;\n",
       "    }\n",
       "\n",
       "    .dataframe tbody tr th {\n",
       "        vertical-align: top;\n",
       "    }\n",
       "\n",
       "    .dataframe thead th {\n",
       "        text-align: right;\n",
       "    }\n",
       "</style>\n",
       "<table border=\"1\" class=\"dataframe\">\n",
       "  <thead>\n",
       "    <tr style=\"text-align: right;\">\n",
       "      <th></th>\n",
       "      <th>review_id</th>\n",
       "      <th>book_id</th>\n",
       "      <th>username</th>\n",
       "      <th>text</th>\n",
       "    </tr>\n",
       "  </thead>\n",
       "  <tbody>\n",
       "    <tr>\n",
       "      <th>0</th>\n",
       "      <td>1</td>\n",
       "      <td>1</td>\n",
       "      <td>brandtandrea</td>\n",
       "      <td>Mention society tell send professor analysis. ...</td>\n",
       "    </tr>\n",
       "    <tr>\n",
       "      <th>1</th>\n",
       "      <td>2</td>\n",
       "      <td>1</td>\n",
       "      <td>ryanfranco</td>\n",
       "      <td>Foot glass pretty audience hit themselves. Amo...</td>\n",
       "    </tr>\n",
       "    <tr>\n",
       "      <th>2</th>\n",
       "      <td>3</td>\n",
       "      <td>2</td>\n",
       "      <td>lorichen</td>\n",
       "      <td>Listen treat keep worry. Miss husband tax but ...</td>\n",
       "    </tr>\n",
       "    <tr>\n",
       "      <th>3</th>\n",
       "      <td>4</td>\n",
       "      <td>3</td>\n",
       "      <td>johnsonamanda</td>\n",
       "      <td>Finally month interesting blue could nature cu...</td>\n",
       "    </tr>\n",
       "    <tr>\n",
       "      <th>4</th>\n",
       "      <td>5</td>\n",
       "      <td>3</td>\n",
       "      <td>scotttamara</td>\n",
       "      <td>Nation purpose heavy give wait song will. List...</td>\n",
       "    </tr>\n",
       "  </tbody>\n",
       "</table>\n",
       "</div>"
      ],
      "text/plain": [
       "   review_id  book_id       username  \\\n",
       "0          1        1   brandtandrea   \n",
       "1          2        1     ryanfranco   \n",
       "2          3        2       lorichen   \n",
       "3          4        3  johnsonamanda   \n",
       "4          5        3    scotttamara   \n",
       "\n",
       "                                                text  \n",
       "0  Mention society tell send professor analysis. ...  \n",
       "1  Foot glass pretty audience hit themselves. Amo...  \n",
       "2  Listen treat keep worry. Miss husband tax but ...  \n",
       "3  Finally month interesting blue could nature cu...  \n",
       "4  Nation purpose heavy give wait song will. List...  "
      ]
     },
     "execution_count": 11,
     "metadata": {},
     "output_type": "execute_result"
    }
   ],
   "source": [
    "query = '''\n",
    "    SELECT * \n",
    "    FROM reviews \n",
    "    LIMIT 5\n",
    "    '''\n",
    "\n",
    "\n",
    "con=engine.connect()\n",
    "pd.io.sql.read_sql(sql=text(query), con = con)"
   ]
  },
  {
   "cell_type": "code",
   "execution_count": 12,
   "metadata": {},
   "outputs": [
    {
     "data": {
      "text/html": [
       "<div>\n",
       "<style scoped>\n",
       "    .dataframe tbody tr th:only-of-type {\n",
       "        vertical-align: middle;\n",
       "    }\n",
       "\n",
       "    .dataframe tbody tr th {\n",
       "        vertical-align: top;\n",
       "    }\n",
       "\n",
       "    .dataframe thead th {\n",
       "        text-align: right;\n",
       "    }\n",
       "</style>\n",
       "<table border=\"1\" class=\"dataframe\">\n",
       "  <thead>\n",
       "    <tr style=\"text-align: right;\">\n",
       "      <th></th>\n",
       "      <th>count</th>\n",
       "    </tr>\n",
       "  </thead>\n",
       "  <tbody>\n",
       "    <tr>\n",
       "      <th>0</th>\n",
       "      <td>2793</td>\n",
       "    </tr>\n",
       "  </tbody>\n",
       "</table>\n",
       "</div>"
      ],
      "text/plain": [
       "   count\n",
       "0   2793"
      ]
     },
     "execution_count": 12,
     "metadata": {},
     "output_type": "execute_result"
    }
   ],
   "source": [
    "query = '''\n",
    "    SELECT COUNT(*) \n",
    "    FROM reviews \n",
    "    '''\n",
    "\n",
    "\n",
    "con=engine.connect()\n",
    "pd.io.sql.read_sql(sql=text(query), con = con)"
   ]
  },
  {
   "cell_type": "markdown",
   "metadata": {},
   "source": [
    "Описание данных:\n",
    "- `review_id`— идентификатор обзора;\n",
    "- `book_id` — идентификатор книги;\n",
    "- `username` — имя автора обзора;\n",
    "- `text` — текст обзора.\n",
    "  \n",
    "4 столбца, 2793 строк."
   ]
  },
  {
   "cell_type": "markdown",
   "metadata": {},
   "source": [
    "В нашем распоряжении 5 таблиц:\n",
    "- books - 6 столбцов, 1000 строк,\n",
    "- authors - 2 столбца, 636 строк.\n",
    "- publishers - 2 столбца, 340 строк,\n",
    "- ratings - 4 столбца, 6456 строк,\n",
    "- reviews - 4 столбца, 2793 строк.\n",
    "\n",
    "Схема данных:  \n",
    "![](https://pictures.s3.yandex.net/resources/scheme_1589269096.png)\n"
   ]
  },
  {
   "cell_type": "markdown",
   "metadata": {},
   "source": [
    "## Задача 1 "
   ]
  },
  {
   "cell_type": "markdown",
   "metadata": {},
   "source": [
    "Посчитаем, сколько книг вышло после 1 января 2000 года. <a id='task_1'></a>"
   ]
  },
  {
   "cell_type": "code",
   "execution_count": 13,
   "metadata": {},
   "outputs": [
    {
     "data": {
      "text/html": [
       "<div>\n",
       "<style scoped>\n",
       "    .dataframe tbody tr th:only-of-type {\n",
       "        vertical-align: middle;\n",
       "    }\n",
       "\n",
       "    .dataframe tbody tr th {\n",
       "        vertical-align: top;\n",
       "    }\n",
       "\n",
       "    .dataframe thead th {\n",
       "        text-align: right;\n",
       "    }\n",
       "</style>\n",
       "<table border=\"1\" class=\"dataframe\">\n",
       "  <thead>\n",
       "    <tr style=\"text-align: right;\">\n",
       "      <th></th>\n",
       "      <th>count</th>\n",
       "    </tr>\n",
       "  </thead>\n",
       "  <tbody>\n",
       "    <tr>\n",
       "      <th>0</th>\n",
       "      <td>819</td>\n",
       "    </tr>\n",
       "  </tbody>\n",
       "</table>\n",
       "</div>"
      ],
      "text/plain": [
       "   count\n",
       "0    819"
      ]
     },
     "execution_count": 13,
     "metadata": {},
     "output_type": "execute_result"
    }
   ],
   "source": [
    "query = '''\n",
    "    SELECT COUNT(book_id) \n",
    "    FROM books \n",
    "    WHERE publication_date > '2000-01-01'\n",
    "    '''\n",
    "\n",
    "\n",
    "con=engine.connect()\n",
    "pd.io.sql.read_sql(sql=text(query), con = con)"
   ]
  },
  {
   "cell_type": "markdown",
   "metadata": {},
   "source": [
    "С 1 января 2000 года вышло 819 книг."
   ]
  },
  {
   "cell_type": "markdown",
   "metadata": {},
   "source": [
    "## Задача 2"
   ]
  },
  {
   "cell_type": "markdown",
   "metadata": {},
   "source": [
    "Для каждой книги посчитаем количество обзоров и среднюю оценку. <a id='task_2'></a>"
   ]
  },
  {
   "cell_type": "code",
   "execution_count": 14,
   "metadata": {
    "scrolled": false
   },
   "outputs": [
    {
     "data": {
      "text/html": [
       "<div>\n",
       "<style scoped>\n",
       "    .dataframe tbody tr th:only-of-type {\n",
       "        vertical-align: middle;\n",
       "    }\n",
       "\n",
       "    .dataframe tbody tr th {\n",
       "        vertical-align: top;\n",
       "    }\n",
       "\n",
       "    .dataframe thead th {\n",
       "        text-align: right;\n",
       "    }\n",
       "</style>\n",
       "<table border=\"1\" class=\"dataframe\">\n",
       "  <thead>\n",
       "    <tr style=\"text-align: right;\">\n",
       "      <th></th>\n",
       "      <th>title</th>\n",
       "      <th>reviews</th>\n",
       "      <th>avg_rating</th>\n",
       "    </tr>\n",
       "  </thead>\n",
       "  <tbody>\n",
       "    <tr>\n",
       "      <th>0</th>\n",
       "      <td>Twilight (Twilight  #1)</td>\n",
       "      <td>7</td>\n",
       "      <td>3.662500</td>\n",
       "    </tr>\n",
       "    <tr>\n",
       "      <th>1</th>\n",
       "      <td>Harry Potter and the Prisoner of Azkaban (Harr...</td>\n",
       "      <td>6</td>\n",
       "      <td>4.414634</td>\n",
       "    </tr>\n",
       "    <tr>\n",
       "      <th>2</th>\n",
       "      <td>Harry Potter and the Chamber of Secrets (Harry...</td>\n",
       "      <td>6</td>\n",
       "      <td>4.287500</td>\n",
       "    </tr>\n",
       "    <tr>\n",
       "      <th>3</th>\n",
       "      <td>The Book Thief</td>\n",
       "      <td>6</td>\n",
       "      <td>4.264151</td>\n",
       "    </tr>\n",
       "    <tr>\n",
       "      <th>4</th>\n",
       "      <td>The Glass Castle</td>\n",
       "      <td>6</td>\n",
       "      <td>4.206897</td>\n",
       "    </tr>\n",
       "    <tr>\n",
       "      <th>...</th>\n",
       "      <td>...</td>\n",
       "      <td>...</td>\n",
       "      <td>...</td>\n",
       "    </tr>\n",
       "    <tr>\n",
       "      <th>995</th>\n",
       "      <td>Disney's Beauty and the Beast (A Little Golden...</td>\n",
       "      <td>0</td>\n",
       "      <td>4.000000</td>\n",
       "    </tr>\n",
       "    <tr>\n",
       "      <th>996</th>\n",
       "      <td>Leonardo's Notebooks</td>\n",
       "      <td>0</td>\n",
       "      <td>4.000000</td>\n",
       "    </tr>\n",
       "    <tr>\n",
       "      <th>997</th>\n",
       "      <td>Essential Tales and Poems</td>\n",
       "      <td>0</td>\n",
       "      <td>4.000000</td>\n",
       "    </tr>\n",
       "    <tr>\n",
       "      <th>998</th>\n",
       "      <td>Anne Rice's The Vampire Lestat: A Graphic Novel</td>\n",
       "      <td>0</td>\n",
       "      <td>3.666667</td>\n",
       "    </tr>\n",
       "    <tr>\n",
       "      <th>999</th>\n",
       "      <td>The Natural Way to Draw</td>\n",
       "      <td>0</td>\n",
       "      <td>3.000000</td>\n",
       "    </tr>\n",
       "  </tbody>\n",
       "</table>\n",
       "<p>1000 rows × 3 columns</p>\n",
       "</div>"
      ],
      "text/plain": [
       "                                                 title  reviews  avg_rating\n",
       "0                              Twilight (Twilight  #1)        7    3.662500\n",
       "1    Harry Potter and the Prisoner of Azkaban (Harr...        6    4.414634\n",
       "2    Harry Potter and the Chamber of Secrets (Harry...        6    4.287500\n",
       "3                                       The Book Thief        6    4.264151\n",
       "4                                     The Glass Castle        6    4.206897\n",
       "..                                                 ...      ...         ...\n",
       "995  Disney's Beauty and the Beast (A Little Golden...        0    4.000000\n",
       "996                               Leonardo's Notebooks        0    4.000000\n",
       "997                          Essential Tales and Poems        0    4.000000\n",
       "998    Anne Rice's The Vampire Lestat: A Graphic Novel        0    3.666667\n",
       "999                            The Natural Way to Draw        0    3.000000\n",
       "\n",
       "[1000 rows x 3 columns]"
      ]
     },
     "execution_count": 14,
     "metadata": {},
     "output_type": "execute_result"
    }
   ],
   "source": [
    "query = '''\n",
    "    SELECT b.title,\n",
    "        COUNT(DISTINCT review_id) AS reviews,\n",
    "        AVG(rat.rating) AS avg_rating\n",
    "    FROM books AS b\n",
    "    LEFT JOIN reviews AS rev ON b.book_id =  rev.book_id\n",
    "    LEFT JOIN ratings AS rat ON b.book_id =  rat.book_id\n",
    "    GROUP BY b.book_id, b.title\n",
    "    ORDER BY reviews DESC, avg_rating DESC\n",
    "    '''\n",
    "\n",
    "\n",
    "con=engine.connect()\n",
    "pd.io.sql.read_sql(sql=text(query), con = con)"
   ]
  },
  {
   "cell_type": "markdown",
   "metadata": {},
   "source": [
    "## Задача 3"
   ]
  },
  {
   "cell_type": "markdown",
   "metadata": {},
   "source": [
    "Определим издательство, которое выпустило наибольшее число книг толще 50 страниц, чтобы исключить из анализа брошюры. <a id='task_3'></a>"
   ]
  },
  {
   "cell_type": "code",
   "execution_count": 15,
   "metadata": {},
   "outputs": [
    {
     "data": {
      "text/html": [
       "<div>\n",
       "<style scoped>\n",
       "    .dataframe tbody tr th:only-of-type {\n",
       "        vertical-align: middle;\n",
       "    }\n",
       "\n",
       "    .dataframe tbody tr th {\n",
       "        vertical-align: top;\n",
       "    }\n",
       "\n",
       "    .dataframe thead th {\n",
       "        text-align: right;\n",
       "    }\n",
       "</style>\n",
       "<table border=\"1\" class=\"dataframe\">\n",
       "  <thead>\n",
       "    <tr style=\"text-align: right;\">\n",
       "      <th></th>\n",
       "      <th>publisher</th>\n",
       "      <th>books</th>\n",
       "    </tr>\n",
       "  </thead>\n",
       "  <tbody>\n",
       "    <tr>\n",
       "      <th>0</th>\n",
       "      <td>Penguin Books</td>\n",
       "      <td>42</td>\n",
       "    </tr>\n",
       "  </tbody>\n",
       "</table>\n",
       "</div>"
      ],
      "text/plain": [
       "       publisher  books\n",
       "0  Penguin Books     42"
      ]
     },
     "execution_count": 15,
     "metadata": {},
     "output_type": "execute_result"
    }
   ],
   "source": [
    "query = '''\n",
    "    SELECT p.publisher,\n",
    "        COUNT(b.book_id) AS books\n",
    "    FROM books AS b\n",
    "    LEFT JOIN publishers AS p ON b.publisher_id=p.publisher_id\n",
    "    WHERE b.num_pages > 50\n",
    "    GROUP BY b.publisher_id, p.publisher\n",
    "    ORDER BY books DESC\n",
    "    LIMIT 1\n",
    "    '''\n",
    "\n",
    "\n",
    "con=engine.connect()\n",
    "pd.io.sql.read_sql(sql=text(query), con = con)"
   ]
  },
  {
   "cell_type": "markdown",
   "metadata": {},
   "source": [
    "Издательство Penguin Books выпустило 42 книги более 50 страниц."
   ]
  },
  {
   "cell_type": "markdown",
   "metadata": {},
   "source": [
    "## Задача 4 "
   ]
  },
  {
   "cell_type": "markdown",
   "metadata": {},
   "source": [
    "Определим автора с самой высокой средней оценкой книг, учитывая только книги с 50 и более оценками. <a id='task_4'></a>"
   ]
  },
  {
   "cell_type": "code",
   "execution_count": 16,
   "metadata": {},
   "outputs": [
    {
     "data": {
      "text/html": [
       "<div>\n",
       "<style scoped>\n",
       "    .dataframe tbody tr th:only-of-type {\n",
       "        vertical-align: middle;\n",
       "    }\n",
       "\n",
       "    .dataframe tbody tr th {\n",
       "        vertical-align: top;\n",
       "    }\n",
       "\n",
       "    .dataframe thead th {\n",
       "        text-align: right;\n",
       "    }\n",
       "</style>\n",
       "<table border=\"1\" class=\"dataframe\">\n",
       "  <thead>\n",
       "    <tr style=\"text-align: right;\">\n",
       "      <th></th>\n",
       "      <th>author</th>\n",
       "      <th>avg_rating</th>\n",
       "    </tr>\n",
       "  </thead>\n",
       "  <tbody>\n",
       "    <tr>\n",
       "      <th>0</th>\n",
       "      <td>J.K. Rowling/Mary GrandPré</td>\n",
       "      <td>4.287097</td>\n",
       "    </tr>\n",
       "  </tbody>\n",
       "</table>\n",
       "</div>"
      ],
      "text/plain": [
       "                       author  avg_rating\n",
       "0  J.K. Rowling/Mary GrandPré    4.287097"
      ]
     },
     "execution_count": 16,
     "metadata": {},
     "output_type": "execute_result"
    }
   ],
   "source": [
    "query = '''\n",
    "    SELECT a.author,\n",
    "            AVG(r.rating) AS avg_rating\n",
    "    FROM books AS b\n",
    "    LEFT JOIN ratings AS r ON b.book_id =  r.book_id\n",
    "    LEFT JOIN authors AS a ON b.author_id =  a.author_id\n",
    "    WHERE b.book_id IN (\n",
    "        SELECT book_id\n",
    "        FROM ratings\n",
    "        GROUP BY book_id\n",
    "        HAVING COUNT(rating_id) >= 50)\n",
    "    GROUP BY a.author_id, a.author\n",
    "    ORDER BY avg_rating DESC\n",
    "    LIMIT 1\n",
    "    '''\n",
    "\n",
    "\n",
    "con=engine.connect()\n",
    "pd.io.sql.read_sql(sql=text(query), con = con)"
   ]
  },
  {
   "cell_type": "markdown",
   "metadata": {},
   "source": [
    "Автором с самой высокой средней оценкой книг, учитывая только книги с 50 и более оценками, является Джоан Роулинг, совместно с Мэри ГрандПре."
   ]
  },
  {
   "cell_type": "markdown",
   "metadata": {},
   "source": [
    "## Задача 5"
   ]
  },
  {
   "cell_type": "markdown",
   "metadata": {},
   "source": [
    "Посчитаем среднее количество обзоров от пользователей, которые поставили больше 48 оценок. <a id='task_5'></a>"
   ]
  },
  {
   "cell_type": "code",
   "execution_count": 17,
   "metadata": {},
   "outputs": [
    {
     "data": {
      "text/html": [
       "<div>\n",
       "<style scoped>\n",
       "    .dataframe tbody tr th:only-of-type {\n",
       "        vertical-align: middle;\n",
       "    }\n",
       "\n",
       "    .dataframe tbody tr th {\n",
       "        vertical-align: top;\n",
       "    }\n",
       "\n",
       "    .dataframe thead th {\n",
       "        text-align: right;\n",
       "    }\n",
       "</style>\n",
       "<table border=\"1\" class=\"dataframe\">\n",
       "  <thead>\n",
       "    <tr style=\"text-align: right;\">\n",
       "      <th></th>\n",
       "      <th>avg_rev_count</th>\n",
       "    </tr>\n",
       "  </thead>\n",
       "  <tbody>\n",
       "    <tr>\n",
       "      <th>0</th>\n",
       "      <td>24.0</td>\n",
       "    </tr>\n",
       "  </tbody>\n",
       "</table>\n",
       "</div>"
      ],
      "text/plain": [
       "   avg_rev_count\n",
       "0           24.0"
      ]
     },
     "execution_count": 17,
     "metadata": {},
     "output_type": "execute_result"
    }
   ],
   "source": [
    "query = '''\n",
    "    SELECT AVG(COUNT(review_id)) OVER () AS avg_rev_count\n",
    "    FROM reviews\n",
    "    WHERE username in (\n",
    "        SELECT username \n",
    "        FROM  ratings\n",
    "        GROUP BY username\n",
    "        HAVING COUNT(rating_id) > 48)\n",
    "    GROUP BY username\n",
    "    LIMIT 1\n",
    "    '''\n",
    "\n",
    "\n",
    "con=engine.connect()\n",
    "pd.io.sql.read_sql(sql=text(query), con = con)"
   ]
  },
  {
   "cell_type": "markdown",
   "metadata": {},
   "source": [
    "Cреднее количество обзоров от пользователей, которые поставили больше 48 оценок - 24."
   ]
  },
  {
   "cell_type": "markdown",
   "metadata": {},
   "source": [
    "## Вывод"
   ]
  },
  {
   "cell_type": "markdown",
   "metadata": {},
   "source": [
    "Мы проанализировали базу данных купленного нашей компанией сервиса для чтения книг по подписке:\n",
    "- с 1 января 2000 года вышло 819 книг;\n",
    "- для каждой книги посчитали количество обзоров и среднюю оценку и вывели на экран;\n",
    "- определили издательство, которое выпустило наибольшее число книг толще 50 страниц, им оказалось Penguin Books - оно выпустило 42 книги;\n",
    "- определили автора с самой высокой средней оценкой книг, учитывая только книги с 50 и более оценками - им оказалась Джоан Роулинг, совместно с Мэри ГрандПре;\n",
    "- посчитали среднее количество обзоров от пользователей, которые поставили больше 48 оценок - 24 обзора."
   ]
  },
  {
   "cell_type": "markdown",
   "metadata": {},
   "source": [
    "## Рекомендации"
   ]
  },
  {
   "cell_type": "markdown",
   "metadata": {},
   "source": [
    "Рекомендуем обратить внимание на книги Джоан Роулинг, как самые высокооцененные, а также на издательство Penguin Books, как посталяющее больше всего книг, для наполнения сервиса.  "
   ]
  }
 ],
 "metadata": {
  "ExecuteTimeLog": [
   {
    "duration": 543,
    "start_time": "2023-10-17T06:45:35.993Z"
   },
   {
    "duration": 10277,
    "start_time": "2023-10-17T06:45:39.399Z"
   },
   {
    "duration": 5,
    "start_time": "2023-10-17T06:46:53.663Z"
   },
   {
    "duration": 75,
    "start_time": "2023-10-17T06:49:07.739Z"
   },
   {
    "duration": 265,
    "start_time": "2023-10-17T06:49:12.884Z"
   },
   {
    "duration": 137,
    "start_time": "2023-10-17T06:50:42.454Z"
   },
   {
    "duration": 53,
    "start_time": "2023-10-17T06:52:59.175Z"
   },
   {
    "duration": 51,
    "start_time": "2023-10-17T06:55:14.684Z"
   },
   {
    "duration": 51,
    "start_time": "2023-10-17T06:57:16.295Z"
   },
   {
    "duration": 55,
    "start_time": "2023-10-17T06:58:54.940Z"
   },
   {
    "duration": 50,
    "start_time": "2023-10-17T06:59:07.155Z"
   },
   {
    "duration": 54,
    "start_time": "2023-10-17T07:01:31.581Z"
   },
   {
    "duration": 54,
    "start_time": "2023-10-17T07:01:47.556Z"
   },
   {
    "duration": 53,
    "start_time": "2023-10-17T07:03:29.511Z"
   },
   {
    "duration": 55,
    "start_time": "2023-10-17T07:03:31.926Z"
   },
   {
    "duration": 52,
    "start_time": "2023-10-17T08:00:43.802Z"
   },
   {
    "duration": 53,
    "start_time": "2023-10-17T08:06:27.161Z"
   },
   {
    "duration": 51,
    "start_time": "2023-10-17T08:08:56.433Z"
   },
   {
    "duration": 54,
    "start_time": "2023-10-17T08:09:05.293Z"
   },
   {
    "duration": 57,
    "start_time": "2023-10-17T08:09:30.377Z"
   },
   {
    "duration": 54,
    "start_time": "2023-10-17T08:11:10.953Z"
   },
   {
    "duration": 53,
    "start_time": "2023-10-17T08:15:28.042Z"
   },
   {
    "duration": 54,
    "start_time": "2023-10-17T08:15:43.288Z"
   },
   {
    "duration": 53,
    "start_time": "2023-10-17T08:15:56.353Z"
   },
   {
    "duration": 52,
    "start_time": "2023-10-17T08:16:02.434Z"
   },
   {
    "duration": 53,
    "start_time": "2023-10-17T08:16:28.923Z"
   },
   {
    "duration": 54,
    "start_time": "2023-10-17T08:16:34.192Z"
   },
   {
    "duration": 59,
    "start_time": "2023-10-17T08:18:16.393Z"
   },
   {
    "duration": 57,
    "start_time": "2023-10-17T08:19:48.898Z"
   },
   {
    "duration": 148,
    "start_time": "2023-10-17T08:20:25.693Z"
   },
   {
    "duration": 50,
    "start_time": "2023-10-17T08:20:37.347Z"
   },
   {
    "duration": 132,
    "start_time": "2023-10-17T08:22:18.679Z"
   },
   {
    "duration": 62,
    "start_time": "2023-10-17T08:23:52.719Z"
   },
   {
    "duration": 63,
    "start_time": "2023-10-17T08:25:16.484Z"
   },
   {
    "duration": 75,
    "start_time": "2023-10-17T08:25:33.354Z"
   },
   {
    "duration": 52,
    "start_time": "2023-10-17T08:26:02.134Z"
   },
   {
    "duration": 132,
    "start_time": "2023-10-17T08:27:56.699Z"
   },
   {
    "duration": 72,
    "start_time": "2023-10-17T08:30:55.450Z"
   },
   {
    "duration": 62,
    "start_time": "2023-10-17T08:31:16.320Z"
   },
   {
    "duration": 71,
    "start_time": "2023-10-17T08:32:05.230Z"
   },
   {
    "duration": 140,
    "start_time": "2023-10-17T08:33:04.740Z"
   },
   {
    "duration": 126,
    "start_time": "2023-10-17T08:33:13.903Z"
   },
   {
    "duration": 57,
    "start_time": "2023-10-17T08:36:09.040Z"
   },
   {
    "duration": 60,
    "start_time": "2023-10-17T08:37:28.720Z"
   },
   {
    "duration": 71,
    "start_time": "2023-10-17T08:38:30.341Z"
   },
   {
    "duration": 61,
    "start_time": "2023-10-17T08:38:47.605Z"
   },
   {
    "duration": 61,
    "start_time": "2023-10-17T08:38:51.791Z"
   },
   {
    "duration": 62,
    "start_time": "2023-10-17T08:39:02.080Z"
   },
   {
    "duration": 49,
    "start_time": "2023-10-17T08:39:11.305Z"
   },
   {
    "duration": 72,
    "start_time": "2023-10-17T08:51:21.918Z"
   },
   {
    "duration": 47,
    "start_time": "2023-10-17T08:51:32.217Z"
   },
   {
    "duration": 62,
    "start_time": "2023-10-17T08:54:04.023Z"
   },
   {
    "duration": 60,
    "start_time": "2023-10-17T08:54:13.207Z"
   },
   {
    "duration": 73,
    "start_time": "2023-10-17T08:55:15.722Z"
   },
   {
    "duration": 64,
    "start_time": "2023-10-17T08:55:58.011Z"
   },
   {
    "duration": 62,
    "start_time": "2023-10-17T08:57:13.271Z"
   },
   {
    "duration": 68,
    "start_time": "2023-10-17T08:57:25.842Z"
   },
   {
    "duration": 70,
    "start_time": "2023-10-17T08:57:32.938Z"
   },
   {
    "duration": 66,
    "start_time": "2023-10-17T08:57:52.855Z"
   },
   {
    "duration": 67,
    "start_time": "2023-10-17T08:58:08.700Z"
   },
   {
    "duration": 70,
    "start_time": "2023-10-17T08:58:25.137Z"
   },
   {
    "duration": 80,
    "start_time": "2023-10-17T08:59:16.807Z"
   },
   {
    "duration": 55,
    "start_time": "2023-10-17T08:59:24.652Z"
   },
   {
    "duration": 59,
    "start_time": "2023-10-17T08:59:36.707Z"
   },
   {
    "duration": 60,
    "start_time": "2023-10-17T09:01:48.991Z"
   },
   {
    "duration": 71,
    "start_time": "2023-10-17T09:01:50.992Z"
   },
   {
    "duration": 75,
    "start_time": "2023-10-17T09:08:01.507Z"
   },
   {
    "duration": 64,
    "start_time": "2023-10-17T09:09:05.112Z"
   },
   {
    "duration": 62,
    "start_time": "2023-10-17T09:09:37.610Z"
   },
   {
    "duration": 132,
    "start_time": "2023-10-17T09:10:19.310Z"
   },
   {
    "duration": 171,
    "start_time": "2023-10-17T09:13:54.015Z"
   },
   {
    "duration": 49,
    "start_time": "2023-10-17T09:14:14.575Z"
   },
   {
    "duration": 165,
    "start_time": "2023-10-17T09:19:17.521Z"
   },
   {
    "duration": 43,
    "start_time": "2023-10-17T09:19:37.256Z"
   },
   {
    "duration": 72,
    "start_time": "2023-10-17T09:24:48.737Z"
   },
   {
    "duration": 70,
    "start_time": "2023-10-17T09:26:25.862Z"
   },
   {
    "duration": 77,
    "start_time": "2023-10-17T09:26:34.911Z"
   },
   {
    "duration": 169,
    "start_time": "2023-10-17T09:27:05.096Z"
   },
   {
    "duration": 158,
    "start_time": "2023-10-17T09:27:21.141Z"
   },
   {
    "duration": 161,
    "start_time": "2023-10-17T09:27:47.773Z"
   },
   {
    "duration": 71,
    "start_time": "2023-10-17T09:28:00.827Z"
   },
   {
    "duration": 68,
    "start_time": "2023-10-17T09:28:35.212Z"
   },
   {
    "duration": 57,
    "start_time": "2023-10-17T09:32:54.645Z"
   },
   {
    "duration": 55,
    "start_time": "2023-10-17T09:33:39.871Z"
   },
   {
    "duration": 56,
    "start_time": "2023-10-17T09:35:50.477Z"
   },
   {
    "duration": 89,
    "start_time": "2023-10-17T09:37:09.216Z"
   },
   {
    "duration": 45,
    "start_time": "2023-10-17T09:38:24.496Z"
   },
   {
    "duration": 62,
    "start_time": "2023-10-17T09:38:38.026Z"
   },
   {
    "duration": 56,
    "start_time": "2023-10-17T09:39:40.716Z"
   },
   {
    "duration": 102,
    "start_time": "2023-10-17T09:46:27.707Z"
   },
   {
    "duration": 603,
    "start_time": "2023-10-17T09:49:57.832Z"
   },
   {
    "duration": 14571,
    "start_time": "2023-10-17T09:49:58.437Z"
   },
   {
    "duration": 290,
    "start_time": "2023-10-17T09:50:13.009Z"
   },
   {
    "duration": 139,
    "start_time": "2023-10-17T09:50:13.301Z"
   },
   {
    "duration": 64,
    "start_time": "2023-10-17T09:50:13.442Z"
   },
   {
    "duration": 67,
    "start_time": "2023-10-17T09:50:13.507Z"
   },
   {
    "duration": 53,
    "start_time": "2023-10-17T09:50:13.576Z"
   },
   {
    "duration": 60,
    "start_time": "2023-10-17T09:50:13.630Z"
   },
   {
    "duration": 58,
    "start_time": "2023-10-17T09:50:13.692Z"
   },
   {
    "duration": 62,
    "start_time": "2023-10-17T09:50:13.752Z"
   },
   {
    "duration": 61,
    "start_time": "2023-10-17T09:50:13.815Z"
   },
   {
    "duration": 53,
    "start_time": "2023-10-17T09:50:13.878Z"
   },
   {
    "duration": 65,
    "start_time": "2023-10-17T09:50:13.932Z"
   },
   {
    "duration": 95,
    "start_time": "2023-10-17T09:50:14.001Z"
   },
   {
    "duration": 56,
    "start_time": "2023-10-17T09:50:14.098Z"
   },
   {
    "duration": 65,
    "start_time": "2023-10-17T09:50:14.157Z"
   },
   {
    "duration": 78,
    "start_time": "2023-10-17T09:50:14.223Z"
   },
   {
    "duration": 554,
    "start_time": "2023-10-17T10:05:21.769Z"
   },
   {
    "duration": 14874,
    "start_time": "2023-10-17T10:05:22.325Z"
   },
   {
    "duration": 253,
    "start_time": "2023-10-17T10:05:37.200Z"
   },
   {
    "duration": 170,
    "start_time": "2023-10-17T10:05:37.458Z"
   },
   {
    "duration": 60,
    "start_time": "2023-10-17T10:05:37.630Z"
   },
   {
    "duration": 52,
    "start_time": "2023-10-17T10:05:37.692Z"
   },
   {
    "duration": 54,
    "start_time": "2023-10-17T10:05:37.746Z"
   },
   {
    "duration": 71,
    "start_time": "2023-10-17T10:05:37.803Z"
   },
   {
    "duration": 53,
    "start_time": "2023-10-17T10:05:37.876Z"
   },
   {
    "duration": 59,
    "start_time": "2023-10-17T10:05:37.931Z"
   },
   {
    "duration": 53,
    "start_time": "2023-10-17T10:05:37.992Z"
   },
   {
    "duration": 56,
    "start_time": "2023-10-17T10:05:38.047Z"
   },
   {
    "duration": 60,
    "start_time": "2023-10-17T10:05:38.106Z"
   },
   {
    "duration": 113,
    "start_time": "2023-10-17T10:05:38.168Z"
   },
   {
    "duration": 57,
    "start_time": "2023-10-17T10:05:38.283Z"
   },
   {
    "duration": 62,
    "start_time": "2023-10-17T10:05:38.342Z"
   },
   {
    "duration": 61,
    "start_time": "2023-10-17T10:05:38.406Z"
   },
   {
    "duration": 585,
    "start_time": "2023-10-17T14:37:25.268Z"
   },
   {
    "duration": 18597,
    "start_time": "2023-10-17T14:37:25.857Z"
   },
   {
    "duration": 58,
    "start_time": "2023-10-17T14:37:44.457Z"
   },
   {
    "duration": 36,
    "start_time": "2023-10-17T14:37:44.518Z"
   },
   {
    "duration": 13,
    "start_time": "2023-10-17T14:37:44.556Z"
   },
   {
    "duration": 27,
    "start_time": "2023-10-17T14:37:44.571Z"
   },
   {
    "duration": 24,
    "start_time": "2023-10-17T14:37:44.600Z"
   },
   {
    "duration": 97,
    "start_time": "2023-10-17T14:37:44.626Z"
   },
   {
    "duration": 227,
    "start_time": "2023-10-17T14:37:44.725Z"
   },
   {
    "duration": 27,
    "start_time": "2023-10-17T14:37:44.954Z"
   },
   {
    "duration": 60,
    "start_time": "2023-10-17T14:37:44.983Z"
   },
   {
    "duration": 46,
    "start_time": "2023-10-17T14:37:45.045Z"
   },
   {
    "duration": 39,
    "start_time": "2023-10-17T14:37:45.093Z"
   },
   {
    "duration": 54,
    "start_time": "2023-10-17T14:37:45.134Z"
   },
   {
    "duration": 13,
    "start_time": "2023-10-17T14:37:45.190Z"
   },
   {
    "duration": 69,
    "start_time": "2023-10-17T14:37:45.205Z"
   },
   {
    "duration": 29,
    "start_time": "2023-10-17T14:37:45.277Z"
   },
   {
    "duration": 19,
    "start_time": "2023-10-17T14:38:46.702Z"
   },
   {
    "duration": 17,
    "start_time": "2023-10-17T14:38:47.889Z"
   },
   {
    "duration": 49,
    "start_time": "2023-10-17T14:45:26.478Z"
   },
   {
    "duration": 567,
    "start_time": "2023-10-17T14:45:36.304Z"
   },
   {
    "duration": 10563,
    "start_time": "2023-10-17T14:45:36.873Z"
   },
   {
    "duration": 234,
    "start_time": "2023-10-17T14:45:47.438Z"
   },
   {
    "duration": 128,
    "start_time": "2023-10-17T14:45:47.674Z"
   },
   {
    "duration": 52,
    "start_time": "2023-10-17T14:45:47.804Z"
   },
   {
    "duration": 53,
    "start_time": "2023-10-17T14:45:47.858Z"
   },
   {
    "duration": 52,
    "start_time": "2023-10-17T14:45:47.913Z"
   },
   {
    "duration": 53,
    "start_time": "2023-10-17T14:45:47.967Z"
   },
   {
    "duration": 53,
    "start_time": "2023-10-17T14:45:48.022Z"
   },
   {
    "duration": 52,
    "start_time": "2023-10-17T14:45:48.078Z"
   },
   {
    "duration": 54,
    "start_time": "2023-10-17T14:45:48.132Z"
   },
   {
    "duration": 52,
    "start_time": "2023-10-17T14:45:48.188Z"
   },
   {
    "duration": 52,
    "start_time": "2023-10-17T14:45:48.242Z"
   },
   {
    "duration": 0,
    "start_time": "2023-10-17T14:45:48.398Z"
   },
   {
    "duration": 62,
    "start_time": "2023-10-17T14:46:01.864Z"
   },
   {
    "duration": 167,
    "start_time": "2023-10-17T14:46:18.688Z"
   },
   {
    "duration": 187,
    "start_time": "2023-10-17T14:47:19.105Z"
   },
   {
    "duration": 85,
    "start_time": "2023-10-17T14:47:24.123Z"
   },
   {
    "duration": 73,
    "start_time": "2023-10-17T14:48:33.287Z"
   },
   {
    "duration": 82,
    "start_time": "2023-10-17T14:48:53.339Z"
   },
   {
    "duration": 75,
    "start_time": "2023-10-17T14:49:13.385Z"
   },
   {
    "duration": 62,
    "start_time": "2023-10-17T14:49:37.876Z"
   },
   {
    "duration": 149,
    "start_time": "2023-10-17T14:49:50.285Z"
   },
   {
    "duration": 169,
    "start_time": "2023-10-17T14:49:57.879Z"
   },
   {
    "duration": 91,
    "start_time": "2023-10-17T14:50:25.624Z"
   },
   {
    "duration": 93,
    "start_time": "2023-10-17T14:50:31.624Z"
   },
   {
    "duration": 93,
    "start_time": "2023-10-17T14:51:03.039Z"
   },
   {
    "duration": 88,
    "start_time": "2023-10-17T14:54:46.491Z"
   },
   {
    "duration": 520,
    "start_time": "2023-10-17T14:58:03.527Z"
   },
   {
    "duration": 10494,
    "start_time": "2023-10-17T14:58:04.049Z"
   },
   {
    "duration": 237,
    "start_time": "2023-10-17T14:58:14.547Z"
   },
   {
    "duration": 126,
    "start_time": "2023-10-17T14:58:14.786Z"
   },
   {
    "duration": 52,
    "start_time": "2023-10-17T14:58:14.914Z"
   },
   {
    "duration": 51,
    "start_time": "2023-10-17T14:58:14.968Z"
   },
   {
    "duration": 53,
    "start_time": "2023-10-17T14:58:15.020Z"
   },
   {
    "duration": 56,
    "start_time": "2023-10-17T14:58:15.075Z"
   },
   {
    "duration": 135,
    "start_time": "2023-10-17T14:58:15.133Z"
   },
   {
    "duration": 53,
    "start_time": "2023-10-17T14:58:15.270Z"
   },
   {
    "duration": 54,
    "start_time": "2023-10-17T14:58:15.325Z"
   },
   {
    "duration": 52,
    "start_time": "2023-10-17T14:58:15.380Z"
   },
   {
    "duration": 52,
    "start_time": "2023-10-17T14:58:15.434Z"
   },
   {
    "duration": 90,
    "start_time": "2023-10-17T14:58:15.488Z"
   },
   {
    "duration": 54,
    "start_time": "2023-10-17T14:58:15.580Z"
   },
   {
    "duration": 56,
    "start_time": "2023-10-17T14:58:15.636Z"
   },
   {
    "duration": 55,
    "start_time": "2023-10-17T14:58:15.694Z"
   },
   {
    "duration": 91,
    "start_time": "2023-10-17T15:01:10.797Z"
   },
   {
    "duration": 490,
    "start_time": "2023-10-17T15:01:21.916Z"
   },
   {
    "duration": 94,
    "start_time": "2023-10-17T15:01:44.627Z"
   },
   {
    "duration": 135,
    "start_time": "2023-10-17T15:02:21.568Z"
   },
   {
    "duration": 61,
    "start_time": "2023-10-17T15:02:28.167Z"
   },
   {
    "duration": 431,
    "start_time": "2023-10-17T15:02:44.887Z"
   },
   {
    "duration": 102,
    "start_time": "2023-10-17T15:07:02.717Z"
   },
   {
    "duration": 109,
    "start_time": "2023-10-17T15:07:18.290Z"
   },
   {
    "duration": 85,
    "start_time": "2023-10-17T15:10:18.681Z"
   },
   {
    "duration": 61,
    "start_time": "2023-10-17T15:11:04.905Z"
   },
   {
    "duration": 132,
    "start_time": "2023-10-17T15:11:43.741Z"
   },
   {
    "duration": 187,
    "start_time": "2023-10-17T15:12:33.945Z"
   },
   {
    "duration": 105,
    "start_time": "2023-10-17T15:13:04.820Z"
   },
   {
    "duration": 85,
    "start_time": "2023-10-17T15:13:27.168Z"
   },
   {
    "duration": 84,
    "start_time": "2023-10-17T15:13:56.680Z"
   },
   {
    "duration": 92,
    "start_time": "2023-10-17T15:14:23.711Z"
   },
   {
    "duration": 476,
    "start_time": "2023-10-17T15:16:41.601Z"
   },
   {
    "duration": 88,
    "start_time": "2023-10-17T15:17:04.997Z"
   },
   {
    "duration": 555,
    "start_time": "2023-10-17T15:18:45.095Z"
   },
   {
    "duration": 10608,
    "start_time": "2023-10-17T15:18:45.652Z"
   },
   {
    "duration": 217,
    "start_time": "2023-10-17T15:18:56.261Z"
   },
   {
    "duration": 123,
    "start_time": "2023-10-17T15:18:56.480Z"
   },
   {
    "duration": 52,
    "start_time": "2023-10-17T15:18:56.605Z"
   },
   {
    "duration": 50,
    "start_time": "2023-10-17T15:18:56.658Z"
   },
   {
    "duration": 52,
    "start_time": "2023-10-17T15:18:56.710Z"
   },
   {
    "duration": 50,
    "start_time": "2023-10-17T15:18:56.764Z"
   },
   {
    "duration": 52,
    "start_time": "2023-10-17T15:18:56.816Z"
   },
   {
    "duration": 51,
    "start_time": "2023-10-17T15:18:56.871Z"
   },
   {
    "duration": 53,
    "start_time": "2023-10-17T15:18:56.924Z"
   },
   {
    "duration": 51,
    "start_time": "2023-10-17T15:18:56.979Z"
   },
   {
    "duration": 51,
    "start_time": "2023-10-17T15:18:57.031Z"
   },
   {
    "duration": 89,
    "start_time": "2023-10-17T15:18:57.084Z"
   },
   {
    "duration": 52,
    "start_time": "2023-10-17T15:18:57.175Z"
   },
   {
    "duration": 57,
    "start_time": "2023-10-17T15:18:57.229Z"
   },
   {
    "duration": 55,
    "start_time": "2023-10-17T15:18:57.288Z"
   },
   {
    "duration": 595,
    "start_time": "2023-10-18T04:31:58.777Z"
   },
   {
    "duration": 12668,
    "start_time": "2023-10-18T04:31:59.374Z"
   },
   {
    "duration": 235,
    "start_time": "2023-10-18T04:32:12.043Z"
   },
   {
    "duration": 125,
    "start_time": "2023-10-18T04:32:12.281Z"
   },
   {
    "duration": 56,
    "start_time": "2023-10-18T04:32:12.408Z"
   },
   {
    "duration": 54,
    "start_time": "2023-10-18T04:32:12.467Z"
   },
   {
    "duration": 56,
    "start_time": "2023-10-18T04:32:12.523Z"
   },
   {
    "duration": 54,
    "start_time": "2023-10-18T04:32:12.582Z"
   },
   {
    "duration": 55,
    "start_time": "2023-10-18T04:32:12.639Z"
   },
   {
    "duration": 54,
    "start_time": "2023-10-18T04:32:12.698Z"
   },
   {
    "duration": 52,
    "start_time": "2023-10-18T04:32:12.754Z"
   },
   {
    "duration": 52,
    "start_time": "2023-10-18T04:32:12.808Z"
   },
   {
    "duration": 52,
    "start_time": "2023-10-18T04:32:12.862Z"
   },
   {
    "duration": 91,
    "start_time": "2023-10-18T04:32:12.915Z"
   },
   {
    "duration": 53,
    "start_time": "2023-10-18T04:32:13.007Z"
   },
   {
    "duration": 57,
    "start_time": "2023-10-18T04:32:13.061Z"
   },
   {
    "duration": 54,
    "start_time": "2023-10-18T04:32:13.120Z"
   }
  ],
  "kernelspec": {
   "display_name": "Python 3 (ipykernel)",
   "language": "python",
   "name": "python3"
  },
  "language_info": {
   "codemirror_mode": {
    "name": "ipython",
    "version": 3
   },
   "file_extension": ".py",
   "mimetype": "text/x-python",
   "name": "python",
   "nbconvert_exporter": "python",
   "pygments_lexer": "ipython3",
   "version": "3.10.9"
  },
  "toc": {
   "base_numbering": 1,
   "nav_menu": {},
   "number_sections": true,
   "sideBar": true,
   "skip_h1_title": true,
   "title_cell": "Table of Contents",
   "title_sidebar": "Contents",
   "toc_cell": false,
   "toc_position": {},
   "toc_section_display": true,
   "toc_window_display": false
  }
 },
 "nbformat": 4,
 "nbformat_minor": 2
}
